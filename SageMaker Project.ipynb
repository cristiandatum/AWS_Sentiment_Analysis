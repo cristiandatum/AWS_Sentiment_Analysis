{
 "cells": [
  {
   "cell_type": "markdown",
   "metadata": {},
   "source": [
    "# Creating a Sentiment Analysis Web App\n",
    "## Using PyTorch and SageMaker\n",
    "\n",
    "_Deep Learning Nanodegree Program | Deployment_\n",
    "\n",
    "---\n",
    "\n",
    "Now that we have a basic understanding of how SageMaker works we will try to use it to construct a complete project from end to end. Our goal will be to have a simple web page which a user can use to enter a movie review. The web page will then send the review off to our deployed model which will predict the sentiment of the entered review.\n",
    "\n",
    "## Instructions\n",
    "\n",
    "Some template code has already been provided for you, and you will need to implement additional functionality to successfully complete this notebook. You will not need to modify the included code beyond what is requested. Sections that begin with '**TODO**' in the header indicate that you need to complete or implement some portion within them. Instructions will be provided for each section and the specifics of the implementation are marked in the code block with a `# TODO: ...` comment. Please be sure to read the instructions carefully!\n",
    "\n",
    "In addition to implementing code, there will be questions for you to answer which relate to the task and your implementation. Each section where you will answer a question is preceded by a '**Question:**' header. Carefully read each question and provide your answer below the '**Answer:**' header by editing the Markdown cell.\n",
    "\n",
    "> **Note**: Code and Markdown cells can be executed using the **Shift+Enter** keyboard shortcut. In addition, a cell can be edited by typically clicking it (double-click for Markdown cells) or by pressing **Enter** while it is highlighted.\n",
    "\n",
    "## General Outline\n",
    "\n",
    "Recall the general outline for SageMaker projects using a notebook instance.\n",
    "\n",
    "1. Download or otherwise retrieve the data.\n",
    "2. Process / Prepare the data.\n",
    "3. Upload the processed data to S3.\n",
    "4. Train a chosen model.\n",
    "5. Test the trained model (typically using a batch transform job).\n",
    "6. Deploy the trained model.\n",
    "7. Use the deployed model.\n",
    "\n",
    "For this project, you will be following the steps in the general outline with some modifications. \n",
    "\n",
    "First, you will not be testing the model in its own step. You will still be testing the model, however, you will do it by deploying your model and then using the deployed model by sending the test data to it. One of the reasons for doing this is so that you can make sure that your deployed model is working correctly before moving forward.\n",
    "\n",
    "In addition, you will deploy and use your trained model a second time. In the second iteration you will customize the way that your trained model is deployed by including some of your own code. In addition, your newly deployed model will be used in the sentiment analysis web app."
   ]
  },
  {
   "cell_type": "markdown",
   "metadata": {},
   "source": [
    "## Step 1: Downloading the data\n",
    "\n",
    "As in the XGBoost in SageMaker notebook, we will be using the [IMDb dataset](http://ai.stanford.edu/~amaas/data/sentiment/)\n",
    "\n",
    "> Maas, Andrew L., et al. [Learning Word Vectors for Sentiment Analysis](http://ai.stanford.edu/~amaas/data/sentiment/). In _Proceedings of the 49th Annual Meeting of the Association for Computational Linguistics: Human Language Technologies_. Association for Computational Linguistics, 2011."
   ]
  },
  {
   "cell_type": "code",
   "execution_count": 1,
   "metadata": {},
   "outputs": [
    {
     "name": "stdout",
     "output_type": "stream",
     "text": [
      "mkdir: cannot create directory ‘../data’: File exists\n",
      "--2020-02-23 13:29:55--  http://ai.stanford.edu/~amaas/data/sentiment/aclImdb_v1.tar.gz\n",
      "Resolving ai.stanford.edu (ai.stanford.edu)... 171.64.68.10\n",
      "Connecting to ai.stanford.edu (ai.stanford.edu)|171.64.68.10|:80... connected.\n",
      "HTTP request sent, awaiting response... 200 OK\n",
      "Length: 84125825 (80M) [application/x-gzip]\n",
      "Saving to: ‘../data/aclImdb_v1.tar.gz’\n",
      "\n",
      "../data/aclImdb_v1. 100%[===================>]  80.23M  10.2MB/s    in 9.8s    \n",
      "\n",
      "2020-02-23 13:30:06 (8.18 MB/s) - ‘../data/aclImdb_v1.tar.gz’ saved [84125825/84125825]\n",
      "\n"
     ]
    }
   ],
   "source": [
    "%mkdir ../data\n",
    "!wget -O ../data/aclImdb_v1.tar.gz http://ai.stanford.edu/~amaas/data/sentiment/aclImdb_v1.tar.gz\n",
    "!tar -zxf ../data/aclImdb_v1.tar.gz -C ../data"
   ]
  },
  {
   "cell_type": "markdown",
   "metadata": {},
   "source": [
    "## Step 2: Preparing and Processing the data\n",
    "\n",
    "Also, as in the XGBoost notebook, we will be doing some initial data processing. The first few steps are the same as in the XGBoost example. To begin with, we will read in each of the reviews and combine them into a single input structure. Then, we will split the dataset into a training set and a testing set."
   ]
  },
  {
   "cell_type": "code",
   "execution_count": 2,
   "metadata": {},
   "outputs": [],
   "source": [
    "import os\n",
    "import glob\n",
    "\n",
    "def read_imdb_data(data_dir='../data/aclImdb'):\n",
    "    data = {}\n",
    "    labels = {}\n",
    "    \n",
    "    for data_type in ['train', 'test']:\n",
    "        data[data_type] = {}\n",
    "        labels[data_type] = {}\n",
    "        \n",
    "        for sentiment in ['pos', 'neg']:\n",
    "            data[data_type][sentiment] = []\n",
    "            labels[data_type][sentiment] = []\n",
    "            \n",
    "            path = os.path.join(data_dir, data_type, sentiment, '*.txt')\n",
    "            files = glob.glob(path)\n",
    "            \n",
    "            for f in files:\n",
    "                with open(f) as review:\n",
    "                    data[data_type][sentiment].append(review.read())\n",
    "                    # Here we represent a positive review by '1' and a negative review by '0'\n",
    "                    labels[data_type][sentiment].append(1 if sentiment == 'pos' else 0)\n",
    "                    \n",
    "            assert len(data[data_type][sentiment]) == len(labels[data_type][sentiment]), \\\n",
    "                    \"{}/{} data size does not match labels size\".format(data_type, sentiment)\n",
    "                \n",
    "    return data, labels"
   ]
  },
  {
   "cell_type": "code",
   "execution_count": 3,
   "metadata": {},
   "outputs": [
    {
     "name": "stdout",
     "output_type": "stream",
     "text": [
      "IMDB reviews: train = 12500 pos / 12500 neg, test = 12500 pos / 12500 neg\n"
     ]
    }
   ],
   "source": [
    "data, labels = read_imdb_data()\n",
    "print(\"IMDB reviews: train = {} pos / {} neg, test = {} pos / {} neg\".format(\n",
    "            len(data['train']['pos']), len(data['train']['neg']),\n",
    "            len(data['test']['pos']), len(data['test']['neg'])))"
   ]
  },
  {
   "cell_type": "markdown",
   "metadata": {},
   "source": [
    "Now that we've read the raw training and testing data from the downloaded dataset, we will combine the positive and negative reviews and shuffle the resulting records."
   ]
  },
  {
   "cell_type": "code",
   "execution_count": 4,
   "metadata": {},
   "outputs": [],
   "source": [
    "from sklearn.utils import shuffle\n",
    "\n",
    "def prepare_imdb_data(data, labels):\n",
    "    \"\"\"Prepare training and test sets from IMDb movie reviews.\"\"\"\n",
    "    \n",
    "    #Combine positive and negative reviews and labels\n",
    "    data_train = data['train']['pos'] + data['train']['neg']\n",
    "    data_test = data['test']['pos'] + data['test']['neg']\n",
    "    labels_train = labels['train']['pos'] + labels['train']['neg']\n",
    "    labels_test = labels['test']['pos'] + labels['test']['neg']\n",
    "    \n",
    "    #Shuffle reviews and corresponding labels within training and test sets\n",
    "    data_train, labels_train = shuffle(data_train, labels_train)\n",
    "    data_test, labels_test = shuffle(data_test, labels_test)\n",
    "    \n",
    "    # Return a unified training data, test data, training labels, test labets\n",
    "    return data_train, data_test, labels_train, labels_test"
   ]
  },
  {
   "cell_type": "code",
   "execution_count": 5,
   "metadata": {},
   "outputs": [
    {
     "name": "stdout",
     "output_type": "stream",
     "text": [
      "IMDb reviews (combined): train = 25000, test = 25000\n"
     ]
    }
   ],
   "source": [
    "train_X, test_X, train_y, test_y = prepare_imdb_data(data, labels)\n",
    "print(\"IMDb reviews (combined): train = {}, test = {}\".format(len(train_X), len(test_X)))"
   ]
  },
  {
   "cell_type": "markdown",
   "metadata": {},
   "source": [
    "Now that we have our training and testing sets unified and prepared, we should do a quick check and see an example of the data our model will be trained on. This is generally a good idea as it allows you to see how each of the further processing steps affects the reviews and it also ensures that the data has been loaded correctly."
   ]
  },
  {
   "cell_type": "code",
   "execution_count": 6,
   "metadata": {},
   "outputs": [
    {
     "name": "stdout",
     "output_type": "stream",
     "text": [
      "This is without doubt my favourite Le Carre novel and it is transformed to the silver screen with all the love and care one could wish for. I read a review on this site that seems to find the characters loathsome but I believe this misses the point. All Le Carre stories are essentially love stories and this is no exception. It is an accurate reflection of the period in which it is set. Betrayal is the key by everybody for the good of nobody. Pym upbringing is so close to my own that I find it chilling watching. Peter Egan is in his finest role and the late lamented Ray McAnally is unbelievably good. Even the smallest roles played by such as Andy de la Tour, Tim Healy and Jack Ellis are spot on. This cast is a Theatre Impresario's Dream. The Story should not be spoiled by ill informed description but suffice it to say it relates to a young mans slow but inexorable destruction and descent into espionage and treason. All my sympathies lie with Magnus Pym and his sole (non sexual) love for Poppy (Rüdiger Weigang-as wonderful as always. His only true friendship but also by definition another in the long line of betrayals. OUTSTANDING! Rent it, buy it. love it.\n",
      "1\n"
     ]
    }
   ],
   "source": [
    "print(train_X[100])\n",
    "print(train_y[100])"
   ]
  },
  {
   "cell_type": "markdown",
   "metadata": {},
   "source": [
    "The first step in processing the reviews is to make sure that any html tags that appear should be removed. In addition we wish to tokenize our input, that way words such as *entertained* and *entertaining* are considered the same with regard to sentiment analysis."
   ]
  },
  {
   "cell_type": "code",
   "execution_count": 7,
   "metadata": {},
   "outputs": [],
   "source": [
    "import nltk\n",
    "from nltk.corpus import stopwords\n",
    "from nltk.stem.porter import *\n",
    "\n",
    "import re\n",
    "from bs4 import BeautifulSoup\n",
    "\n",
    "def review_to_words(review):\n",
    "    nltk.download(\"stopwords\", quiet=True)\n",
    "    stemmer = PorterStemmer()\n",
    "    \n",
    "    text = BeautifulSoup(review, \"html.parser\").get_text() # Remove HTML tags\n",
    "    text = re.sub(r\"[^a-zA-Z0-9]\", \" \", text.lower()) # Convert to lower case\n",
    "    words = text.split() # Split string into words\n",
    "    words = [w for w in words if w not in stopwords.words(\"english\")] # Remove stopwords\n",
    "    words = [PorterStemmer().stem(w) for w in words] # stem\n",
    "    \n",
    "    return words"
   ]
  },
  {
   "cell_type": "markdown",
   "metadata": {},
   "source": [
    "The `review_to_words` method defined above uses `BeautifulSoup` to remove any html tags that appear and uses the `nltk` package to tokenize the reviews. As a check to ensure we know how everything is working, try applying `review_to_words` to one of the reviews in the training set."
   ]
  },
  {
   "cell_type": "code",
   "execution_count": 8,
   "metadata": {},
   "outputs": [
    {
     "name": "stdout",
     "output_type": "stream",
     "text": [
      "['without', 'doubt', 'favourit', 'le', 'carr', 'novel', 'transform', 'silver', 'screen', 'love', 'care', 'one', 'could', 'wish', 'read', 'review', 'site', 'seem', 'find', 'charact', 'loathsom', 'believ', 'miss', 'point', 'le', 'carr', 'stori', 'essenti', 'love', 'stori', 'except', 'accur', 'reflect', 'period', 'set', 'betray', 'key', 'everybodi', 'good', 'nobodi', 'pym', 'upbring', 'close', 'find', 'chill', 'watch', 'peter', 'egan', 'finest', 'role', 'late', 'lament', 'ray', 'mcanal', 'unbeliev', 'good', 'even', 'smallest', 'role', 'play', 'andi', 'de', 'la', 'tour', 'tim', 'heali', 'jack', 'elli', 'spot', 'cast', 'theatr', 'impresario', 'dream', 'stori', 'spoil', 'ill', 'inform', 'descript', 'suffic', 'say', 'relat', 'young', 'man', 'slow', 'inexor', 'destruct', 'descent', 'espionag', 'treason', 'sympathi', 'lie', 'magnu', 'pym', 'sole', 'non', 'sexual', 'love', 'poppi', 'r', 'diger', 'weigang', 'wonder', 'alway', 'true', 'friendship', 'also', 'definit', 'anoth', 'long', 'line', 'betray', 'outstand', 'rent', 'buy', 'love']\n"
     ]
    }
   ],
   "source": [
    "# TODO: Apply review_to_words to a review (train_X[100] or any other review)\n",
    "check_trainX100=review_to_words(train_X[100])\n",
    "\n",
    "print(check_trainX100)"
   ]
  },
  {
   "cell_type": "markdown",
   "metadata": {},
   "source": [
    "**Question:** Above we mentioned that `review_to_words` method removes html formatting and allows us to tokenize the words found in a review, for example, converting *entertained* and *entertaining* into *entertain* so that they are treated as though they are the same word. What else, if anything, does this method do to the input?"
   ]
  },
  {
   "cell_type": "markdown",
   "metadata": {},
   "source": [
    "**Answer:**\n",
    "- converts text to lower case.\n",
    "- removes stop words. A stop word is a commonly used word (such as “the”, “a”, “an”, “in”)."
   ]
  },
  {
   "cell_type": "markdown",
   "metadata": {},
   "source": [
    "The method below applies the `review_to_words` method to each of the reviews in the training and testing datasets. In addition it caches the results. This is because performing this processing step can take a long time. This way if you are unable to complete the notebook in the current session, you can come back without needing to process the data a second time."
   ]
  },
  {
   "cell_type": "code",
   "execution_count": 9,
   "metadata": {},
   "outputs": [],
   "source": [
    "import pickle\n",
    "\n",
    "cache_dir = os.path.join(\"../cache\", \"sentiment_analysis\")  # where to store cache files\n",
    "os.makedirs(cache_dir, exist_ok=True)  # ensure cache directory exists\n",
    "\n",
    "def preprocess_data(data_train, data_test, labels_train, labels_test,\n",
    "                    cache_dir=cache_dir, cache_file=\"preprocessed_data.pkl\"):\n",
    "    \"\"\"Convert each review to words; read from cache if available.\"\"\"\n",
    "\n",
    "    # If cache_file is not None, try to read from it first\n",
    "    cache_data = None\n",
    "    if cache_file is not None:\n",
    "        try:\n",
    "            with open(os.path.join(cache_dir, cache_file), \"rb\") as f:\n",
    "                cache_data = pickle.load(f)\n",
    "            print(\"Read preprocessed data from cache file:\", cache_file)\n",
    "        except:\n",
    "            pass  # unable to read from cache, but that's okay\n",
    "    \n",
    "    # If cache is missing, then do the heavy lifting\n",
    "    if cache_data is None:\n",
    "        # Preprocess training and test data to obtain words for each review\n",
    "        #words_train = list(map(review_to_words, data_train))\n",
    "        #words_test = list(map(review_to_words, data_test))\n",
    "        words_train = [review_to_words(review) for review in data_train]\n",
    "        words_test = [review_to_words(review) for review in data_test]\n",
    "        \n",
    "        # Write to cache file for future runs\n",
    "        if cache_file is not None:\n",
    "            cache_data = dict(words_train=words_train, words_test=words_test,\n",
    "                              labels_train=labels_train, labels_test=labels_test)\n",
    "            with open(os.path.join(cache_dir, cache_file), \"wb\") as f:\n",
    "                pickle.dump(cache_data, f)\n",
    "            print(\"Wrote preprocessed data to cache file:\", cache_file)\n",
    "    else:\n",
    "        # Unpack data loaded from cache file\n",
    "        words_train, words_test, labels_train, labels_test = (cache_data['words_train'],\n",
    "                cache_data['words_test'], cache_data['labels_train'], cache_data['labels_test'])\n",
    "    \n",
    "    return words_train, words_test, labels_train, labels_test"
   ]
  },
  {
   "cell_type": "code",
   "execution_count": 10,
   "metadata": {},
   "outputs": [
    {
     "name": "stdout",
     "output_type": "stream",
     "text": [
      "Read preprocessed data from cache file: preprocessed_data.pkl\n"
     ]
    }
   ],
   "source": [
    "# Preprocess data\n",
    "train_X, test_X, train_y, test_y = preprocess_data(train_X, test_X, train_y, test_y)"
   ]
  },
  {
   "cell_type": "code",
   "execution_count": 11,
   "metadata": {},
   "outputs": [
    {
     "data": {
      "text/plain": [
       "25000"
      ]
     },
     "execution_count": 11,
     "metadata": {},
     "output_type": "execute_result"
    }
   ],
   "source": [
    "len(train_X)"
   ]
  },
  {
   "cell_type": "code",
   "execution_count": 12,
   "metadata": {},
   "outputs": [
    {
     "name": "stdout",
     "output_type": "stream",
     "text": [
      "['stori', 'center', 'around', 'barri', 'mckenzi', 'must', 'go', 'england', 'wish', 'claim', 'inherit', 'grossest', 'aussi', 'shearer', 'ever', 'set', 'foot', 'outsid', 'great', 'nation', 'someth', 'cultur', 'clash', 'much', 'fun', 'game', 'ensu', 'song', 'barri', 'mckenzi', 'barri', 'crocker', 'highlight']\n"
     ]
    }
   ],
   "source": [
    "print(train_X[100])"
   ]
  },
  {
   "cell_type": "code",
   "execution_count": 13,
   "metadata": {},
   "outputs": [],
   "source": [
    "check_trainX100=train_X[100]"
   ]
  },
  {
   "cell_type": "markdown",
   "metadata": {},
   "source": [
    "## Transform the data\n",
    "\n",
    "In the XGBoost notebook we transformed the data from its word representation to a bag-of-words feature representation. For the model we are going to construct in this notebook we will construct a feature representation which is very similar. To start, we will represent each word as an integer. Of course, some of the words that appear in the reviews occur very infrequently and so likely don't contain much information for the purposes of sentiment analysis. The way we will deal with this problem is that we will fix the size of our working vocabulary and we will only include the words that appear most frequently. We will then combine all of the infrequent words into a single category and, in our case, we will label it as `1`.\n",
    "\n",
    "Since we will be using a recurrent neural network, it will be convenient if the length of each review is the same. To do this, we will fix a size for our reviews and then pad short reviews with the category 'no word' (which we will label `0`) and truncate long reviews."
   ]
  },
  {
   "cell_type": "markdown",
   "metadata": {},
   "source": [
    "### (TODO) Create a word dictionary\n",
    "\n",
    "To begin with, we need to construct a way to map words that appear in the reviews to integers. Here we fix the size of our vocabulary (including the 'no word' and 'infrequent' categories) to be `5000` but you may wish to change this to see how it affects the model.\n",
    "\n",
    "> **TODO:** Complete the implementation for the `build_dict()` method below. Note that even though the vocab_size is set to `5000`, we only want to construct a mapping for the most frequently appearing `4998` words. This is because we want to reserve the special labels `0` for 'no word' and `1` for 'infrequent word'."
   ]
  },
  {
   "cell_type": "code",
   "execution_count": 14,
   "metadata": {},
   "outputs": [],
   "source": [
    "import numpy as np\n",
    "import itertools\n",
    "from collections import Counter\n",
    "\n",
    "def build_dict(data, vocab_size = 5000):\n",
    "    \"\"\"Construct and return a dictionary mapping each of the most frequently appearing words to a unique integer.\"\"\"\n",
    "    \n",
    "    # TODO: Determine how often each word appears in `data`. Note that `data` is a list of sentences and that a\n",
    "    #       sentence is a list of words.\n",
    "    all_words = list(itertools.chain(*data))\n",
    "    \n",
    "    word_count = dict(Counter(all_words)) # A dict storing the words that appear in the reviews along with how often they occur\n",
    "    \n",
    "    # TODO: Sort the words found in `data` so that sorted_words[0] is the most frequently appearing word and\n",
    "    #       sorted_words[-1] is the least frequently appearing word.\n",
    "    \n",
    "    sorted_words = sorted(word_count, key=word_count.get,reverse=True)\n",
    "    \n",
    "    word_dict = {} # This is what we are building, a dictionary that translates words into integers\n",
    "    for idx, word in enumerate(sorted_words[:vocab_size - 2]): # The -2 is so that we save room for the 'no word'\n",
    "        word_dict[word] = idx + 2                              # 'infrequent' labels\n",
    "        \n",
    "    return word_dict"
   ]
  },
  {
   "cell_type": "code",
   "execution_count": 15,
   "metadata": {},
   "outputs": [],
   "source": [
    "word_dict = build_dict(train_X)"
   ]
  },
  {
   "cell_type": "code",
   "execution_count": 16,
   "metadata": {},
   "outputs": [
    {
     "data": {
      "text/plain": [
       "4998"
      ]
     },
     "execution_count": 16,
     "metadata": {},
     "output_type": "execute_result"
    }
   ],
   "source": [
    "len(word_dict)"
   ]
  },
  {
   "cell_type": "code",
   "execution_count": 17,
   "metadata": {},
   "outputs": [
    {
     "name": "stdout",
     "output_type": "stream",
     "text": [
      "{'movi': 2, 'film': 3, 'one': 4, 'like': 5, 'time': 6, 'good': 7, 'make': 8, 'charact': 9, 'get': 10, 'see': 11, 'watch': 12, 'stori': 13, 'even': 14, 'would': 15, 'realli': 16, 'well': 17, 'scene': 18, 'look': 19, 'show': 20, 'much': 21, 'end': 22, 'peopl': 23, 'bad': 24, 'go': 25, 'great': 26, 'also': 27, 'first': 28, 'love': 29, 'think': 30, 'way': 31, 'act': 32, 'play': 33, 'made': 34, 'thing': 35, 'could': 36, 'know': 37, 'say': 38, 'seem': 39, 'work': 40, 'plot': 41, 'two': 42, 'actor': 43, 'year': 44, 'come': 45, 'mani': 46, 'seen': 47, 'take': 48, 'want': 49, 'life': 50, 'never': 51, 'littl': 52, 'best': 53, 'tri': 54, 'man': 55, 'ever': 56, 'give': 57, 'better': 58, 'still': 59, 'perform': 60, 'find': 61, 'feel': 62, 'part': 63, 'back': 64, 'use': 65, 'someth': 66, 'director': 67, 'actual': 68, 'interest': 69, 'lot': 70, 'real': 71, 'old': 72, 'cast': 73, 'though': 74, 'live': 75, 'star': 76, 'enjoy': 77, 'guy': 78, 'anoth': 79, 'new': 80, 'role': 81, 'noth': 82, '10': 83, 'funni': 84, 'music': 85, 'point': 86, 'start': 87, 'set': 88, 'girl': 89, 'origin': 90, 'day': 91, 'world': 92, 'everi': 93, 'believ': 94, 'turn': 95, 'quit': 96, 'direct': 97, 'us': 98, 'thought': 99, 'fact': 100, 'minut': 101, 'horror': 102, 'kill': 103, 'action': 104, 'comedi': 105, 'pretti': 106, 'young': 107, 'wonder': 108, 'happen': 109, 'around': 110, 'got': 111, 'effect': 112, 'right': 113, 'long': 114, 'howev': 115, 'big': 116, 'line': 117, 'famili': 118, 'enough': 119, 'seri': 120, 'may': 121, 'need': 122, 'fan': 123, 'bit': 124, 'script': 125, 'beauti': 126, 'person': 127, 'becom': 128, 'without': 129, 'must': 130, 'alway': 131, 'friend': 132, 'tell': 133, 'reason': 134, 'saw': 135, 'last': 136, 'final': 137, 'kid': 138, 'almost': 139, 'put': 140, 'least': 141, 'sure': 142, 'done': 143, 'whole': 144, 'place': 145, 'complet': 146, 'kind': 147, 'differ': 148, 'expect': 149, 'shot': 150, 'far': 151, 'mean': 152, 'anyth': 153, 'book': 154, 'laugh': 155, 'might': 156, 'name': 157, 'sinc': 158, 'begin': 159, '2': 160, 'probabl': 161, 'woman': 162, 'help': 163, 'entertain': 164, 'let': 165, 'screen': 166, 'call': 167, 'tv': 168, 'moment': 169, 'away': 170, 'read': 171, 'yet': 172, 'rather': 173, 'worst': 174, 'run': 175, 'fun': 176, 'lead': 177, 'hard': 178, 'audienc': 179, 'idea': 180, 'anyon': 181, 'episod': 182, 'american': 183, 'found': 184, 'appear': 185, 'bore': 186, 'especi': 187, 'although': 188, 'hope': 189, 'keep': 190, 'cours': 191, 'anim': 192, 'job': 193, 'goe': 194, 'move': 195, 'sens': 196, 'dvd': 197, 'version': 198, 'war': 199, 'money': 200, 'someon': 201, 'mind': 202, 'mayb': 203, 'problem': 204, 'true': 205, 'hous': 206, 'everyth': 207, 'nice': 208, 'second': 209, 'rate': 210, 'three': 211, 'night': 212, 'follow': 213, 'face': 214, 'recommend': 215, 'product': 216, 'main': 217, 'worth': 218, 'leav': 219, 'human': 220, 'special': 221, 'excel': 222, 'togeth': 223, 'wast': 224, 'sound': 225, 'everyon': 226, 'john': 227, 'hand': 228, '1': 229, 'father': 230, 'later': 231, 'eye': 232, 'said': 233, 'view': 234, 'instead': 235, 'review': 236, 'boy': 237, 'high': 238, 'hour': 239, 'miss': 240, 'classic': 241, 'talk': 242, 'wife': 243, 'understand': 244, 'left': 245, 'care': 246, 'black': 247, 'death': 248, 'open': 249, 'murder': 250, 'write': 251, 'half': 252, 'head': 253, 'rememb': 254, 'chang': 255, 'viewer': 256, 'fight': 257, 'gener': 258, 'surpris': 259, 'short': 260, 'includ': 261, 'die': 262, 'fall': 263, 'less': 264, 'els': 265, 'entir': 266, 'piec': 267, 'involv': 268, 'pictur': 269, 'simpli': 270, 'top': 271, 'home': 272, 'power': 273, 'total': 274, 'usual': 275, 'budget': 276, 'attempt': 277, 'suppos': 278, 'releas': 279, 'hollywood': 280, 'terribl': 281, 'song': 282, 'men': 283, 'possibl': 284, 'featur': 285, 'portray': 286, 'disappoint': 287, 'poor': 288, '3': 289, 'coupl': 290, 'stupid': 291, 'camera': 292, 'dead': 293, 'wrong': 294, 'low': 295, 'produc': 296, 'video': 297, 'either': 298, 'aw': 299, 'definit': 300, 'except': 301, 'rest': 302, 'given': 303, 'absolut': 304, 'women': 305, 'lack': 306, 'word': 307, 'writer': 308, 'titl': 309, 'talent': 310, 'decid': 311, 'full': 312, 'perfect': 313, 'along': 314, 'style': 315, 'close': 316, 'truli': 317, 'school': 318, 'save': 319, 'emot': 320, 'age': 321, 'sex': 322, 'next': 323, 'bring': 324, 'mr': 325, 'case': 326, 'killer': 327, 'heart': 328, 'comment': 329, 'sort': 330, 'creat': 331, 'perhap': 332, 'came': 333, 'brother': 334, 'sever': 335, 'joke': 336, 'art': 337, 'dialogu': 338, 'game': 339, 'small': 340, 'base': 341, 'flick': 342, 'written': 343, 'sequenc': 344, 'meet': 345, 'earli': 346, 'often': 347, 'other': 348, 'mother': 349, 'develop': 350, 'humor': 351, 'actress': 352, 'consid': 353, 'dark': 354, 'guess': 355, 'amaz': 356, 'unfortun': 357, 'light': 358, 'lost': 359, 'exampl': 360, 'cinema': 361, 'drama': 362, 'ye': 363, 'white': 364, 'experi': 365, 'imagin': 366, 'mention': 367, 'stop': 368, 'natur': 369, 'forc': 370, 'manag': 371, 'felt': 372, 'cut': 373, 'present': 374, 'children': 375, 'fail': 376, 'son': 377, 'qualiti': 378, 'support': 379, 'car': 380, 'ask': 381, 'hit': 382, 'side': 383, 'voic': 384, 'extrem': 385, 'impress': 386, 'evil': 387, 'wors': 388, 'stand': 389, 'went': 390, 'certainli': 391, 'basic': 392, 'oh': 393, 'overal': 394, 'favorit': 395, 'horribl': 396, 'mysteri': 397, 'number': 398, 'type': 399, 'danc': 400, 'wait': 401, 'hero': 402, 'alreadi': 403, '5': 404, 'learn': 405, 'matter': 406, '4': 407, 'michael': 408, 'genr': 409, 'fine': 410, 'despit': 411, 'throughout': 412, 'walk': 413, 'success': 414, 'histori': 415, 'question': 416, 'zombi': 417, 'town': 418, 'realiz': 419, 'relationship': 420, 'child': 421, 'past': 422, 'daughter': 423, 'late': 424, 'b': 425, 'wish': 426, 'credit': 427, 'hate': 428, 'event': 429, 'theme': 430, 'touch': 431, 'citi': 432, 'today': 433, 'sometim': 434, 'behind': 435, 'god': 436, 'twist': 437, 'sit': 438, 'deal': 439, 'stay': 440, 'annoy': 441, 'abl': 442, 'rent': 443, 'pleas': 444, 'edit': 445, 'blood': 446, 'deserv': 447, 'comic': 448, 'anyway': 449, 'appar': 450, 'soon': 451, 'gave': 452, 'etc': 453, 'level': 454, 'slow': 455, 'chanc': 456, 'score': 457, 'bodi': 458, 'brilliant': 459, 'incred': 460, 'figur': 461, 'situat': 462, 'self': 463, 'major': 464, 'stuff': 465, 'decent': 466, 'element': 467, 'return': 468, 'dream': 469, 'obvious': 470, 'continu': 471, 'order': 472, 'pace': 473, 'ridicul': 474, 'happi': 475, 'group': 476, 'add': 477, 'highli': 478, 'thank': 479, 'ladi': 480, 'novel': 481, 'speak': 482, 'pain': 483, 'career': 484, 'shoot': 485, 'strang': 486, 'heard': 487, 'sad': 488, 'husband': 489, 'polic': 490, 'import': 491, 'break': 492, 'took': 493, 'strong': 494, 'cannot': 495, 'predict': 496, 'robert': 497, 'violenc': 498, 'hilari': 499, 'recent': 500, 'countri': 501, 'known': 502, 'particularli': 503, 'pick': 504, 'documentari': 505, 'season': 506, 'critic': 507, 'jame': 508, 'compar': 509, 'alon': 510, 'obviou': 511, 'told': 512, 'state': 513, 'rock': 514, 'visual': 515, 'offer': 516, 'exist': 517, 'theater': 518, 'opinion': 519, 'gore': 520, 'crap': 521, 'hold': 522, 'result': 523, 'hear': 524, 'room': 525, 'realiti': 526, 'clich': 527, 'effort': 528, 'thriller': 529, 'caus': 530, 'serious': 531, 'sequel': 532, 'explain': 533, 'king': 534, 'local': 535, 'ago': 536, 'none': 537, 'hell': 538, 'note': 539, 'allow': 540, 'david': 541, 'sister': 542, 'simpl': 543, 'femal': 544, 'deliv': 545, 'ok': 546, 'class': 547, 'convinc': 548, 'check': 549, 'suspens': 550, 'win': 551, 'buy': 552, 'oscar': 553, 'huge': 554, 'valu': 555, 'sexual': 556, 'cool': 557, 'scari': 558, 'similar': 559, 'excit': 560, 'provid': 561, 'exactli': 562, 'apart': 563, 'avoid': 564, 'shown': 565, 'seriou': 566, 'english': 567, 'taken': 568, 'whose': 569, 'cinematographi': 570, 'shock': 571, 'polit': 572, 'spoiler': 573, 'offic': 574, 'across': 575, 'middl': 576, 'street': 577, 'pass': 578, 'messag': 579, 'somewhat': 580, 'charm': 581, 'silli': 582, 'modern': 583, 'filmmak': 584, 'confus': 585, 'form': 586, 'tale': 587, 'singl': 588, 'jack': 589, 'mostli': 590, 'carri': 591, 'william': 592, 'attent': 593, 'sing': 594, 'subject': 595, 'five': 596, 'prove': 597, 'richard': 598, 'stage': 599, 'team': 600, 'cop': 601, 'unlik': 602, 'georg': 603, 'monster': 604, 'televis': 605, 'earth': 606, 'villain': 607, 'cover': 608, 'pay': 609, 'marri': 610, 'toward': 611, 'build': 612, 'pull': 613, 'parent': 614, 'due': 615, 'respect': 616, 'fill': 617, 'dialog': 618, 'four': 619, 'remind': 620, 'futur': 621, 'typic': 622, 'weak': 623, '7': 624, 'cheap': 625, 'intellig': 626, 'atmospher': 627, 'british': 628, '80': 629, 'clearli': 630, 'dog': 631, 'paul': 632, 'non': 633, 'knew': 634, 'fast': 635, '8': 636, 'artist': 637, 'crime': 638, 'easili': 639, 'escap': 640, 'doubt': 641, 'adult': 642, 'detail': 643, 'date': 644, 'romant': 645, 'fire': 646, 'member': 647, 'gun': 648, 'drive': 649, 'straight': 650, 'fit': 651, 'beyond': 652, 'attack': 653, 'imag': 654, 'upon': 655, 'posit': 656, 'whether': 657, 'fantast': 658, 'peter': 659, 'appreci': 660, 'captur': 661, 'aspect': 662, 'ten': 663, 'plan': 664, 'discov': 665, 'remain': 666, 'period': 667, 'near': 668, 'air': 669, 'realist': 670, 'mark': 671, 'red': 672, 'dull': 673, 'adapt': 674, 'within': 675, 'spend': 676, 'lose': 677, 'materi': 678, 'color': 679, 'chase': 680, 'mari': 681, 'storylin': 682, 'forget': 683, 'bunch': 684, 'clear': 685, 'lee': 686, 'victim': 687, 'nearli': 688, 'box': 689, 'york': 690, 'inspir': 691, 'match': 692, 'mess': 693, 'finish': 694, 'standard': 695, 'easi': 696, 'truth': 697, 'suffer': 698, 'busi': 699, 'bill': 700, 'space': 701, 'dramat': 702, 'western': 703, 'e': 704, 'list': 705, 'battl': 706, 'notic': 707, 'de': 708, 'french': 709, 'ad': 710, '9': 711, 'tom': 712, 'larg': 713, 'among': 714, 'eventu': 715, 'train': 716, 'accept': 717, 'agre': 718, 'spirit': 719, 'soundtrack': 720, 'third': 721, 'teenag': 722, 'adventur': 723, 'soldier': 724, 'sorri': 725, 'drug': 726, 'famou': 727, 'suggest': 728, 'cri': 729, 'normal': 730, 'babi': 731, 'ultim': 732, 'troubl': 733, 'contain': 734, 'certain': 735, 'cultur': 736, 'romanc': 737, 'rare': 738, 'lame': 739, 'somehow': 740, 'mix': 741, 'disney': 742, 'gone': 743, 'cartoon': 744, 'student': 745, 'fear': 746, 'reveal': 747, 'kept': 748, 'suck': 749, 'attract': 750, 'appeal': 751, 'premis': 752, 'design': 753, 'secret': 754, 'greatest': 755, 'shame': 756, 'throw': 757, 'copi': 758, 'scare': 759, 'wit': 760, 'admit': 761, 'america': 762, 'particular': 763, 'brought': 764, 'relat': 765, 'screenplay': 766, 'whatev': 767, 'pure': 768, '70': 769, 'averag': 770, 'harri': 771, 'master': 772, 'describ': 773, 'male': 774, 'treat': 775, '20': 776, 'fantasi': 777, 'issu': 778, 'warn': 779, 'inde': 780, 'forward': 781, 'background': 782, 'free': 783, 'project': 784, 'memor': 785, 'japanes': 786, 'poorli': 787, 'award': 788, 'locat': 789, 'amus': 790, 'potenti': 791, 'struggl': 792, 'magic': 793, 'weird': 794, 'societi': 795, 'okay': 796, 'accent': 797, 'doctor': 798, 'imdb': 799, 'hot': 800, 'water': 801, 'dr': 802, 'alien': 803, '30': 804, 'express': 805, 'odd': 806, 'choic': 807, 'crazi': 808, 'fiction': 809, 'studio': 810, 'becam': 811, 'control': 812, 'masterpiec': 813, 'fli': 814, 'difficult': 815, 'joe': 816, 'scream': 817, 'costum': 818, 'lover': 819, 'refer': 820, 'uniqu': 821, 'remak': 822, 'vampir': 823, 'girlfriend': 824, 'prison': 825, 'execut': 826, 'wear': 827, 'jump': 828, 'unless': 829, 'wood': 830, 'creepi': 831, 'cheesi': 832, 'superb': 833, 'otherwis': 834, 'parti': 835, 'ghost': 836, 'roll': 837, 'public': 838, 'mad': 839, 'depict': 840, 'moral': 841, 'earlier': 842, 'badli': 843, 'jane': 844, 'week': 845, 'fi': 846, 'dumb': 847, 'grow': 848, 'flaw': 849, 'sci': 850, 'deep': 851, 'maker': 852, 'cat': 853, 'footag': 854, 'older': 855, 'connect': 856, 'bother': 857, 'plenti': 858, 'outsid': 859, 'stick': 860, 'gay': 861, 'catch': 862, 'plu': 863, 'co': 864, 'popular': 865, 'equal': 866, 'social': 867, 'quickli': 868, 'disturb': 869, 'perfectli': 870, 'dress': 871, '90': 872, 'era': 873, 'mistak': 874, 'lie': 875, 'ride': 876, 'previou': 877, 'combin': 878, 'band': 879, 'concept': 880, 'surviv': 881, 'rich': 882, 'answer': 883, 'front': 884, 'sweet': 885, 'christma': 886, 'insid': 887, 'eat': 888, 'concern': 889, 'bare': 890, 'ben': 891, 'listen': 892, 'beat': 893, 'c': 894, 'serv': 895, 'term': 896, 'la': 897, 'german': 898, 'meant': 899, 'hardli': 900, 'stereotyp': 901, 'innoc': 902, 'law': 903, 'desper': 904, 'promis': 905, 'memori': 906, 'cute': 907, 'intent': 908, 'steal': 909, 'variou': 910, 'inform': 911, 'brain': 912, 'post': 913, 'tone': 914, 'island': 915, 'amount': 916, 'compani': 917, 'nuditi': 918, 'track': 919, 'store': 920, 'claim': 921, '50': 922, 'flat': 923, 'hair': 924, 'land': 925, 'univers': 926, 'scott': 927, 'fairli': 928, 'kick': 929, 'danger': 930, 'player': 931, 'step': 932, 'crew': 933, 'plain': 934, 'toni': 935, 'share': 936, 'tast': 937, 'centuri': 938, 'engag': 939, 'achiev': 940, 'travel': 941, 'cold': 942, 'record': 943, 'suit': 944, 'rip': 945, 'sadli': 946, 'manner': 947, 'tension': 948, 'spot': 949, 'wrote': 950, 'fascin': 951, 'intens': 952, 'familiar': 953, 'burn': 954, 'remark': 955, 'depth': 956, 'destroy': 957, 'histor': 958, 'sleep': 959, 'purpos': 960, 'languag': 961, 'ruin': 962, 'ignor': 963, 'delight': 964, 'unbeliev': 965, 'italian': 966, 'soul': 967, 'collect': 968, 'abil': 969, 'clever': 970, 'detect': 971, 'violent': 972, 'rape': 973, 'reach': 974, 'door': 975, 'liter': 976, 'trash': 977, 'scienc': 978, 'caught': 979, 'commun': 980, 'reveng': 981, 'creatur': 982, 'approach': 983, 'trip': 984, 'fashion': 985, 'intrigu': 986, 'paint': 987, 'introduc': 988, 'skill': 989, 'channel': 990, 'complex': 991, 'camp': 992, 'christian': 993, 'extra': 994, 'hole': 995, 'limit': 996, 'immedi': 997, 'mental': 998, 'ann': 999, '6': 1000, 'comput': 1001, 'mere': 1002, 'slightli': 1003, 'million': 1004, 'slasher': 1005, 'conclus': 1006, 'suddenli': 1007, 'imposs': 1008, 'teen': 1009, 'crimin': 1010, 'neither': 1011, 'nation': 1012, 'physic': 1013, 'spent': 1014, 'respons': 1015, 'planet': 1016, 'receiv': 1017, 'fake': 1018, 'sick': 1019, 'blue': 1020, 'bizarr': 1021, 'embarrass': 1022, 'indian': 1023, 'ring': 1024, '15': 1025, 'pop': 1026, 'drop': 1027, 'drag': 1028, 'haunt': 1029, 'pointless': 1030, 'suspect': 1031, 'edg': 1032, 'search': 1033, 'handl': 1034, 'common': 1035, 'biggest': 1036, 'arriv': 1037, 'hurt': 1038, 'faith': 1039, 'technic': 1040, 'angel': 1041, 'dad': 1042, 'genuin': 1043, 'awesom': 1044, 'solid': 1045, 'f': 1046, 'focu': 1047, 'colleg': 1048, 'former': 1049, 'van': 1050, 'count': 1051, 'tear': 1052, 'heavi': 1053, 'wall': 1054, 'rais': 1055, 'laughabl': 1056, 'visit': 1057, 'younger': 1058, 'excus': 1059, 'sign': 1060, 'fair': 1061, 'cult': 1062, 'motion': 1063, 'key': 1064, 'tough': 1065, 'super': 1066, 'desir': 1067, 'addit': 1068, 'stun': 1069, 'exploit': 1070, 'cloth': 1071, 'tortur': 1072, 'smith': 1073, 'race': 1074, 'davi': 1075, 'cross': 1076, 'author': 1077, 'jim': 1078, 'compel': 1079, 'focus': 1080, 'consist': 1081, 'minor': 1082, 'chemistri': 1083, 'pathet': 1084, 'commit': 1085, 'park': 1086, 'frank': 1087, 'obsess': 1088, 'tradit': 1089, 'grade': 1090, '60': 1091, 'asid': 1092, 'brutal': 1093, 'steve': 1094, 'somewher': 1095, 'depress': 1096, 'explor': 1097, 'opportun': 1098, 'rule': 1099, 'grant': 1100, 'u': 1101, 'honest': 1102, 'besid': 1103, 'dub': 1104, 'anti': 1105, 'intend': 1106, 'trailer': 1107, 'bar': 1108, 'longer': 1109, 'regard': 1110, 'scientist': 1111, 'west': 1112, 'judg': 1113, 'decad': 1114, 'silent': 1115, 'creativ': 1116, 'armi': 1117, 'wild': 1118, 'g': 1119, 'south': 1120, 'stewart': 1121, 'draw': 1122, 'road': 1123, 'govern': 1124, 'ex': 1125, 'boss': 1126, 'practic': 1127, 'gang': 1128, 'club': 1129, 'surprisingli': 1130, 'festiv': 1131, 'motiv': 1132, 'london': 1133, 'redeem': 1134, 'page': 1135, 'green': 1136, 'aliv': 1137, 'militari': 1138, 'display': 1139, 'idiot': 1140, 'machin': 1141, 'repeat': 1142, 'thrill': 1143, 'nobodi': 1144, 'yeah': 1145, '100': 1146, 'folk': 1147, '40': 1148, 'journey': 1149, 'garbag': 1150, 'tire': 1151, 'ground': 1152, 'smile': 1153, 'mood': 1154, 'bought': 1155, 'stone': 1156, 'cost': 1157, 'sam': 1158, 'mouth': 1159, 'noir': 1160, 'terrif': 1161, 'agent': 1162, 'requir': 1163, 'utterli': 1164, 'honestli': 1165, 'area': 1166, 'sexi': 1167, 'geniu': 1168, 'report': 1169, 'glad': 1170, 'enter': 1171, 'humour': 1172, 'investig': 1173, 'serial': 1174, 'occasion': 1175, 'passion': 1176, 'narr': 1177, 'climax': 1178, 'marriag': 1179, 'studi': 1180, 'industri': 1181, 'ship': 1182, 'demon': 1183, 'nowher': 1184, 'center': 1185, 'charli': 1186, 'bear': 1187, 'loos': 1188, 'hors': 1189, 'wow': 1190, 'hang': 1191, 'graphic': 1192, 'admir': 1193, 'giant': 1194, 'send': 1195, 'damn': 1196, 'loud': 1197, 'nake': 1198, 'profession': 1199, 'subtl': 1200, 'rel': 1201, 'blow': 1202, 'bottom': 1203, 'insult': 1204, 'batman': 1205, 'doubl': 1206, 'boyfriend': 1207, 'r': 1208, 'kelli': 1209, 'initi': 1210, 'frame': 1211, 'opera': 1212, 'gem': 1213, 'affect': 1214, 'cinemat': 1215, 'challeng': 1216, 'drawn': 1217, 'church': 1218, 'seek': 1219, 'l': 1220, 'evid': 1221, 'fulli': 1222, 'j': 1223, 'nightmar': 1224, 'essenti': 1225, 'conflict': 1226, 'arm': 1227, 'wind': 1228, 'christoph': 1229, 'henri': 1230, 'grace': 1231, 'narrat': 1232, 'assum': 1233, 'witch': 1234, 'hunt': 1235, 'push': 1236, 'wise': 1237, 'chri': 1238, 'nomin': 1239, 'repres': 1240, 'month': 1241, 'sceneri': 1242, 'affair': 1243, 'avail': 1244, 'hide': 1245, 'thu': 1246, 'bond': 1247, 'smart': 1248, 'justic': 1249, 'outstand': 1250, 'interview': 1251, 'flashback': 1252, 'satisfi': 1253, 'constantli': 1254, 'presenc': 1255, 'central': 1256, 'bed': 1257, 'iron': 1258, 'sell': 1259, 'content': 1260, 'everybodi': 1261, 'gag': 1262, 'slowli': 1263, 'hotel': 1264, 'hire': 1265, 'system': 1266, 'thrown': 1267, 'hey': 1268, 'adam': 1269, 'individu': 1270, 'charl': 1271, 'allen': 1272, 'mediocr': 1273, 'jone': 1274, 'billi': 1275, 'ray': 1276, 'lesson': 1277, 'cameo': 1278, 'photographi': 1279, 'pari': 1280, 'fellow': 1281, 'strike': 1282, 'rise': 1283, 'absurd': 1284, 'brief': 1285, 'independ': 1286, 'neg': 1287, 'phone': 1288, 'impact': 1289, 'ill': 1290, 'model': 1291, 'born': 1292, 'angl': 1293, 'spoil': 1294, 'fresh': 1295, 'abus': 1296, 'likabl': 1297, 'hill': 1298, 'discuss': 1299, 'sight': 1300, 'ahead': 1301, 'sent': 1302, 'photograph': 1303, 'shine': 1304, 'occur': 1305, 'logic': 1306, 'blame': 1307, 'mainli': 1308, 'bruce': 1309, 'skip': 1310, 'commerci': 1311, 'forev': 1312, 'surround': 1313, 'held': 1314, 'teacher': 1315, 'segment': 1316, 'blond': 1317, 'zero': 1318, 'summer': 1319, 'resembl': 1320, 'trap': 1321, 'satir': 1322, 'six': 1323, 'ball': 1324, 'queen': 1325, 'fool': 1326, 'twice': 1327, 'sub': 1328, 'tragedi': 1329, 'pack': 1330, 'reaction': 1331, 'bomb': 1332, 'protagonist': 1333, 'hospit': 1334, 'will': 1335, 'mile': 1336, 'sport': 1337, 'mom': 1338, 'trust': 1339, 'jerri': 1340, 'vote': 1341, 'drink': 1342, 'encount': 1343, 'plane': 1344, 'current': 1345, 'program': 1346, 'station': 1347, 'al': 1348, 'choos': 1349, 'martin': 1350, 'celebr': 1351, 'join': 1352, 'tragic': 1353, 'lord': 1354, 'favourit': 1355, 'field': 1356, 'round': 1357, 'robot': 1358, 'vision': 1359, 'jean': 1360, 'arthur': 1361, 'tie': 1362, 'roger': 1363, 'fortun': 1364, 'random': 1365, 'dread': 1366, 'psycholog': 1367, 'intern': 1368, 'improv': 1369, 'epic': 1370, 'nonsens': 1371, 'prefer': 1372, 'legend': 1373, 'formula': 1374, 'highlight': 1375, 'pleasur': 1376, 'dollar': 1377, 'tape': 1378, '11': 1379, 'object': 1380, 'gorgeou': 1381, 'fox': 1382, 'porn': 1383, 'thin': 1384, 'wide': 1385, 'ugli': 1386, 'buddi': 1387, 'influenc': 1388, 'ii': 1389, 'prepar': 1390, 'nasti': 1391, 'warm': 1392, 'supposedli': 1393, 'reflect': 1394, 'progress': 1395, 'worthi': 1396, 'youth': 1397, 'latter': 1398, 'unusu': 1399, 'length': 1400, 'crash': 1401, 'childhood': 1402, 'seven': 1403, 'superior': 1404, 'shop': 1405, 'remot': 1406, 'theatr': 1407, 'funniest': 1408, 'disgust': 1409, 'pilot': 1410, 'paid': 1411, 'castl': 1412, 'trick': 1413, 'fell': 1414, 'convers': 1415, 'rob': 1416, 'disast': 1417, 'establish': 1418, 'gangster': 1419, 'mine': 1420, 'suicid': 1421, 'ident': 1422, 'heaven': 1423, 'disappear': 1424, 'mask': 1425, 'singer': 1426, 'heroin': 1427, 'forgotten': 1428, 'tend': 1429, 'decis': 1430, 'brian': 1431, 'partner': 1432, 'desert': 1433, 'alan': 1434, 'recogn': 1435, 'stuck': 1436, 'p': 1437, 'sky': 1438, 'thoroughli': 1439, 'ms': 1440, 'accur': 1441, 'replac': 1442, 'market': 1443, 'clue': 1444, 'uncl': 1445, 'danni': 1446, 'seemingli': 1447, 'commentari': 1448, 'andi': 1449, 'eddi': 1450, 'jackson': 1451, 'devil': 1452, 'therefor': 1453, 'refus': 1454, 'that': 1455, 'pair': 1456, 'ed': 1457, 'fault': 1458, 'unit': 1459, 'accid': 1460, 'river': 1461, 'fate': 1462, 'tune': 1463, 'afraid': 1464, 'stephen': 1465, 'clean': 1466, 'hidden': 1467, 'russian': 1468, 'test': 1469, 'captain': 1470, 'readi': 1471, 'quick': 1472, 'instanc': 1473, 'convey': 1474, 'irrit': 1475, 'european': 1476, 'insan': 1477, 'daniel': 1478, 'frustrat': 1479, 'wed': 1480, '1950': 1481, 'rescu': 1482, 'chines': 1483, 'food': 1484, 'angri': 1485, 'dirti': 1486, 'lock': 1487, 'joy': 1488, 'price': 1489, 'steven': 1490, 'cage': 1491, 'bland': 1492, 'anymor': 1493, 'rang': 1494, 'wooden': 1495, 'rush': 1496, 'jason': 1497, 'news': 1498, 'n': 1499, 'worri': 1500, 'led': 1501, '12': 1502, 'twenti': 1503, 'martial': 1504, 'board': 1505, 'cgi': 1506, 'symbol': 1507, 'hunter': 1508, 'transform': 1509, 'piti': 1510, 'x': 1511, 'johnni': 1512, 'onto': 1513, 'invent': 1514, 'sentiment': 1515, 'process': 1516, 'explan': 1517, 'attitud': 1518, 'awar': 1519, 'owner': 1520, 'aim': 1521, 'favor': 1522, 'necessari': 1523, 'energi': 1524, 'floor': 1525, 'target': 1526, 'opposit': 1527, 'religi': 1528, 'insight': 1529, 'chick': 1530, 'window': 1531, 'blind': 1532, 'movement': 1533, 'research': 1534, 'comparison': 1535, 'possess': 1536, 'mountain': 1537, 'deepli': 1538, 'whatsoev': 1539, 'comed': 1540, 'rain': 1541, 'grand': 1542, 'bank': 1543, 'shadow': 1544, 'mid': 1545, 'began': 1546, 'princ': 1547, 'parodi': 1548, 'weapon': 1549, 'taylor': 1550, 'credibl': 1551, 'pre': 1552, 'friendship': 1553, 'flesh': 1554, 'dougla': 1555, 'teach': 1556, 'bloodi': 1557, 'protect': 1558, 'hint': 1559, 'terror': 1560, 'marvel': 1561, 'drunk': 1562, 'load': 1563, 'anybodi': 1564, 'watchabl': 1565, 'leader': 1566, 'accord': 1567, 'superman': 1568, 'brown': 1569, 'freddi': 1570, 'seat': 1571, 'appropri': 1572, 'tim': 1573, 'hitler': 1574, 'jeff': 1575, 'charg': 1576, 'unknown': 1577, 'villag': 1578, 'knock': 1579, 'keaton': 1580, 'unnecessari': 1581, 'england': 1582, 'media': 1583, 'enemi': 1584, 'empti': 1585, 'dare': 1586, 'wave': 1587, 'craft': 1588, 'buck': 1589, 'strength': 1590, 'perspect': 1591, 'utter': 1592, 'nativ': 1593, 'contrast': 1594, 'kiss': 1595, 'correct': 1596, 'ford': 1597, 'distract': 1598, 'chill': 1599, 'knowledg': 1600, 'soap': 1601, 'anywher': 1602, 'speed': 1603, 'nazi': 1604, 'magnific': 1605, 'breath': 1606, 'fred': 1607, 'mission': 1608, '1980': 1609, 'ice': 1610, 'moon': 1611, 'joan': 1612, 'jr': 1613, 'crowd': 1614, 'soft': 1615, 'frighten': 1616, 'kate': 1617, '000': 1618, 'dick': 1619, 'nick': 1620, 'hundr': 1621, 'dan': 1622, 'radio': 1623, 'somebodi': 1624, 'dozen': 1625, 'simon': 1626, 'thousand': 1627, 'shakespear': 1628, 'academi': 1629, 'loss': 1630, 'andrew': 1631, 'account': 1632, 'quot': 1633, 'vehicl': 1634, 'sum': 1635, 'root': 1636, 'convent': 1637, 'behavior': 1638, '1970': 1639, 'leg': 1640, 'regular': 1641, 'gold': 1642, 'pretenti': 1643, 'worker': 1644, 'compet': 1645, 'demand': 1646, 'notabl': 1647, 'explos': 1648, 'japan': 1649, 'lynch': 1650, 'stretch': 1651, 'privat': 1652, 'candi': 1653, 'interpret': 1654, 'debut': 1655, 'constant': 1656, 'tarzan': 1657, 'translat': 1658, 'prais': 1659, 'spi': 1660, 'revolv': 1661, 'sea': 1662, 'technolog': 1663, 'sat': 1664, 'franc': 1665, 'ass': 1666, 'threaten': 1667, 'failur': 1668, 'jesu': 1669, 'quiet': 1670, 'met': 1671, 'kevin': 1672, 'aid': 1673, 'toy': 1674, 'punch': 1675, 'higher': 1676, 'interact': 1677, 'abandon': 1678, 'mike': 1679, 'vh': 1680, 'confront': 1681, 'command': 1682, 'bet': 1683, 'separ': 1684, 'servic': 1685, 'belong': 1686, 'techniqu': 1687, 'recal': 1688, 'stunt': 1689, 'site': 1690, 'gotten': 1691, 'cabl': 1692, 'foot': 1693, 'freak': 1694, 'bug': 1695, 'fu': 1696, 'jimmi': 1697, 'bright': 1698, 'african': 1699, 'capabl': 1700, 'stock': 1701, 'boat': 1702, 'succeed': 1703, 'presid': 1704, 'clark': 1705, 'fat': 1706, 'gene': 1707, 'spanish': 1708, 'structur': 1709, 'paper': 1710, 'kidnap': 1711, 'whilst': 1712, 'factor': 1713, 'belief': 1714, 'tree': 1715, 'attend': 1716, 'educ': 1717, 'realis': 1718, 'bob': 1719, 'complic': 1720, 'realism': 1721, 'witti': 1722, 'santa': 1723, 'broken': 1724, 'finest': 1725, 'assist': 1726, 'observ': 1727, 'determin': 1728, 'depart': 1729, 'smoke': 1730, 'up': 1731, 'v': 1732, 'routin': 1733, 'rubbish': 1734, 'lewi': 1735, 'fame': 1736, 'oper': 1737, 'domin': 1738, 'hat': 1739, 'safe': 1740, 'kinda': 1741, 'lone': 1742, 'hook': 1743, 'morgan': 1744, 'advanc': 1745, 'foreign': 1746, 'rank': 1747, 'numer': 1748, 'shallow': 1749, 'shape': 1750, 'civil': 1751, 'rose': 1752, 'werewolf': 1753, 'vs': 1754, 'washington': 1755, 'morn': 1756, 'gari': 1757, 'ordinari': 1758, 'accomplish': 1759, 'winner': 1760, 'kong': 1761, 'whenev': 1762, 'virtual': 1763, 'peac': 1764, 'grab': 1765, 'luck': 1766, 'h': 1767, 'offens': 1768, 'activ': 1769, 'bigger': 1770, 'complain': 1771, 'contriv': 1772, 'patient': 1773, 'unfunni': 1774, 'welcom': 1775, 'pretend': 1776, 'con': 1777, 'dimension': 1778, 'trek': 1779, 'eric': 1780, 'cain': 1781, 'flash': 1782, 'wake': 1783, 'dri': 1784, 'lesbian': 1785, 'code': 1786, 'manipul': 1787, 'albert': 1788, 'dancer': 1789, 'guard': 1790, 'corrupt': 1791, 'statu': 1792, 'signific': 1793, 'awkward': 1794, 'speech': 1795, 'sourc': 1796, 'context': 1797, 'gain': 1798, 'psycho': 1799, 'sean': 1800, '13': 1801, 'anthoni': 1802, 'corni': 1803, 'clip': 1804, 'religion': 1805, 'theatric': 1806, 'reli': 1807, 'curiou': 1808, 'priest': 1809, 'w': 1810, 'advic': 1811, 'flow': 1812, 'addict': 1813, 'howard': 1814, 'asian': 1815, 'specif': 1816, 'skin': 1817, 'jennif': 1818, 'secur': 1819, 'golden': 1820, 'organ': 1821, 'core': 1822, 'promot': 1823, 'comfort': 1824, 'luke': 1825, 'cheat': 1826, 'lucki': 1827, 'cash': 1828, 'associ': 1829, 'lower': 1830, 'dislik': 1831, 'wing': 1832, 'frankli': 1833, 'devic': 1834, 'regret': 1835, 'balanc': 1836, 'contribut': 1837, 'degre': 1838, 'spell': 1839, 'frequent': 1840, 'lake': 1841, 'forgiv': 1842, 'sake': 1843, 'print': 1844, 'mass': 1845, 'betti': 1846, 'thoma': 1847, 'unexpect': 1848, 'gordon': 1849, 'crack': 1850, 'construct': 1851, 'invit': 1852, 'grown': 1853, 'categori': 1854, 'depend': 1855, 'amateur': 1856, 'unfold': 1857, 'matur': 1858, 'intellectu': 1859, 'anna': 1860, 'walter': 1861, 'grew': 1862, 'honor': 1863, 'condit': 1864, 'veteran': 1865, 'mirror': 1866, 'spectacular': 1867, 'sudden': 1868, 'sole': 1869, 'meanwhil': 1870, 'gift': 1871, 'liner': 1872, 'experienc': 1873, 'overli': 1874, 'demonstr': 1875, 'freedom': 1876, 'grip': 1877, 'card': 1878, 'robin': 1879, 'crappi': 1880, 'oliv': 1881, 'unabl': 1882, 'colour': 1883, 'subtitl': 1884, 'sheriff': 1885, 'section': 1886, 'circumst': 1887, 'drew': 1888, 'theori': 1889, 'brilliantli': 1890, 'laughter': 1891, 'sheer': 1892, 'pile': 1893, 'cook': 1894, 'matt': 1895, 'path': 1896, 'altern': 1897, 'parker': 1898, 'accident': 1899, 'wander': 1900, 'hall': 1901, 'relief': 1902, 'lawyer': 1903, 'defin': 1904, 'treatment': 1905, 'sinatra': 1906, 'captiv': 1907, 'hank': 1908, 'dragon': 1909, 'gratuit': 1910, 'moor': 1911, 'halloween': 1912, 'unintent': 1913, 'kung': 1914, 'wound': 1915, 'k': 1916, 'cowboy': 1917, 'wayn': 1918, 'broadway': 1919, 'jacki': 1920, 'barbara': 1921, 'spoof': 1922, 'surreal': 1923, 'statement': 1924, 'winter': 1925, 'canadian': 1926, 'fare': 1927, 'compos': 1928, 'gonna': 1929, 'treasur': 1930, 'fish': 1931, 'cheer': 1932, 'emerg': 1933, 'victor': 1934, 'unrealist': 1935, 'sensit': 1936, 'woodi': 1937, 'sympathet': 1938, 'driven': 1939, 'neighbor': 1940, 'ran': 1941, 'overlook': 1942, 'authent': 1943, 'expos': 1944, 'topic': 1945, 'menac': 1946, 'glass': 1947, 'handsom': 1948, 'ancient': 1949, 'chief': 1950, 'michel': 1951, 'gross': 1952, 'feet': 1953, 'pleasant': 1954, 'comedian': 1955, 'network': 1956, 'contemporari': 1957, 'nevertheless': 1958, 'stranger': 1959, 'cinderella': 1960, 'built': 1961, 'russel': 1962, 'miser': 1963, 'earn': 1964, 'underr': 1965, 'consider': 1966, 'letter': 1967, 'endless': 1968, 'gori': 1969, 'blockbust': 1970, 'switch': 1971, 'brook': 1972, 'solv': 1973, 'victoria': 1974, 'virgin': 1975, 'bullet': 1976, 'convict': 1977, 'edward': 1978, 'joseph': 1979, 'cynic': 1980, 'chosen': 1981, '0': 1982, 'scenario': 1983, 'scale': 1984, 'alex': 1985, 'sword': 1986, 'gut': 1987, 'curs': 1988, 'com': 1989, 'outrag': 1990, 'substanc': 1991, 'juli': 1992, 'uk': 1993, 'driver': 1994, 'proper': 1995, 'monkey': 1996, 'screenwrit': 1997, 'wrap': 1998, 'indic': 1999, 'par': 2000, 'remov': 2001, 'bird': 2002, 'court': 2003, 'nanci': 2004, 'inevit': 2005, 'grave': 2006, 'rental': 2007, 'naiv': 2008, 'loser': 2009, 'consequ': 2010, 'roy': 2011, 'advertis': 2012, 'brave': 2013, 'bridg': 2014, 'slap': 2015, 'le': 2016, 'germani': 2017, 'invis': 2018, 'fatal': 2019, 'provok': 2020, 'anger': 2021, 'ador': 2022, 'footbal': 2023, 'loui': 2024, 'anderson': 2025, 'chan': 2026, 'alcohol': 2027, 'ryan': 2028, 'professor': 2029, 'stumbl': 2030, 'willi': 2031, 'bat': 2032, 'sharp': 2033, 'patrick': 2034, '1930': 2035, 'assassin': 2036, 'australian': 2037, 'eight': 2038, 'cell': 2039, 'heck': 2040, 'amateurish': 2041, 'refresh': 2042, 'trilog': 2043, 'lousi': 2044, 'saturday': 2045, 'ape': 2046, 'liber': 2047, 'strongli': 2048, 'deni': 2049, 'sin': 2050, 'vagu': 2051, 'resid': 2052, 'san': 2053, 'justifi': 2054, 'mini': 2055, 'reput': 2056, 'terrifi': 2057, 'indi': 2058, 'creator': 2059, 'defeat': 2060, 'sympathi': 2061, 'tabl': 2062, 'tediou': 2063, 'prevent': 2064, 'task': 2065, 'endur': 2066, 'expert': 2067, 'trial': 2068, 'rival': 2069, 'employ': 2070, 'imit': 2071, 'basebal': 2072, 'offend': 2073, 'che': 2074, 'max': 2075, 'beach': 2076, 'europ': 2077, 'pitch': 2078, 'dig': 2079, 'weekend': 2080, 'complaint': 2081, 'fairi': 2082, 'risk': 2083, 'purchas': 2084, 'murphi': 2085, 'format': 2086, 'titan': 2087, 'harsh': 2088, 'nois': 2089, 'hype': 2090, 'tini': 2091, 'reminisc': 2092, 'bite': 2093, 'glimps': 2094, 'powel': 2095, '14': 2096, 'asleep': 2097, 'north': 2098, 'strip': 2099, 'fals': 2100, 'prime': 2101, 'till': 2102, 'descript': 2103, 'texa': 2104, 'africa': 2105, 'revel': 2106, 'destruct': 2107, 'uninterest': 2108, 'semi': 2109, 'sitcom': 2110, 'inner': 2111, 'surfac': 2112, 'excess': 2113, 'arrest': 2114, 'spin': 2115, 'makeup': 2116, 'twin': 2117, 'dinosaur': 2118, 'hitchcock': 2119, 'controversi': 2120, 'maintain': 2121, 'massiv': 2122, 'argu': 2123, 'stare': 2124, 'reject': 2125, 'melodrama': 2126, 'expens': 2127, 'insist': 2128, 'ludicr': 2129, 'ideal': 2130, 'kim': 2131, 'supernatur': 2132, 'ala': 2133, 'nail': 2134, 'forest': 2135, 'subplot': 2136, 'press': 2137, 'ga': 2138, 'atroci': 2139, 'host': 2140, 'erot': 2141, 'columbo': 2142, 'notch': 2143, 'cant': 2144, 'identifi': 2145, 'presum': 2146, 'dude': 2147, 'forgett': 2148, 'crude': 2149, 'guest': 2150, 'method': 2151, 'character': 2152, 'closer': 2153, 'plagu': 2154, 'beast': 2155, 'princess': 2156, 'border': 2157, 'landscap': 2158, 'ear': 2159, 'foster': 2160, 'lion': 2161, 'previous': 2162, 'damag': 2163, 'birth': 2164, 'accus': 2165, 'jungl': 2166, 'urban': 2167, 'pacino': 2168, 'storytel': 2169, 'aunt': 2170, 'bound': 2171, 'chose': 2172, 'guid': 2173, 'nude': 2174, 'jess': 2175, 'thirti': 2176, 'propaganda': 2177, 'emma': 2178, 'doll': 2179, 'warrior': 2180, 'mate': 2181, '25': 2182, 'whoever': 2183, 'mainstream': 2184, 'pet': 2185, 'friday': 2186, 'upset': 2187, 'size': 2188, 'merit': 2189, 'gritti': 2190, 'exact': 2191, 'poster': 2192, 'deadli': 2193, 'cooper': 2194, 'latest': 2195, 'contact': 2196, '1990': 2197, 'blend': 2198, 'sun': 2199, 'settl': 2200, 'corps': 2201, 'buff': 2202, 'warner': 2203, 'popul': 2204, 'ton': 2205, 'citizen': 2206, 'contest': 2207, 'rough': 2208, 'wilson': 2209, 'overcom': 2210, 'widow': 2211, 'select': 2212, 'environ': 2213, 'pitt': 2214, 'mgm': 2215, 'alic': 2216, 'metal': 2217, 'bu': 2218, 'rat': 2219, 'lift': 2220, 'link': 2221, 'particip': 2222, 'revolut': 2223, 'guilti': 2224, 'ted': 2225, 'corpor': 2226, 'afternoon': 2227, 'accompani': 2228, 'johnson': 2229, 'corner': 2230, 'prostitut': 2231, 'exagger': 2232, '1960': 2233, 'moron': 2234, 'matrix': 2235, 'clair': 2236, 'friendli': 2237, 'sincer': 2238, 'instal': 2239, 'hood': 2240, 'leagu': 2241, 'doom': 2242, 'holm': 2243, 'multipl': 2244, 'hip': 2245, 'campi': 2246, 'examin': 2247, 'sunday': 2248, 'string': 2249, 'aka': 2250, 'irish': 2251, 'blah': 2252, 'advis': 2253, 'junk': 2254, 'grim': 2255, 'lugosi': 2256, 'defend': 2257, 'varieti': 2258, 'confid': 2259, 'shake': 2260, 'pro': 2261, 'tight': 2262, 'shut': 2263, 'icon': 2264, 'rachel': 2265, 'medic': 2266, 'mexican': 2267, 'denni': 2268, 'directli': 2269, 'attach': 2270, 'goal': 2271, 'jaw': 2272, 'sullivan': 2273, 'sentenc': 2274, 'vietnam': 2275, 'dean': 2276, 'courag': 2277, 'sarah': 2278, 'truck': 2279, 'prior': 2280, 'duke': 2281, 'legendari': 2282, 'bourn': 2283, 'terrorist': 2284, 'breast': 2285, 'nose': 2286, 'yell': 2287, 'proceed': 2288, 'split': 2289, 'un': 2290, 'donald': 2291, 'hong': 2292, 'entri': 2293, 'behav': 2294, 'gather': 2295, 'jerk': 2296, 'concentr': 2297, 'unconvinc': 2298, 'buri': 2299, 'lifetim': 2300, 'crush': 2301, 'everywher': 2302, 'borrow': 2303, 'swim': 2304, 'forth': 2305, 'confess': 2306, 'stolen': 2307, 'turkey': 2308, 'lip': 2309, 'deliveri': 2310, 'pan': 2311, 'spite': 2312, 'california': 2313, 'julia': 2314, 'quest': 2315, 'proud': 2316, 'hoffman': 2317, 'flight': 2318, 'china': 2319, 'reward': 2320, 'downright': 2321, 'offici': 2322, 'freeman': 2323, 'encourag': 2324, 'lazi': 2325, 'inept': 2326, 'sir': 2327, 'sink': 2328, 'jon': 2329, 'betray': 2330, 'worthwhil': 2331, 'jail': 2332, 'fabul': 2333, 'notori': 2334, 'fade': 2335, 'retard': 2336, 'storm': 2337, 'susan': 2338, 'teeth': 2339, 'survivor': 2340, 'shower': 2341, 'relev': 2342, 'bell': 2343, 'cousin': 2344, 'bag': 2345, 'imageri': 2346, 'lisa': 2347, 'branagh': 2348, 'facial': 2349, 'stab': 2350, 'finger': 2351, 'bride': 2352, 'tremend': 2353, 'hugh': 2354, 'summari': 2355, 'alright': 2356, 'quirki': 2357, 'toler': 2358, 'mexico': 2359, 'shark': 2360, 'trade': 2361, 'von': 2362, 'pose': 2363, 'hyster': 2364, 'blown': 2365, 'bitter': 2366, 'ha': 2367, 'afterward': 2368, 'scheme': 2369, 'ron': 2370, 'bone': 2371, 'address': 2372, 'ned': 2373, 'larri': 2374, 'christ': 2375, 'cruel': 2376, 'pursu': 2377, 'distinct': 2378, 'swear': 2379, 'snake': 2380, 'thumb': 2381, 'tour': 2382, 'beg': 2383, 'traci': 2384, 'screw': 2385, 'feed': 2386, 'raw': 2387, 'chair': 2388, 'occas': 2389, 'stomach': 2390, 'mechan': 2391, 'photo': 2392, 'obscur': 2393, 'necessarili': 2394, 'holiday': 2395, 'gruesom': 2396, 'southern': 2397, 'chain': 2398, 'argument': 2399, 'cabin': 2400, 'heavili': 2401, 'render': 2402, 'resist': 2403, 'sidney': 2404, 'hardi': 2405, 'understood': 2406, 'satan': 2407, 'racist': 2408, 'indulg': 2409, 'india': 2410, 'philip': 2411, 'integr': 2412, 'pregnant': 2413, 'forgot': 2414, 'obnoxi': 2415, 'tongu': 2416, 'midnight': 2417, 'stalk': 2418, 'outfit': 2419, 'belov': 2420, 'fourth': 2421, 'lay': 2422, 'carol': 2423, 'inhabit': 2424, 'ticket': 2425, 'slapstick': 2426, '17': 2427, 'garden': 2428, 'restor': 2429, 'magazin': 2430, 'deeper': 2431, 'shoe': 2432, 'brad': 2433, 'devot': 2434, 'incid': 2435, 'lincoln': 2436, 'maria': 2437, 'disbelief': 2438, 'underground': 2439, 'divorc': 2440, 'guarante': 2441, 'sandler': 2442, 'anticip': 2443, 'benefit': 2444, 'lili': 2445, 'elizabeth': 2446, 'greater': 2447, 'explod': 2448, 'creation': 2449, 'mildli': 2450, 'cring': 2451, 'princip': 2452, 'bbc': 2453, 'capit': 2454, 'amazingli': 2455, 'slave': 2456, 'funnier': 2457, 'introduct': 2458, 'halfway': 2459, 'extraordinari': 2460, 'lesli': 2461, 'wreck': 2462, 'advantag': 2463, 'tap': 2464, 'overwhelm': 2465, 'enhanc': 2466, 'transfer': 2467, 'extent': 2468, 'text': 2469, 'punish': 2470, 'preview': 2471, 'deliber': 2472, 'east': 2473, 'horrif': 2474, 'jessica': 2475, 'plant': 2476, 'lo': 2477, 'error': 2478, 'dynam': 2479, 'lane': 2480, 'vincent': 2481, 'ensu': 2482, 'homosexu': 2483, 'miscast': 2484, '2000': 2485, 'basi': 2486, 'sophist': 2487, 'appli': 2488, 'vacat': 2489, 'miller': 2490, 'via': 2491, 'reed': 2492, 'steel': 2493, 'bollywood': 2494, 'spoken': 2495, 'extend': 2496, 'elev': 2497, 'uncomfort': 2498, 'sleazi': 2499, 'mansion': 2500, 'measur': 2501, 'dentist': 2502, 'alter': 2503, 'overact': 2504, 'beer': 2505, 'goofi': 2506, 'breathtak': 2507, 'fix': 2508, 'mous': 2509, 'cathol': 2510, 'conceiv': 2511, 'savag': 2512, 'daili': 2513, 'melt': 2514, 'assign': 2515, 'blair': 2516, 'stanley': 2517, 'hippi': 2518, 'properli': 2519, 'subsequ': 2520, 'oppos': 2521, 'succe': 2522, 'sacrific': 2523, 'burt': 2524, 'inspector': 2525, 'nowaday': 2526, 'carpent': 2527, 'everyday': 2528, 'circl': 2529, 'laura': 2530, 'neck': 2531, 'block': 2532, 'massacr': 2533, 'portrait': 2534, 'lesser': 2535, 'fallen': 2536, 'concert': 2537, 'pool': 2538, 'christi': 2539, 'mob': 2540, 'grey': 2541, 'fay': 2542, 'access': 2543, 'seagal': 2544, 'competit': 2545, 'react': 2546, 'usa': 2547, 'relax': 2548, 'sinist': 2549, 'jewish': 2550, 'chees': 2551, 'isol': 2552, 'jake': 2553, '2006': 2554, 'nonetheless': 2555, 'chop': 2556, 'suitabl': 2557, 'appal': 2558, 'lyric': 2559, 'stink': 2560, 'spiritu': 2561, 'immens': 2562, 'creep': 2563, 'ironi': 2564, 'nine': 2565, 'franchis': 2566, 'reduc': 2567, 'sold': 2568, 'adopt': 2569, 'rage': 2570, 'showcas': 2571, 'shirt': 2572, 'needless': 2573, 'spring': 2574, 'user': 2575, 'luci': 2576, 'retir': 2577, 'nut': 2578, 'navi': 2579, 'nurs': 2580, 'asham': 2581, 'zone': 2582, 'uninspir': 2583, 'bath': 2584, 'stanwyck': 2585, 'bulli': 2586, 'per': 2587, 'jay': 2588, 'digit': 2589, 'oddli': 2590, 'laid': 2591, 'amongst': 2592, '2001': 2593, 'sutherland': 2594, '1940': 2595, 'upper': 2596, 'illustr': 2597, 'broadcast': 2598, 'aspir': 2599, 'brando': 2600, 'fulfil': 2601, 'throat': 2602, 'stylish': 2603, 'disguis': 2604, 'baker': 2605, 'nobl': 2606, 'pride': 2607, 'wwii': 2608, 'thief': 2609, 'neighborhood': 2610, 'endear': 2611, '18': 2612, 'impli': 2613, 'wanna': 2614, 'pound': 2615, 'em': 2616, 'bett': 2617, '16': 2618, 'diseas': 2619, 'shift': 2620, 'cinematograph': 2621, 'coher': 2622, 'dawn': 2623, 'prop': 2624, 'shoulder': 2625, 'distribut': 2626, 'bo': 2627, 'albeit': 2628, 'tens': 2629, 'dinner': 2630, 'rochest': 2631, 'function': 2632, 'snow': 2633, 'forti': 2634, 'shout': 2635, 'wash': 2636, 'silenc': 2637, 'rebel': 2638, 'poignant': 2639, 'contract': 2640, 'knife': 2641, 'surf': 2642, 'matthau': 2643, 'internet': 2644, 'heat': 2645, 'duti': 2646, 'mindless': 2647, 'proof': 2648, 'instinct': 2649, 'henc': 2650, 'horrend': 2651, 'eeri': 2652, 'cancel': 2653, 'cannib': 2654, 'reunion': 2655, 'silver': 2656, 'chuck': 2657, 'height': 2658, 'elvira': 2659, 'derek': 2660, 'widmark': 2661, 'premier': 2662, 'pie': 2663, 'innov': 2664, 'mill': 2665, 'musician': 2666, 'etern': 2667, 'torn': 2668, 'greatli': 2669, 'elvi': 2670, 'neat': 2671, 'repetit': 2672, 'alik': 2673, 'incoher': 2674, 'glori': 2675, 'absorb': 2676, 'spielberg': 2677, 'announc': 2678, 'wealthi': 2679, 'lovabl': 2680, 'crisi': 2681, 'racism': 2682, 'britain': 2683, 'horrifi': 2684, 'nelson': 2685, 'fbi': 2686, 'homag': 2687, 'infam': 2688, 'itali': 2689, 'burton': 2690, 'trite': 2691, 'bang': 2692, 'blank': 2693, 'redempt': 2694, 'precis': 2695, 'diamond': 2696, 'happili': 2697, 'dedic': 2698, 'chaplin': 2699, 'helen': 2700, 'wilder': 2701, 'resolut': 2702, 'parallel': 2703, 'flop': 2704, 'pat': 2705, 'ensembl': 2706, 'streisand': 2707, 'hammer': 2708, 'carter': 2709, 'cube': 2710, 'triumph': 2711, 'oil': 2712, 'factori': 2713, 'plastic': 2714, 'broke': 2715, 'mar': 2716, 'st': 2717, 'conclud': 2718, 'disagre': 2719, 'weight': 2720, 'chuckl': 2721, 'row': 2722, 'own': 2723, 'march': 2724, 'fighter': 2725, 'vega': 2726, 'climb': 2727, 'rocket': 2728, 'bush': 2729, 'dane': 2730, 'unforgett': 2731, 'meaning': 2732, 'lust': 2733, 'mst3k': 2734, 'dump': 2735, 'enorm': 2736, 'wherea': 2737, 'sensibl': 2738, 'luca': 2739, 'boot': 2740, 'spare': 2741, 'thug': 2742, 'kurt': 2743, 'difficulti': 2744, 'brand': 2745, 'fifti': 2746, 'butt': 2747, 'rap': 2748, 'caricatur': 2749, 'bobbi': 2750, 'arnold': 2751, 'adequ': 2752, 'threat': 2753, 'dear': 2754, 'engin': 2755, 'stress': 2756, 'karloff': 2757, 'swing': 2758, 'homeless': 2759, 'ego': 2760, 'barri': 2761, 'polish': 2762, 'fest': 2763, 'elabor': 2764, 'journalist': 2765, 'arrog': 2766, 'flynn': 2767, 'ralph': 2768, 'secretari': 2769, 'hamlet': 2770, 'resort': 2771, 'float': 2772, 'induc': 2773, 'tool': 2774, 'puppet': 2775, 'conspiraci': 2776, 'grate': 2777, 'simpson': 2778, 'fanci': 2779, 'spike': 2780, 'arrang': 2781, 'unbear': 2782, 'basement': 2783, 'choreograph': 2784, 'exercis': 2785, 'muppet': 2786, 'tribut': 2787, 'phillip': 2788, 'boll': 2789, 'cruis': 2790, 'guilt': 2791, 'pig': 2792, '24': 2793, 'editor': 2794, 'stan': 2795, 'document': 2796, 'layer': 2797, 'toilet': 2798, 'korean': 2799, 'file': 2800, 'puzzl': 2801, 'tower': 2802, 'fianc': 2803, 'scarecrow': 2804, 'medium': 2805, 'babe': 2806, 'item': 2807, 'ward': 2808, 'slip': 2809, 'ham': 2810, 'assur': 2811, 'slaughter': 2812, 'inexplic': 2813, 'spark': 2814, 'transit': 2815, 'philosoph': 2816, 'minim': 2817, 'larger': 2818, 'superfici': 2819, 'portion': 2820, 'territori': 2821, 'librari': 2822, 'orient': 2823, 'denzel': 2824, 'persona': 2825, 'catherin': 2826, 'glover': 2827, 'doc': 2828, 'owe': 2829, 'dorothi': 2830, 'jet': 2831, 'ban': 2832, 'boredom': 2833, 'wolf': 2834, 'pg': 2835, 'shi': 2836, 'curti': 2837, 'sneak': 2838, 'jeremi': 2839, 'financi': 2840, 'walken': 2841, 'multi': 2842, 'cusack': 2843, 'metaphor': 2844, 'hudson': 2845, 'profound': 2846, 'whale': 2847, 'ambigu': 2848, 'eleph': 2849, 'backdrop': 2850, 'rave': 2851, 'birthday': 2852, 'hack': 2853, 'stiff': 2854, 'ultra': 2855, 'implaus': 2856, 'notion': 2857, 'viru': 2858, 'elsewher': 2859, 'gadget': 2860, '2005': 2861, 'union': 2862, 'slight': 2863, 'lloyd': 2864, 'disc': 2865, 'distanc': 2866, 'afford': 2867, '1st': 2868, 'superhero': 2869, 'eastwood': 2870, 'urg': 2871, 'eva': 2872, 'bibl': 2873, 'newspap': 2874, 'deriv': 2875, 'poison': 2876, 'squar': 2877, 'canada': 2878, 'hawk': 2879, 'reader': 2880, 'pad': 2881, 'essenc': 2882, 'button': 2883, 'sadist': 2884, 'skit': 2885, 'health': 2886, 'heston': 2887, 'drown': 2888, 'restaur': 2889, 'spread': 2890, 'montag': 2891, 'cure': 2892, 'charisma': 2893, 'huh': 2894, 'scoobi': 2895, 'lab': 2896, 'dealt': 2897, 'gradual': 2898, 'invest': 2899, 'companion': 2900, 'peak': 2901, 'godfath': 2902, 'maniac': 2903, 'fetch': 2904, 'estat': 2905, 'muslim': 2906, 'gothic': 2907, 'miik': 2908, 'tea': 2909, 'alli': 2910, 'cup': 2911, 'subtleti': 2912, 'servant': 2913, 'countless': 2914, 'kane': 2915, 'ritter': 2916, 'briefli': 2917, 'salli': 2918, 'heroic': 2919, 'electr': 2920, 'elect': 2921, 'iii': 2922, 'charismat': 2923, 'wannab': 2924, 'admittedli': 2925, 'bud': 2926, 'ingredi': 2927, 'cole': 2928, 'grandmoth': 2929, 'resourc': 2930, 'tender': 2931, 'toss': 2932, 'reel': 2933, 'nuanc': 2934, 'neil': 2935, 'gate': 2936, 'label': 2937, 'mild': 2938, 'shall': 2939, 'poverti': 2940, 'stronger': 2941, 'carrey': 2942, 'stood': 2943, 'pauli': 2944, 'mafia': 2945, 'pit': 2946, 'dawson': 2947, 'reev': 2948, 'punk': 2949, 'kubrick': 2950, 'cox': 2951, 'updat': 2952, 'burst': 2953, 'astair': 2954, 'fond': 2955, 'easier': 2956, 'cardboard': 2957, 'assault': 2958, 'useless': 2959, 'ian': 2960, 'outcom': 2961, 'smash': 2962, 'smooth': 2963, 'bakshi': 2964, 'terri': 2965, 'tag': 2966, 'sketch': 2967, 'rex': 2968, 'melodramat': 2969, 'vulner': 2970, '2002': 2971, 'vari': 2972, 'qualifi': 2973, 'increasingli': 2974, 'exchang': 2975, 'resolv': 2976, 'fist': 2977, 'coincid': 2978, 'divers': 2979, 'samurai': 2980, 'insert': 2981, 'scratch': 2982, 'luckili': 2983, 'blast': 2984, 'tame': 2985, 'templ': 2986, 'suspend': 2987, 'reynold': 2988, 'be': 2989, 'brillianc': 2990, 'conveni': 2991, 'meat': 2992, 'gotta': 2993, 'farm': 2994, 'nuclear': 2995, 'fisher': 2996, 'walker': 2997, 'ambiti': 2998, 'soprano': 2999, 'pin': 3000, 'strictli': 3001, 'seventi': 3002, 'jami': 3003, 'hamilton': 3004, 'coach': 3005, 'matthew': 3006, 'instantli': 3007, 'closet': 3008, 'cave': 3009, 'spooki': 3010, 'clock': 3011, 'timeless': 3012, 'kudo': 3013, 'joey': 3014, 'recreat': 3015, 'empir': 3016, 'struck': 3017, 'convolut': 3018, 'butcher': 3019, 'revers': 3020, 'eccentr': 3021, 'grasp': 3022, 'worthless': 3023, 'ninja': 3024, 'discoveri': 3025, 'brosnan': 3026, 'monk': 3027, 'bleak': 3028, 'norman': 3029, 'clown': 3030, 'wipe': 3031, 'importantli': 3032, 'cliff': 3033, 'declar': 3034, 'sidekick': 3035, 'gray': 3036, 'inconsist': 3037, 'sloppi': 3038, 'miracl': 3039, 'selfish': 3040, 'eighti': 3041, 'evok': 3042, 'pal': 3043, 'mitchel': 3044, 'fifteen': 3045, 'partli': 3046, 'communist': 3047, 'seller': 3048, 'piano': 3049, 'psychiatrist': 3050, 'cheek': 3051, 'ho': 3052, 'superbl': 3053, 'enthusiast': 3054, 'lifestyl': 3055, 'destin': 3056, 'debat': 3057, 'websit': 3058, 'aforement': 3059, 'farc': 3060, 'chew': 3061, '45': 3062, 'seed': 3063, 'flawless': 3064, 'australia': 3065, 'stoog': 3066, 'wick': 3067, 'drivel': 3068, 'wrestl': 3069, 'regardless': 3070, 'kitchen': 3071, 'dire': 3072, 'anni': 3073, 'splatter': 3074, 'pressur': 3075, 'directori': 3076, 'bash': 3077, 'akshay': 3078, 'dash': 3079, 'emili': 3080, 'abc': 3081, 'slice': 3082, 'incompet': 3083, 'soviet': 3084, 'doo': 3085, 'recov': 3086, 'curios': 3087, 'duo': 3088, 'increas': 3089, 'suppli': 3090, 'flower': 3091, 'jar': 3092, 'lou': 3093, 'helicopt': 3094, 'chapter': 3095, 'ken': 3096, 'dave': 3097, 'cameron': 3098, 'boil': 3099, 'pleasantli': 3100, 'seduc': 3101, 'judi': 3102, 'mann': 3103, 'artifici': 3104, 'blob': 3105, 'distant': 3106, 'prize': 3107, 'glow': 3108, 'cia': 3109, 'beaten': 3110, 'cagney': 3111, 'hop': 3112, 'splendid': 3113, 'craven': 3114, 'goldberg': 3115, 'combat': 3116, 'web': 3117, 'turner': 3118, 'perri': 3119, 'francisco': 3120, 'eleg': 3121, 'psychot': 3122, 'favour': 3123, 'ellen': 3124, 'glenn': 3125, 'ranger': 3126, 'craig': 3127, 'panic': 3128, 'drunken': 3129, 'laurel': 3130, 'alexand': 3131, 'fx': 3132, 'rid': 3133, 'gentl': 3134, 'hatr': 3135, 'graduat': 3136, 'shortli': 3137, '20th': 3138, 'ruth': 3139, 'philosophi': 3140, 'plausibl': 3141, 'wizard': 3142, 'slightest': 3143, 'falk': 3144, 'min': 3145, 'gandhi': 3146, 'flip': 3147, 'modesti': 3148, 'greek': 3149, 'harm': 3150, 'tall': 3151, 'ocean': 3152, 'lend': 3153, 'knight': 3154, 'preciou': 3155, 'holi': 3156, 'fund': 3157, 'manhattan': 3158, 'futurist': 3159, 'we': 3160, 'legal': 3161, 'jealou': 3162, 'unpleas': 3163, 'felix': 3164, 'dracula': 3165, 'overdon': 3166, 'tank': 3167, 'ami': 3168, 'scientif': 3169, 'giallo': 3170, 'childish': 3171, 'mock': 3172, 'thread': 3173, 'bless': 3174, 'nod': 3175, 'explicit': 3176, 'reviv': 3177, 'forbidden': 3178, 'digniti': 3179, 'pirat': 3180, '99': 3181, 'elderli': 3182, 'eve': 3183, 'broad': 3184, 'awe': 3185, 'unwatch': 3186, 'verhoeven': 3187, 'yesterday': 3188, 'mel': 3189, 'awaken': 3190, 'thick': 3191, 'fever': 3192, '2004': 3193, 'torment': 3194, 'nerv': 3195, 'repeatedli': 3196, 'margaret': 3197, 'bin': 3198, 'politician': 3199, 'rivet': 3200, 'lean': 3201, 'custom': 3202, 'stiller': 3203, 'roman': 3204, 'automat': 3205, 'acclaim': 3206, 'eas': 3207, 'launch': 3208, 'absenc': 3209, 'romero': 3210, 'publish': 3211, 'griffith': 3212, 'ambit': 3213, 'uniform': 3214, 'kay': 3215, 'royal': 3216, 'ah': 3217, 'timothi': 3218, 'darker': 3219, 'homicid': 3220, 'foul': 3221, 'sunshin': 3222, 'warren': 3223, 'antic': 3224, 'stinker': 3225, 'transport': 3226, 'bathroom': 3227, 'pulp': 3228, 'termin': 3229, 'pierc': 3230, 'gabriel': 3231, 'phrase': 3232, 'tomato': 3233, 'purpl': 3234, 'wallac': 3235, 'crook': 3236, 'juvenil': 3237, 'choreographi': 3238, 'contrari': 3239, 'sixti': 3240, 'donna': 3241, 'evolv': 3242, 'li': 3243, 'viciou': 3244, 'karen': 3245, 'revolutionari': 3246, 'pray': 3247, 'brazil': 3248, 'album': 3249, 'hollow': 3250, 'ought': 3251, 'saint': 3252, '2003': 3253, 'packag': 3254, 'rambo': 3255, 'awak': 3256, 'horrid': 3257, 'q': 3258, 'kenneth': 3259, 'marin': 3260, 'prom': 3261, 'coloni': 3262, 'eyr': 3263, 'conserv': 3264, 'kapoor': 3265, 'defi': 3266, 'mummi': 3267, 'stole': 3268, 'nerd': 3269, 'beatti': 3270, 'ireland': 3271, 'dose': 3272, 'mildr': 3273, 'option': 3274, 'twelv': 3275, 'overr': 3276, 'blade': 3277, 'candid': 3278, 'boast': 3279, 'ramon': 3280, 'trio': 3281, 'funer': 3282, 'natali': 3283, 'confirm': 3284, 'fulci': 3285, 'astonish': 3286, 'detract': 3287, 'protest': 3288, 'collabor': 3289, 'jazz': 3290, 'global': 3291, 'kirk': 3292, 'flame': 3293, 'altman': 3294, 'spit': 3295, 'yellow': 3296, 'blake': 3297, 'bull': 3298, 'audio': 3299, 'delici': 3300, 'bottl': 3301, 'leap': 3302, 'tommi': 3303, 'enterpris': 3304, 'shade': 3305, 'racial': 3306, 'destini': 3307, 'mystic': 3308, 'whip': 3309, 'nicholson': 3310, 'merci': 3311, 'inherit': 3312, 'popcorn': 3313, 'pseudo': 3314, 'enchant': 3315, 'adolesc': 3316, 'reunit': 3317, 'fonda': 3318, 'staff': 3319, 'visibl': 3320, 'altogeth': 3321, 'harder': 3322, 'neo': 3323, 'swedish': 3324, 'threw': 3325, 'bedroom': 3326, 'meaningless': 3327, 'vivid': 3328, 'todd': 3329, 'tip': 3330, 'atlanti': 3331, 'bust': 3332, 'uneven': 3333, 'voight': 3334, 'synopsi': 3335, 'madonna': 3336, 'befriend': 3337, 'reserv': 3338, 'leonard': 3339, 'suspici': 3340, 'jew': 3341, 'fanat': 3342, 'ruthless': 3343, 'edi': 3344, 'exhibit': 3345, 'decor': 3346, 'wire': 3347, 'respond': 3348, 'roommat': 3349, 'lawrenc': 3350, 'kennedi': 3351, 'moodi': 3352, 'lemmon': 3353, 'await': 3354, 'crocodil': 3355, 'ventur': 3356, 'incident': 3357, 'palma': 3358, 'bradi': 3359, 'bold': 3360, 'dimens': 3361, 'clint': 3362, 'holli': 3363, 'audit': 3364, '2007': 3365, 'garner': 3366, 'clumsi': 3367, 'abysm': 3368, 'bargain': 3369, 'centr': 3370, 'voyag': 3371, 'unsettl': 3372, 'rural': 3373, 'chao': 3374, 'carl': 3375, 'immigr': 3376, 'acknowledg': 3377, 'humili': 3378, 'tiger': 3379, 'troop': 3380, 'echo': 3381, 'trail': 3382, 'mall': 3383, 'elimin': 3384, 'neglect': 3385, 'poetic': 3386, 'cd': 3387, 'nearbi': 3388, 'daddi': 3389, '2nd': 3390, 'hart': 3391, 'wealth': 3392, 'imperson': 3393, 'versu': 3394, 'cuba': 3395, 'lit': 3396, 'characterist': 3397, 'timon': 3398, 'cari': 3399, 'ant': 3400, 'celluloid': 3401, 'jeffrey': 3402, 'infect': 3403, 'prejudic': 3404, 'collaps': 3405, 'domest': 3406, 'paus': 3407, 'marshal': 3408, 'homer': 3409, 'solo': 3410, 'repuls': 3411, 'mistaken': 3412, 'mickey': 3413, 'pun': 3414, 'saga': 3415, 'equip': 3416, 'ginger': 3417, '1996': 3418, 'inan': 3419, 'cake': 3420, 'sore': 3421, 'apolog': 3422, 'hbo': 3423, 'chest': 3424, 'assembl': 3425, 'undoubtedli': 3426, 'coat': 3427, 'olivi': 3428, 'gear': 3429, 'tribe': 3430, 'pant': 3431, 'interrupt': 3432, 'leon': 3433, 'milk': 3434, 'promin': 3435, 'coffe': 3436, 'inappropri': 3437, 'harvey': 3438, 'retain': 3439, 'solut': 3440, 'trace': 3441, 'embrac': 3442, 'jenni': 3443, 'aveng': 3444, 'airplan': 3445, 'furthermor': 3446, 'institut': 3447, 'vulgar': 3448, 'pot': 3449, 'instant': 3450, 'exot': 3451, 'devast': 3452, 'florida': 3453, 'highest': 3454, 'consum': 3455, 'brooklyn': 3456, 'primari': 3457, 'colleagu': 3458, 'maggi': 3459, 'colonel': 3460, 'pen': 3461, 'polanski': 3462, 'humbl': 3463, 'cope': 3464, 'strain': 3465, 'outer': 3466, 'dutch': 3467, '1999': 3468, 'poke': 3469, 'seduct': 3470, 'descend': 3471, 'rick': 3472, 'bowl': 3473, '3rd': 3474, 'linda': 3475, 'dian': 3476, 'principl': 3477, 'illog': 3478, 'smaller': 3479, 'sale': 3480, 'gender': 3481, 'disabl': 3482, 'ya': 3483, 'godzilla': 3484, 'wive': 3485, 'secondli': 3486, 'gloriou': 3487, 'cue': 3488, 'devoid': 3489, 'dive': 3490, 'dud': 3491, 'predecessor': 3492, 'bubbl': 3493, 'primarili': 3494, 'mixtur': 3495, 'beneath': 3496, 'glamor': 3497, 'inferior': 3498, 'vast': 3499, 'blatant': 3500, 'rabbit': 3501, 'yard': 3502, 'lol': 3503, 'hal': 3504, 'scope': 3505, 'gundam': 3506, 'disjoint': 3507, 'senseless': 3508, 'april': 3509, 'breed': 3510, 'grinch': 3511, 'shelf': 3512, 'alfr': 3513, 'museum': 3514, 'z': 3515, 'aggress': 3516, 'streep': 3517, 'trademark': 3518, 'alert': 3519, 'myer': 3520, 'simplist': 3521, 'talki': 3522, 'pearl': 3523, 'invas': 3524, 'casual': 3525, 'shirley': 3526, 'countrysid': 3527, 'et': 3528, 'domino': 3529, 'hideou': 3530, 'arab': 3531, 'garbo': 3532, 'loyal': 3533, 'hardcor': 3534, 'stellar': 3535, 'defens': 3536, 'mayor': 3537, 'stack': 3538, 'robberi': 3539, 'sh': 3540, 'boom': 3541, 'maci': 3542, 'slide': 3543, 'hopeless': 3544, 'mail': 3545, 'acid': 3546, 'oz': 3547, 'uwe': 3548, 'stir': 3549, 'applaud': 3550, 'khan': 3551, 'experiment': 3552, 'unhappi': 3553, 'disgrac': 3554, 'obtain': 3555, 'robinson': 3556, 'rendit': 3557, 'vanish': 3558, 'illeg': 3559, 'dicken': 3560, 'emphasi': 3561, 'tempt': 3562, 'declin': 3563, 'counter': 3564, 'blew': 3565, 'grandfath': 3566, 'recruit': 3567, 'berlin': 3568, 'wont': 3569, 'span': 3570, 'craze': 3571, 'psychic': 3572, 'diana': 3573, 'spider': 3574, 'dismiss': 3575, 'rifl': 3576, 'scroog': 3577, 'incomprehens': 3578, 'fri': 3579, 'amanda': 3580, 'topless': 3581, 'soccer': 3582, 'tenant': 3583, 'hartley': 3584, 'resurrect': 3585, 'ethnic': 3586, 'porno': 3587, 'bitch': 3588, 'shed': 3589, 'niro': 3590, 'intim': 3591, 'trashi': 3592, 'shaw': 3593, 'goer': 3594, 'sibl': 3595, 'riot': 3596, 'faster': 3597, 'ration': 3598, 'lumet': 3599, 'sympath': 3600, 'revolt': 3601, 'parad': 3602, 'woo': 3603, 'wet': 3604, 'justin': 3605, 'slick': 3606, 'region': 3607, 'nephew': 3608, 'honesti': 3609, 'lena': 3610, 'patriot': 3611, 'ensur': 3612, 'hesit': 3613, 'partial': 3614, 'weakest': 3615, 'biographi': 3616, 'ballet': 3617, 'choru': 3618, 'unreal': 3619, 'gap': 3620, 'dealer': 3621, 'farmer': 3622, 'hopper': 3623, 'commend': 3624, 'mario': 3625, 'wheel': 3626, 'worm': 3627, 'immort': 3628, 'eager': 3629, 'jonathan': 3630, 'rider': 3631, '00': 3632, 'wendi': 3633, 'feminist': 3634, 'steam': 3635, 'enlighten': 3636, 'andr': 3637, 'util': 3638, 'safeti': 3639, 'wore': 3640, 'morri': 3641, 'owen': 3642, 'mutant': 3643, 'composit': 3644, 'similarli': 3645, 'hung': 3646, 'leo': 3647, 'snap': 3648, 'properti': 3649, 'repress': 3650, 'confin': 3651, 'franco': 3652, 'kingdom': 3653, 'nostalg': 3654, 'skull': 3655, 'sappi': 3656, 'psychopath': 3657, 'charlott': 3658, 'sandra': 3659, 'vice': 3660, 'prequel': 3661, 'blunt': 3662, 'victori': 3663, 'macarthur': 3664, 'miseri': 3665, 'montana': 3666, 'whoopi': 3667, 'del': 3668, 'emperor': 3669, 'hyde': 3670, 'bow': 3671, 'bergman': 3672, 'snl': 3673, 'rocki': 3674, 'compass': 3675, 'dust': 3676, 'heartbreak': 3677, 'latin': 3678, 'deed': 3679, 'bonu': 3680, 'drum': 3681, 'despair': 3682, 'tad': 3683, 'acquir': 3684, 'drain': 3685, 'nervou': 3686, 'compens': 3687, 'repli': 3688, 'exit': 3689, 'campbel': 3690, 'farrel': 3691, 'valuabl': 3692, 'recycl': 3693, 'speci': 3694, 'pattern': 3695, 'rambl': 3696, 'bumbl': 3697, 'thru': 3698, 'strand': 3699, 'rope': 3700, 'kyle': 3701, '1972': 3702, 'cg': 3703, 'tail': 3704, 'dalton': 3705, 'bleed': 3706, 'downhil': 3707, 'romp': 3708, 'wacki': 3709, '35': 3710, 'tonight': 3711, 'airport': 3712, 'roth': 3713, 'chess': 3714, 'gal': 3715, 'pour': 3716, 'rotten': 3717, 'radic': 3718, 'da': 3719, 'rapist': 3720, 'mistress': 3721, 'orson': 3722, 'oppress': 3723, 'contempl': 3724, 'percept': 3725, 'slug': 3726, 'carradin': 3727, 'olli': 3728, 'martian': 3729, 'gimmick': 3730, 'heal': 3731, 'pervert': 3732, 'pervers': 3733, 'unpredict': 3734, 'arc': 3735, 'dazzl': 3736, 'programm': 3737, 'melodi': 3738, 'shelley': 3739, 'banal': 3740, 'taught': 3741, 'paltrow': 3742, 'pursuit': 3743, 'attorney': 3744, 'slash': 3745, '1983': 3746, 'mislead': 3747, 'belt': 3748, 'stilt': 3749, 'champion': 3750, 'tooth': 3751, 'edgar': 3752, 'tackl': 3753, 'preach': 3754, 'arguabl': 3755, 'vengeanc': 3756, 'sensat': 3757, 'poem': 3758, 'graham': 3759, 'closest': 3760, 'mesmer': 3761, 'uplift': 3762, 'plight': 3763, 'maid': 3764, 'chicken': 3765, 'orang': 3766, 'duval': 3767, 'passeng': 3768, 'vocal': 3769, 'tiresom': 3770, 'marti': 3771, 'conneri': 3772, 'rubi': 3773, 'cleverli': 3774, 'employe': 3775, 'raymond': 3776, 'franki': 3777, 'gambl': 3778, 'bela': 3779, 'virginia': 3780, 'dixon': 3781, 'extens': 3782, 'volum': 3783, 'calm': 3784, 'clone': 3785, 'convincingli': 3786, 'mute': 3787, 'whine': 3788, 'suffic': 3789, 'bay': 3790, 'sirk': 3791, 'secretli': 3792, 'inject': 3793, 'crystal': 3794, 'climact': 3795, 'iran': 3796, 'numb': 3797, 'habit': 3798, 'amitabh': 3799, 'scottish': 3800, 'quarter': 3801, 'yawn': 3802, 'giggl': 3803, 'monologu': 3804, 'abraham': 3805, 'paranoia': 3806, 'gerard': 3807, 'pokemon': 3808, 'lundgren': 3809, '1968': 3810, 'swallow': 3811, 'tube': 3812, 'profan': 3813, 'engross': 3814, 'outing': 3815, 'chicago': 3816, 'nichola': 3817, 'junior': 3818, 'expand': 3819, 'poetri': 3820, 'im': 3821, 'taxi': 3822, 'bend': 3823, 'lowest': 3824, 'underst': 3825, 'plod': 3826, 'frankenstein': 3827, 'meander': 3828, 'dispos': 3829, 'franci': 3830, 'austen': 3831, 'trend': 3832, 'grotesqu': 3833, 'fed': 3834, 'surpass': 3835, 'spock': 3836, 'linger': 3837, 'ethan': 3838, 'earl': 3839, 'richardson': 3840, 'backward': 3841, 'abort': 3842, 'septemb': 3843, 'profess': 3844, 'catchi': 3845, 'rubber': 3846, 'econom': 3847, 'der': 3848, 'waitress': 3849, 'compliment': 3850, 'lure': 3851, 'simplic': 3852, 'sue': 3853, 'household': 3854, 'eugen': 3855, 'hum': 3856, 'mundan': 3857, 'literatur': 3858, 'myth': 3859, 'descent': 3860, 'stallon': 3861, 'nostalgia': 3862, 'dysfunct': 3863, 'muddl': 3864, 'greedi': 3865, 'cannon': 3866, 'instrument': 3867, 'rant': 3868, 'tourist': 3869, 'spoke': 3870, 'irrelev': 3871, 'firstli': 3872, 'coast': 3873, 'hello': 3874, 'dictat': 3875, 'damon': 3876, 'furi': 3877, 'deaf': 3878, 'map': 3879, 'mortal': 3880, 'crucial': 3881, 'equival': 3882, 'molli': 3883, 'phoni': 3884, 'bacal': 3885, 'phantom': 3886, 'stale': 3887, 'omen': 3888, 'randi': 3889, 'eaten': 3890, 'flee': 3891, 'occupi': 3892, 'carel': 3893, 'sissi': 3894, 'mankind': 3895, 'louis': 3896, 'recognit': 3897, 'dement': 3898, 'insur': 3899, 'recognis': 3900, 'lang': 3901, 'duck': 3902, 'june': 3903, 'alongsid': 3904, 'cent': 3905, 'newli': 3906, 'likewis': 3907, 'blackmail': 3908, 'reign': 3909, 'damm': 3910, 'bump': 3911, 'distinguish': 3912, 'ashley': 3913, 'rude': 3914, 'wisdom': 3915, 'labor': 3916, 'cyborg': 3917, 'freez': 3918, 'daisi': 3919, 'drake': 3920, 'dreari': 3921, 'loyalti': 3922, 'grayson': 3923, 'heel': 3924, '1973': 3925, 'onlin': 3926, 'twilight': 3927, 'bike': 3928, 'rooney': 3929, 'lengthi': 3930, 'buffalo': 3931, 'antwon': 3932, 'biko': 3933, 'butler': 3934, 'inher': 3935, 'tunnel': 3936, 'prey': 3937, 'worn': 3938, 'sailor': 3939, 'emphas': 3940, 'barrymor': 3941, 'nineti': 3942, 'proce': 3943, 'exposur': 3944, 'incorpor': 3945, 'unorigin': 3946, 'ridden': 3947, 'basketbal': 3948, 'provoc': 3949, 'boxer': 3950, 'chronicl': 3951, 'analysi': 3952, 'baddi': 3953, 'startl': 3954, 'pink': 3955, 'approv': 3956, 'keith': 3957, 'vein': 3958, 'attribut': 3959, 'interior': 3960, 'undeni': 3961, 'substitut': 3962, 'robbin': 3963, 'fleet': 3964, 'hypnot': 3965, 'underli': 3966, 'drift': 3967, 'meg': 3968, 'condemn': 3969, 'degrad': 3970, 'elm': 3971, 'barrel': 3972, 'millionair': 3973, 'mighti': 3974, 'bunni': 3975, 'carla': 3976, 'indiffer': 3977, 'walsh': 3978, 'stalker': 3979, 'meyer': 3980, 'othello': 3981, 'improvis': 3982, 'unrel': 3983, 'belushi': 3984, 'simmon': 3985, 'er': 3986, 'nicol': 3987, 'julian': 3988, 'predat': 3989, 'mormon': 3990, 'palac': 3991, 'exquisit': 3992, 'unawar': 3993, 'mtv': 3994, 'alarm': 3995, 'enthusiasm': 3996, 'nyc': 3997, 'disord': 3998, 'warmth': 3999, 'roof': 4000, 'hay': 4001, 'agenda': 4002, 'priceless': 4003, 'alison': 4004, 'vital': 4005, 'errol': 4006, 'firm': 4007, 'watson': 4008, '3d': 4009, 'lampoon': 4010, 'dolph': 4011, 'reid': 4012, 'marion': 4013, 'edgi': 4014, 'rukh': 4015, 'greed': 4016, 'shove': 4017, 'novak': 4018, 'unleash': 4019, '13th': 4020, 'crown': 4021, 'randomli': 4022, 'nun': 4023, 'spain': 4024, 'drip': 4025, 'minimum': 4026, 'peril': 4027, 'distort': 4028, 'angela': 4029, 'peck': 4030, 'campaign': 4031, 'petti': 4032, 'testament': 4033, 'israel': 4034, '1933': 4035, 'glanc': 4036, 'iraq': 4037, 'valentin': 4038, 'what': 4039, 'eastern': 4040, 'preserv': 4041, 'showdown': 4042, 'gestur': 4043, 'pamela': 4044, 'thompson': 4045, 'sergeant': 4046, 'profit': 4047, 'beatl': 4048, 'session': 4049, 'simultan': 4050, 'cassidi': 4051, 'coup': 4052, 'orlean': 4053, 'ponder': 4054, 'championship': 4055, 'zizek': 4056, 'exposit': 4057, 'quinn': 4058, 'unimagin': 4059, 'stroke': 4060, 'crow': 4061, 'realm': 4062, 'jan': 4063, 'miyazaki': 4064, 'contradict': 4065, 'cooki': 4066, 'wig': 4067, 'brenda': 4068, 'cream': 4069, 'climat': 4070, 'represent': 4071, 'mon': 4072, 'perpetu': 4073, 'sabrina': 4074, 'stake': 4075, 'crawl': 4076, 'shootout': 4077, 'travesti': 4078, 'regist': 4079, 'reson': 4080, 'valley': 4081, 'kurosawa': 4082, 'calib': 4083, 'restrain': 4084, 'rout': 4085, 'bro': 4086, 'scotland': 4087, '1984': 4088, 'buster': 4089, 'han': 4090, 'gentleman': 4091, 'fido': 4092, 'din': 4093, 'empathi': 4094, 'businessman': 4095, 'geek': 4096, 'monoton': 4097, 'distress': 4098, 'shaki': 4099, 'compromis': 4100, 'greg': 4101, '1987': 4102, 'dana': 4103, 'unseen': 4104, 'perceiv': 4105, 'passabl': 4106, 'warrant': 4107, 'painter': 4108, 'abomin': 4109, 'censor': 4110, 'tacki': 4111, 'fuller': 4112, 'unsatisfi': 4113, 'josh': 4114, 'derang': 4115, 'baldwin': 4116, 'cloud': 4117, 'delic': 4118, 'meryl': 4119, 'sucker': 4120, 'pretens': 4121, 'mclaglen': 4122, 'shoddi': 4123, 'sammi': 4124, 'wax': 4125, 'demis': 4126, 'spacey': 4127, 'ross': 4128, 'crawford': 4129, 'pole': 4130, 'traumat': 4131, 'absent': 4132, 'soderbergh': 4133, 'femm': 4134, 'stargat': 4135, '1997': 4136, 'darren': 4137, 'ustinov': 4138, '1993': 4139, 'unravel': 4140, 'verbal': 4141, 'clash': 4142, 'jewel': 4143, 'antonioni': 4144, 'tech': 4145, 'expedit': 4146, 'anchor': 4147, 'deceas': 4148, 'fog': 4149, 'tarantino': 4150, 'reluct': 4151, 'dee': 4152, 'nathan': 4153, 'seal': 4154, 'kumar': 4155, 'judgment': 4156, 'uncov': 4157, 'valid': 4158, 'sid': 4159, 'primit': 4160, 'furiou': 4161, 'accuraci': 4162, 'deniro': 4163, 'click': 4164, 'norm': 4165, 'exclus': 4166, 'polici': 4167, 'wholli': 4168, 'austin': 4169, 'fenc': 4170, 'correctli': 4171, 'pocket': 4172, 'dreck': 4173, 'slam': 4174, 'patienc': 4175, '1995': 4176, 'joel': 4177, 'hallucin': 4178, 'conduct': 4179, 'unfair': 4180, 'logan': 4181, 'sunni': 4182, 'crippl': 4183, 'fought': 4184, 'malon': 4185, 'seldom': 4186, 'darn': 4187, 'sustain': 4188, 'ritual': 4189, 'murray': 4190, 'mode': 4191, 'clerk': 4192, 'temper': 4193, 'tax': 4194, '1971': 4195, 'roller': 4196, 'enforc': 4197, 'bake': 4198, 'wang': 4199, 'vanc': 4200, 'shanghai': 4201, 'nicola': 4202, '2008': 4203, 'fabric': 4204, 'sheet': 4205, 'sand': 4206, 'wretch': 4207, 'behold': 4208, 'alec': 4209, '3000': 4210, 'debt': 4211, 'trait': 4212, 'fart': 4213, 'stark': 4214, 'squad': 4215, 'tactic': 4216, 'preposter': 4217, 'guitar': 4218, 'sweep': 4219, 'rita': 4220, 'pete': 4221, 'scriptwrit': 4222, 'bias': 4223, 'critiqu': 4224, 'divid': 4225, 'exhaust': 4226, 'outlin': 4227, 'helpless': 4228, 'despis': 4229, 'soup': 4230, 'stuart': 4231, 'canyon': 4232, 'grief': 4233, 'legaci': 4234, 'fundament': 4235, 'schedul': 4236, 'runner': 4237, 'bridget': 4238, 'technicolor': 4239, 'conscious': 4240, 'isabel': 4241, 'phil': 4242, 'robber': 4243, 'penni': 4244, 'clau': 4245, 'shell': 4246, 'preston': 4247, 'alley': 4248, 'propos': 4249, 'downey': 4250, 'lacklust': 4251, 'flair': 4252, 'palanc': 4253, 'jodi': 4254, 'rehash': 4255, 'liberti': 4256, 'restrict': 4257, 'inabl': 4258, 'passag': 4259, 'connor': 4260, 'sniper': 4261, 'marc': 4262, 'gregori': 4263, 'invad': 4264, 'cigarett': 4265, 'russia': 4266, 'drove': 4267, 'jacket': 4268, 'rear': 4269, 'kansa': 4270, 'agenc': 4271, 'sugar': 4272, 'alicia': 4273, 'implic': 4274, 'boyl': 4275, 'newman': 4276, 'vomit': 4277, 'unexpectedli': 4278, 'bloom': 4279, 'culmin': 4280, 'delv': 4281, 'sentinel': 4282, 'consciou': 4283, 'horn': 4284, 'improb': 4285, 'awhil': 4286, 'yeti': 4287, 'pale': 4288, 'feat': 4289, 'sharon': 4290, 'behaviour': 4291, 'ladder': 4292, 'arrow': 4293, 'rod': 4294, 'mccoy': 4295, 'rehears': 4296, 'asylum': 4297, 'chainsaw': 4298, '22': 4299, 'tendenc': 4300, 'aesthet': 4301, 'vet': 4302, 'foxx': 4303, 'lush': 4304, '1936': 4305, 'wrench': 4306, 'bacon': 4307, 'tripe': 4308, 'rampag': 4309, 'cap': 4310, 'kolchak': 4311, 'delet': 4312, 'karl': 4313, 'sung': 4314, 'paramount': 4315, '1920': 4316, 'tomorrow': 4317, 'el': 4318, 'weav': 4319, 'newcom': 4320, 'underneath': 4321, 'hulk': 4322, 'conscienc': 4323, 'rhythm': 4324, 'spice': 4325, 'visitor': 4326, 'suffici': 4327, 'amazon': 4328, 'stream': 4329, 'hackney': 4330, 'globe': 4331, 'elit': 4332, 'paradis': 4333, '19th': 4334, 'thunderbird': 4335, 'loneli': 4336, '1978': 4337, 'coaster': 4338, 'scoop': 4339, '1988': 4340, 'hungri': 4341, 'rumor': 4342, 'financ': 4343, 'lurk': 4344, 'basing': 4345, 'tasteless': 4346, 'filler': 4347, 'shortcom': 4348, 'minu': 4349, 'fright': 4350, 'prank': 4351, 'wildli': 4352, 'wagner': 4353, 'aristocrat': 4354, 'suspicion': 4355, 'dirt': 4356, 'inmat': 4357, 'entranc': 4358, 'atroc': 4359, 'en': 4360, 'minist': 4361, 'secondari': 4362, '1989': 4363, 'hopkin': 4364, 'recogniz': 4365, 'ingeni': 4366, 'quietli': 4367, 'springer': 4368, 'worship': 4369, 'iv': 4370, 'counterpart': 4371, 'standout': 4372, 'impos': 4373, 'brit': 4374, 'couch': 4375, 'heist': 4376, 'posey': 4377, 'abrupt': 4378, '75': 4379, 'rub': 4380, 'straightforward': 4381, 'bread': 4382, '1939': 4383, 'lectur': 4384, 'smell': 4385, 'naughti': 4386, 'grudg': 4387, 'choppi': 4388, 'penn': 4389, 'cancer': 4390, 'beverli': 4391, 'curli': 4392, 'teas': 4393, 'ram': 4394, 'immers': 4395, 'leigh': 4396, 'wwe': 4397, 'chavez': 4398, 'literari': 4399, 'chamberlain': 4400, 'paxton': 4401, 'tierney': 4402, 'moreov': 4403, 'missil': 4404, 'quaid': 4405, 'lindsay': 4406, '1986': 4407, 'ratso': 4408, 'misguid': 4409, 'cattl': 4410, 'injuri': 4411, 'transcend': 4412, 'laurenc': 4413, 'watcher': 4414, 'yearn': 4415, 'enthral': 4416, 'heartfelt': 4417, 'clan': 4418, 'variat': 4419, 'sublim': 4420, 'skeptic': 4421, 'ace': 4422, 'morbid': 4423, 'bernard': 4424, 'policeman': 4425, 'convert': 4426, 'sassi': 4427, 'nolan': 4428, 'entitl': 4429, 'nemesi': 4430, 'esther': 4431, 'net': 4432, 'duel': 4433, 'attenborough': 4434, 'geni': 4435, 'obstacl': 4436, 'buzz': 4437, 'egg': 4438, 'uncut': 4439, 'kitti': 4440, 'hopelessli': 4441, 'mytholog': 4442, 'bean': 4443, 'youngest': 4444, 'grin': 4445, 'bye': 4446, 'tyler': 4447, '1979': 4448, 'artsi': 4449, 'steadi': 4450, 'diari': 4451, 'reliabl': 4452, 'rosemari': 4453, 'characteris': 4454, 'enabl': 4455, 'cruelti': 4456, 'spiral': 4457, 'graini': 4458, 'poe': 4459, 'vader': 4460, 'out': 4461, 'setup': 4462, 'carlito': 4463, 'moder': 4464, 'dont': 4465, 'puppi': 4466, 'kidman': 4467, 'brood': 4468, 'facil': 4469, 'unexplain': 4470, 'hk': 4471, 'clueless': 4472, 'oblig': 4473, 'despic': 4474, 'spontan': 4475, 'gina': 4476, 'hammi': 4477, 'exterior': 4478, 'effici': 4479, 'acquaint': 4480, 'kline': 4481, 'niec': 4482, 'decept': 4483, 'heap': 4484, 'christin': 4485, 'martha': 4486, 'narrow': 4487, 'bewar': 4488, 'athlet': 4489, 'disastr': 4490, '1969': 4491, 'sweat': 4492, 'weather': 4493, 'hain': 4494, 'baffl': 4495, 'bounc': 4496, 'brendan': 4497, 'fuel': 4498, 'preming': 4499, 'patricia': 4500, 'underworld': 4501, 'bronson': 4502, 'gillian': 4503, 'circu': 4504, 'astound': 4505, 'preachi': 4506, 'uh': 4507, 'fontain': 4508, 'trigger': 4509, 'housewif': 4510, 'enlist': 4511, 'loath': 4512, 'scar': 4513, 'mayhem': 4514, 'viewpoint': 4515, 'insipid': 4516, 'injur': 4517, 'shatter': 4518, 'dilemma': 4519, 'analyz': 4520, 'lester': 4521, 'harmless': 4522, '73': 4523, 'outlaw': 4524, 'dandi': 4525, 'hepburn': 4526, 'virtu': 4527, 'angst': 4528, 'loi': 4529, 'renaiss': 4530, 'sooner': 4531, 'suprem': 4532, 'sleepwalk': 4533, 'mermaid': 4534, 'candl': 4535, 'taboo': 4536, 'headach': 4537, 'biker': 4538, 'goof': 4539, 'rome': 4540, 'tick': 4541, '19': 4542, 'fluff': 4543, 'amor': 4544, 'intric': 4545, 'steer': 4546, 'redund': 4547, 'claustrophob': 4548, 'ebert': 4549, 'zoom': 4550, 'dismal': 4551, 'oldest': 4552, 'salt': 4553, 'hostag': 4554, 'filth': 4555, 'whore': 4556, 'sox': 4557, 'boston': 4558, 'contempt': 4559, 'surgeri': 4560, 'foolish': 4561, 'overlong': 4562, 'immatur': 4563, 'spade': 4564, 'phenomenon': 4565, 'camcord': 4566, 'stair': 4567, 'dish': 4568, 'ariel': 4569, 'hokey': 4570, 'macho': 4571, 'glorifi': 4572, 'tripl': 4573, 'gere': 4574, 'bent': 4575, 'scorses': 4576, 'hooker': 4577, 'stimul': 4578, 'idol': 4579, 'guin': 4580, 'slimi': 4581, 'cassavet': 4582, 'corbett': 4583, 'perman': 4584, 'shred': 4585, 'spree': 4586, 'fascist': 4587, 'messi': 4588, 'margin': 4589, 'naschi': 4590, 'proport': 4591, 'spinal': 4592, 'preced': 4593, 'mutual': 4594, 'alvin': 4595, '1981': 4596, 'harold': 4597, 'shield': 4598, 'nolt': 4599, 'muscl': 4600, 'widescreen': 4601, 'cush': 4602, 'obligatori': 4603, 'flag': 4604, 'flirt': 4605, 'rhyme': 4606, 'assert': 4607, 'flashi': 4608, 'beard': 4609, '1976': 4610, 'antagonist': 4611, 'strongest': 4612, 'keen': 4613, 'radiat': 4614, 'zane': 4615, 'cohen': 4616, 'schlock': 4617, 'corman': 4618, 'mount': 4619, 'cow': 4620, 'trivia': 4621, 'gasp': 4622, 'joker': 4623, 'transplant': 4624, 'conquer': 4625, 'remad': 4626, 'frantic': 4627, 'astronaut': 4628, 'down': 4629, 'gabl': 4630, 'faint': 4631, 'dwarf': 4632, 'mol': 4633, 'barn': 4634, 'bitten': 4635, 'inflict': 4636, 'departur': 4637, 'triangl': 4638, 'info': 4639, 'flock': 4640, 'sensual': 4641, 'boob': 4642, 'claud': 4643, 'scandal': 4644, 'interestingli': 4645, 'someday': 4646, 'neurot': 4647, 'bachelor': 4648, 'deer': 4649, 'divin': 4650, 'carey': 4651, 'hara': 4652, 'www': 4653, 'ritchi': 4654, '28': 4655, 'repris': 4656, '1945': 4657, 'discern': 4658, 'fishburn': 4659, 'vaniti': 4660, 'raj': 4661, 'wield': 4662, 'strive': 4663, 'off': 4664, 'instruct': 4665, 'brush': 4666, 'persuad': 4667, 'danish': 4668, '95': 4669, 'archiv': 4670, 'mobil': 4671, 'resum': 4672, 'aborigin': 4673, 'cher': 4674, 'loretta': 4675, 'hapless': 4676, 'hilar': 4677, 'earnest': 4678, 'miracul': 4679, 'clad': 4680, 'recit': 4681, 'europa': 4682, 'axe': 4683, 'vibrant': 4684, 'hug': 4685, 'casino': 4686, 'dim': 4687, 'heartwarm': 4688, 'cycl': 4689, 'senior': 4690, 'melissa': 4691, 'banter': 4692, 'undermin': 4693, 'jade': 4694, 'bate': 4695, 'helm': 4696, 'ish': 4697, 'colin': 4698, 'kathryn': 4699, 'prophet': 4700, 'frontier': 4701, 'traffic': 4702, 'fragil': 4703, 'cb': 4704, 'dylan': 4705, 'pacif': 4706, 'mobster': 4707, 'biblic': 4708, 'anton': 4709, 'harrison': 4710, 'cliffhang': 4711, 'proclaim': 4712, 'submit': 4713, 'artwork': 4714, 'pickford': 4715, 'pixar': 4716, 'dame': 4717, 'rot': 4718, 'wendigo': 4719, 'neill': 4720, 'parson': 4721, 'timberlak': 4722, 'carlo': 4723, 'luka': 4724, 'trier': 4725, 'orphan': 4726, 'estrang': 4727, 'alexandr': 4728, 'choke': 4729, 'foil': 4730, 'feast': 4731, 'marlon': 4732, 'isra': 4733, 'illus': 4734, 'bikini': 4735, 'holocaust': 4736, 'misfortun': 4737, 'static': 4738, 'vile': 4739, 'jo': 4740, 'lucil': 4741, 'mason': 4742, 'milo': 4743, 'shepherd': 4744, 'rooki': 4745, 'toronto': 4746, 'legitim': 4747, 'articl': 4748, 'lui': 4749, 'bondag': 4750, 'venom': 4751, 'winchest': 4752, 'http': 4753, 'akin': 4754, 'seedi': 4755, 'breakfast': 4756, 'flavor': 4757, 'nope': 4758, 'cerebr': 4759, 'uma': 4760, 'pc': 4761, 'aris': 4762, 'antholog': 4763, 'redneck': 4764, 'eli': 4765, 'razor': 4766, 'blatantli': 4767, 'vanessa': 4768, 'wardrob': 4769, 'electron': 4770, 'northern': 4771, 'jordan': 4772, 'token': 4773, 'sicken': 4774, 'mathieu': 4775, 'leather': 4776, 'clinic': 4777, 'disregard': 4778, 'gilbert': 4779, 'glare': 4780, 'charlton': 4781, 'magician': 4782, 'cartoonish': 4783, 'linear': 4784, 'peer': 4785, 'frog': 4786, 'oppon': 4787, 'dudley': 4788, 'comprehend': 4789, 'styliz': 4790, 'audrey': 4791, 'howl': 4792, 'ceremoni': 4793, 'shorter': 4794, 'abund': 4795, 'ideolog': 4796, 'highway': 4797, 'tack': 4798, 'outdat': 4799, 'smack': 4800, 'deem': 4801, 'huston': 4802, 'fifth': 4803, 'knightley': 4804, 'nightclub': 4805, 'affleck': 4806, 'retriev': 4807, 'turd': 4808, 'psych': 4809, 'wrestler': 4810, 'gunga': 4811, 'swept': 4812, 'boyer': 4813, 'feminin': 4814, '1991': 4815, 'spine': 4816, 'cemeteri': 4817, 'goldsworthi': 4818, 'energet': 4819, '4th': 4820, 'monument': 4821, 'boo': 4822, 'newer': 4823, 'lighter': 4824, 'collector': 4825, 'client': 4826, 'btw': 4827, 'uniformli': 4828, 'phenomen': 4829, 'bastard': 4830, 'mitch': 4831, 'senat': 4832, 'chip': 4833, 'whack': 4834, 'lavish': 4835, '1994': 4836, 'sleaz': 4837, 'deliver': 4838, 'toe': 4839, 'bogu': 4840, 'compris': 4841, 'einstein': 4842, 'potter': 4843, 'corn': 4844, 'summar': 4845, 'moe': 4846, 'snatch': 4847, 'durat': 4848, 'evolut': 4849, 'conrad': 4850, 'braveheart': 4851, 'plate': 4852, 'salman': 4853, 'tara': 4854, 'breakdown': 4855, 'greet': 4856, 'cuban': 4857, 'lifeless': 4858, 'spawn': 4859, 'ol': 4860, 'occup': 4861, 'undertak': 4862, 'jedi': 4863, 'historian': 4864, 'ie': 4865, 'creek': 4866, 'pronounc': 4867, 'outright': 4868, 'alleg': 4869, 'trauma': 4870, 'signal': 4871, 'healthi': 4872, 'jare': 4873, 'embark': 4874, 'eleven': 4875, 'luxuri': 4876, 'appl': 4877, 'sorrow': 4878, 'mcqueen': 4879, 'neatli': 4880, 'belli': 4881, 'kent': 4882, 'judd': 4883, '1974': 4884, '1977': 4885, 'capot': 4886, 'armstrong': 4887, 'randolph': 4888, 'wtf': 4889, 'jam': 4890, 'firmli': 4891, 'undead': 4892, 'bulk': 4893, 'clara': 4894, 'gilliam': 4895, 'constitut': 4896, 'bori': 4897, 'inaccuraci': 4898, 'lex': 4899, 'spectacl': 4900, 'fluid': 4901, 'cecil': 4902, 'jule': 4903, 'kazan': 4904, 'replay': 4905, 'evelyn': 4906, 'liu': 4907, 'nina': 4908, 'inclus': 4909, 'id': 4910, 'forgiven': 4911, 'palm': 4912, 'miami': 4913, 'porter': 4914, 'subtli': 4915, 'aussi': 4916, 'kiddi': 4917, 'meal': 4918, 'knee': 4919, 'pepper': 4920, 'relentless': 4921, 'ash': 4922, 'miniseri': 4923, 'goldblum': 4924, 'blur': 4925, 'unattract': 4926, 'poker': 4927, 'genet': 4928, 'roar': 4929, 'congratul': 4930, '1985': 4931, 'tokyo': 4932, 'comb': 4933, 'bait': 4934, 'sidewalk': 4935, 'truman': 4936, 'abound': 4937, 'sacrif': 4938, 'basket': 4939, 'conan': 4940, 'spray': 4941, 'lauren': 4942, 'carmen': 4943, 'lanc': 4944, 'pioneer': 4945, 'propheci': 4946, 'decapit': 4947, 'walt': 4948, 'rosario': 4949, 'fruit': 4950, 'unsuspect': 4951, 'vain': 4952, 'galaxi': 4953, 'comprehens': 4954, 'mum': 4955, 'curtain': 4956, 'antonio': 4957, 'cape': 4958, 'bsg': 4959, 'groan': 4960, 'inaccur': 4961, 'paula': 4962, 'vignett': 4963, 'sparkl': 4964, 'ghetto': 4965, 'victorian': 4966, 'ingrid': 4967, 'scariest': 4968, 'handicap': 4969, 'modest': 4970, 'reincarn': 4971, 'growth': 4972, 'hostil': 4973, 'macabr': 4974, 'mice': 4975, 'profil': 4976, 'incorrect': 4977, 'weaker': 4978, 'dubiou': 4979, 'bach': 4980, 'turtl': 4981, 'spill': 4982, 'assort': 4983, 'playboy': 4984, 'asset': 4985, 'drone': 4986, 'omin': 4987, 'sophi': 4988, 'optimist': 4989, '21st': 4990, 'casper': 4991, 'monti': 4992, 'masterson': 4993, 'motorcycl': 4994, 'weari': 4995, 'orchestr': 4996, 'detach': 4997, 'vastli': 4998, 'frontal': 4999}\n"
     ]
    }
   ],
   "source": [
    "print(word_dict)"
   ]
  },
  {
   "cell_type": "markdown",
   "metadata": {},
   "source": [
    "**Question:** What are the five most frequently appearing (tokenized) words in the training set? Does it makes sense that these words appear frequently in the training set?"
   ]
  },
  {
   "cell_type": "markdown",
   "metadata": {},
   "source": [
    "**Answer:**"
   ]
  },
  {
   "cell_type": "code",
   "execution_count": 18,
   "metadata": {},
   "outputs": [],
   "source": [
    "top_movies = list(word_dict.keys())"
   ]
  },
  {
   "cell_type": "code",
   "execution_count": 19,
   "metadata": {},
   "outputs": [
    {
     "data": {
      "text/plain": [
       "['movi', 'film', 'one', 'like', 'time']"
      ]
     },
     "execution_count": 19,
     "metadata": {},
     "output_type": "execute_result"
    }
   ],
   "source": [
    "top_movies[:5]"
   ]
  },
  {
   "cell_type": "markdown",
   "metadata": {},
   "source": [
    "The most frequeny appearing tokenized words are:\n",
    "- 'movi': tokenized from movie. Makes sense as the reviews will make reference to the subject (movies).\n",
    "- 'film': Makes sense. Film/movie are synonimous.\n",
    "- 'one': Makes sense. A typical review phrase is \"This is one of the most...\"\n",
    "- 'like': Makes sense.\n",
    "- 'time': Makes sense. A tyical review will include frequency of events. \"eg. of all time\", \"the number of times\", etc."
   ]
  },
  {
   "cell_type": "markdown",
   "metadata": {},
   "source": [
    "### Save `word_dict`\n",
    "\n",
    "Later on when we construct an endpoint which processes a submitted review we will need to make use of the `word_dict` which we have created. As such, we will save it to a file now for future use."
   ]
  },
  {
   "cell_type": "code",
   "execution_count": 20,
   "metadata": {},
   "outputs": [],
   "source": [
    "data_dir = '../data/pytorch' # The folder we will use for storing data\n",
    "if not os.path.exists(data_dir): # Make sure that the folder exists\n",
    "    os.makedirs(data_dir)"
   ]
  },
  {
   "cell_type": "code",
   "execution_count": 21,
   "metadata": {},
   "outputs": [],
   "source": [
    "with open(os.path.join(data_dir, 'word_dict.pkl'), \"wb\") as f:\n",
    "    pickle.dump(word_dict, f)"
   ]
  },
  {
   "cell_type": "markdown",
   "metadata": {},
   "source": [
    "### Transform the reviews\n",
    "\n",
    "Now that we have our word dictionary which allows us to transform the words appearing in the reviews into integers, it is time to make use of it and convert our reviews to their integer sequence representation, making sure to pad or truncate to a fixed length, which in our case is `500`."
   ]
  },
  {
   "cell_type": "code",
   "execution_count": 22,
   "metadata": {},
   "outputs": [],
   "source": [
    "def convert_and_pad(word_dict, sentence, pad=500):\n",
    "    NOWORD = 0 # We will use 0 to represent the 'no word' category\n",
    "    INFREQ = 1 # and we use 1 to represent the infrequent words, i.e., words not appearing in word_dict\n",
    "    \n",
    "    working_sentence = [NOWORD] * pad\n",
    "    \n",
    "    for word_index, word in enumerate(sentence[:pad]):\n",
    "        if word in word_dict:\n",
    "            working_sentence[word_index] = word_dict[word]\n",
    "        else:\n",
    "            working_sentence[word_index] = INFREQ\n",
    "            \n",
    "    return working_sentence, min(len(sentence), pad)\n",
    "\n",
    "def convert_and_pad_data(word_dict, data, pad=500):\n",
    "    result = []\n",
    "    lengths = []\n",
    "    \n",
    "    for sentence in data:\n",
    "        converted, leng = convert_and_pad(word_dict, sentence, pad)\n",
    "        result.append(converted)\n",
    "        lengths.append(leng)\n",
    "        \n",
    "    return np.array(result), np.array(lengths)"
   ]
  },
  {
   "cell_type": "code",
   "execution_count": 23,
   "metadata": {},
   "outputs": [],
   "source": [
    "train_X, train_X_len = convert_and_pad_data(word_dict, train_X)\n",
    "test_X, test_X_len = convert_and_pad_data(word_dict, test_X)"
   ]
  },
  {
   "cell_type": "markdown",
   "metadata": {},
   "source": [
    "As a quick check to make sure that things are working as intended, check to see what one of the reviews in the training set looks like after having been processeed. Does this look reasonable? What is the length of a review in the training set?"
   ]
  },
  {
   "cell_type": "code",
   "execution_count": 24,
   "metadata": {},
   "outputs": [
    {
     "data": {
      "text/plain": [
       "33"
      ]
     },
     "execution_count": 24,
     "metadata": {},
     "output_type": "execute_result"
    }
   ],
   "source": [
    "len(check_trainX100)"
   ]
  },
  {
   "cell_type": "markdown",
   "metadata": {},
   "source": [
    "train_X[100] had the following 66 words prior to converting these to integers:"
   ]
  },
  {
   "cell_type": "code",
   "execution_count": 25,
   "metadata": {},
   "outputs": [
    {
     "name": "stdout",
     "output_type": "stream",
     "text": [
      "['stori', 'center', 'around', 'barri', 'mckenzi', 'must', 'go', 'england', 'wish', 'claim', 'inherit', 'grossest', 'aussi', 'shearer', 'ever', 'set', 'foot', 'outsid', 'great', 'nation', 'someth', 'cultur', 'clash', 'much', 'fun', 'game', 'ensu', 'song', 'barri', 'mckenzi', 'barri', 'crocker', 'highlight']\n"
     ]
    }
   ],
   "source": [
    "print(check_trainX100)"
   ]
  },
  {
   "cell_type": "markdown",
   "metadata": {},
   "source": [
    "Following transformation, the review was traslated into an array of integers as follows:"
   ]
  },
  {
   "cell_type": "code",
   "execution_count": 26,
   "metadata": {},
   "outputs": [
    {
     "data": {
      "text/plain": [
       "array([  13, 1185,  110, 2761,    1,  130,   25, 1582,  426,  921, 3312,\n",
       "          1, 4916,    1,   56,   88, 1693,  859,   26, 1012,   66,  736,\n",
       "       4142,   21,  176,  339, 2482,  282, 2761,    1, 2761,    1, 1375,\n",
       "          0,    0,    0,    0,    0,    0,    0,    0,    0,    0,    0,\n",
       "          0,    0,    0,    0,    0,    0,    0,    0,    0,    0,    0,\n",
       "          0,    0,    0,    0,    0,    0,    0,    0,    0,    0,    0,\n",
       "          0,    0,    0,    0,    0,    0,    0,    0,    0,    0,    0,\n",
       "          0,    0,    0,    0,    0,    0,    0,    0,    0,    0,    0,\n",
       "          0,    0,    0,    0,    0,    0,    0,    0,    0,    0,    0,\n",
       "          0,    0,    0,    0,    0,    0,    0,    0,    0,    0,    0,\n",
       "          0,    0,    0,    0,    0,    0,    0,    0,    0,    0,    0,\n",
       "          0,    0,    0,    0,    0,    0,    0,    0,    0,    0,    0,\n",
       "          0,    0,    0,    0,    0,    0,    0,    0,    0,    0,    0,\n",
       "          0,    0,    0,    0,    0,    0,    0,    0,    0,    0,    0,\n",
       "          0,    0,    0,    0,    0,    0,    0,    0,    0,    0,    0,\n",
       "          0,    0,    0,    0,    0,    0,    0,    0,    0,    0,    0,\n",
       "          0,    0,    0,    0,    0,    0,    0,    0,    0,    0,    0,\n",
       "          0,    0,    0,    0,    0,    0,    0,    0,    0,    0,    0,\n",
       "          0,    0,    0,    0,    0,    0,    0,    0,    0,    0,    0,\n",
       "          0,    0,    0,    0,    0,    0,    0,    0,    0,    0,    0,\n",
       "          0,    0,    0,    0,    0,    0,    0,    0,    0,    0,    0,\n",
       "          0,    0,    0,    0,    0,    0,    0,    0,    0,    0,    0,\n",
       "          0,    0,    0,    0,    0,    0,    0,    0,    0,    0,    0,\n",
       "          0,    0,    0,    0,    0,    0,    0,    0,    0,    0,    0,\n",
       "          0,    0,    0,    0,    0,    0,    0,    0,    0,    0,    0,\n",
       "          0,    0,    0,    0,    0,    0,    0,    0,    0,    0,    0,\n",
       "          0,    0,    0,    0,    0,    0,    0,    0,    0,    0,    0,\n",
       "          0,    0,    0,    0,    0,    0,    0,    0,    0,    0,    0,\n",
       "          0,    0,    0,    0,    0,    0,    0,    0,    0,    0,    0,\n",
       "          0,    0,    0,    0,    0,    0,    0,    0,    0,    0,    0,\n",
       "          0,    0,    0,    0,    0,    0,    0,    0,    0,    0,    0,\n",
       "          0,    0,    0,    0,    0,    0,    0,    0,    0,    0,    0,\n",
       "          0,    0,    0,    0,    0,    0,    0,    0,    0,    0,    0,\n",
       "          0,    0,    0,    0,    0,    0,    0,    0,    0,    0,    0,\n",
       "          0,    0,    0,    0,    0,    0,    0,    0,    0,    0,    0,\n",
       "          0,    0,    0,    0,    0,    0,    0,    0,    0,    0,    0,\n",
       "          0,    0,    0,    0,    0,    0,    0,    0,    0,    0,    0,\n",
       "          0,    0,    0,    0,    0,    0,    0,    0,    0,    0,    0,\n",
       "          0,    0,    0,    0,    0,    0,    0,    0,    0,    0,    0,\n",
       "          0,    0,    0,    0,    0,    0,    0,    0,    0,    0,    0,\n",
       "          0,    0,    0,    0,    0,    0,    0,    0,    0,    0,    0,\n",
       "          0,    0,    0,    0,    0,    0,    0,    0,    0,    0,    0,\n",
       "          0,    0,    0,    0,    0,    0,    0,    0,    0,    0,    0,\n",
       "          0,    0,    0,    0,    0,    0,    0,    0,    0,    0,    0,\n",
       "          0,    0,    0,    0,    0,    0,    0,    0,    0,    0,    0,\n",
       "          0,    0,    0,    0,    0])"
      ]
     },
     "execution_count": 26,
     "metadata": {},
     "output_type": "execute_result"
    }
   ],
   "source": [
    "train_X[100]"
   ]
  },
  {
   "cell_type": "code",
   "execution_count": 27,
   "metadata": {},
   "outputs": [
    {
     "data": {
      "text/plain": [
       "33"
      ]
     },
     "execution_count": 27,
     "metadata": {},
     "output_type": "execute_result"
    }
   ],
   "source": [
    "np.count_nonzero(train_X[100])"
   ]
  },
  {
   "cell_type": "markdown",
   "metadata": {},
   "source": [
    "Checks:  \n",
    "\n",
    "- The number of non-zero words remains the same (66).\n",
    "- The transformed word \"movi\" (integer \"2\"), corresponds to word in position 6 in the tokenized text. This matches with the array version."
   ]
  },
  {
   "cell_type": "markdown",
   "metadata": {},
   "source": [
    "**Question:** In the cells above we use the `preprocess_data` and `convert_and_pad_data` methods to process both the training and testing set. Why or why not might this be a problem?"
   ]
  },
  {
   "cell_type": "markdown",
   "metadata": {},
   "source": [
    "**Answer:** The testing data is unseen, so the `preprocess_data` and `convert_and_pad_data` methods may not apply effectively to the testing data, even if it is working for the training data. As the data amount is large, and the training/testing data was shuffled, this should not be an issue."
   ]
  },
  {
   "cell_type": "markdown",
   "metadata": {},
   "source": [
    "## Step 3: Upload the data to S3\n",
    "\n",
    "As in the XGBoost notebook, we will need to upload the training dataset to S3 in order for our training code to access it. For now we will save it locally and we will upload to S3 later on.\n",
    "\n",
    "### Save the processed training dataset locally\n",
    "\n",
    "It is important to note the format of the data that we are saving as we will need to know it when we write the training code. In our case, each row of the dataset has the form `label`, `length`, `review[500]` where `review[500]` is a sequence of `500` integers representing the words in the review."
   ]
  },
  {
   "cell_type": "code",
   "execution_count": 28,
   "metadata": {},
   "outputs": [],
   "source": [
    "import pandas as pd\n",
    "    \n",
    "pd.concat([pd.DataFrame(train_y), pd.DataFrame(train_X_len), pd.DataFrame(train_X)], axis=1) \\\n",
    "        .to_csv(os.path.join(data_dir, 'train.csv'), header=False, index=False)"
   ]
  },
  {
   "cell_type": "markdown",
   "metadata": {},
   "source": [
    "### Uploading the training data\n",
    "\n",
    "\n",
    "Next, we need to upload the training data to the SageMaker default S3 bucket so that we can provide access to it while training our model."
   ]
  },
  {
   "cell_type": "code",
   "execution_count": 29,
   "metadata": {},
   "outputs": [],
   "source": [
    "import sagemaker\n",
    "\n",
    "sagemaker_session = sagemaker.Session()\n",
    "\n",
    "bucket = sagemaker_session.default_bucket()\n",
    "prefix = 'sagemaker/sentiment_rnn'\n",
    "\n",
    "role = sagemaker.get_execution_role()"
   ]
  },
  {
   "cell_type": "code",
   "execution_count": 30,
   "metadata": {},
   "outputs": [],
   "source": [
    "input_data = sagemaker_session.upload_data(path=data_dir, bucket=bucket, key_prefix=prefix)"
   ]
  },
  {
   "cell_type": "markdown",
   "metadata": {},
   "source": [
    "**NOTE:** The cell above uploads the entire contents of our data directory. This includes the `word_dict.pkl` file. This is fortunate as we will need this later on when we create an endpoint that accepts an arbitrary review. For now, we will just take note of the fact that it resides in the data directory (and so also in the S3 training bucket) and that we will need to make sure it gets saved in the model directory."
   ]
  },
  {
   "cell_type": "markdown",
   "metadata": {},
   "source": [
    "## Step 4: Build and Train the PyTorch Model\n",
    "\n",
    "In the XGBoost notebook we discussed what a model is in the SageMaker framework. In particular, a model comprises three objects\n",
    "\n",
    " - Model Artifacts,\n",
    " - Training Code, and\n",
    " - Inference Code,\n",
    " \n",
    "each of which interact with one another. In the XGBoost example we used training and inference code that was provided by Amazon. Here we will still be using containers provided by Amazon with the added benefit of being able to include our own custom code.\n",
    "\n",
    "We will start by implementing our own neural network in PyTorch along with a training script. For the purposes of this project we have provided the necessary model object in the `model.py` file, inside of the `train` folder. You can see the provided implementation by running the cell below."
   ]
  },
  {
   "cell_type": "code",
   "execution_count": 31,
   "metadata": {},
   "outputs": [
    {
     "name": "stdout",
     "output_type": "stream",
     "text": [
      "\u001b[34mimport\u001b[39;49;00m \u001b[04m\u001b[36mtorch.nn\u001b[39;49;00m \u001b[34mas\u001b[39;49;00m \u001b[04m\u001b[36mnn\u001b[39;49;00m\r\n",
      "\r\n",
      "\u001b[34mclass\u001b[39;49;00m \u001b[04m\u001b[32mLSTMClassifier\u001b[39;49;00m(nn.Module):\r\n",
      "    \u001b[33m\"\"\"\u001b[39;49;00m\r\n",
      "\u001b[33m    This is the simple RNN model we will be using to perform Sentiment Analysis.\u001b[39;49;00m\r\n",
      "\u001b[33m    \"\"\"\u001b[39;49;00m\r\n",
      "\r\n",
      "    \u001b[34mdef\u001b[39;49;00m \u001b[32m__init__\u001b[39;49;00m(\u001b[36mself\u001b[39;49;00m, embedding_dim, hidden_dim, vocab_size):\r\n",
      "        \u001b[33m\"\"\"\u001b[39;49;00m\r\n",
      "\u001b[33m        Initialize the model by settingg up the various layers.\u001b[39;49;00m\r\n",
      "\u001b[33m        \"\"\"\u001b[39;49;00m\r\n",
      "        \u001b[36msuper\u001b[39;49;00m(LSTMClassifier, \u001b[36mself\u001b[39;49;00m).\u001b[32m__init__\u001b[39;49;00m()\r\n",
      "\r\n",
      "        \u001b[36mself\u001b[39;49;00m.embedding = nn.Embedding(vocab_size, embedding_dim, padding_idx=\u001b[34m0\u001b[39;49;00m)\r\n",
      "        \u001b[36mself\u001b[39;49;00m.lstm = nn.LSTM(embedding_dim, hidden_dim)\r\n",
      "        \u001b[36mself\u001b[39;49;00m.dense = nn.Linear(in_features=hidden_dim, out_features=\u001b[34m1\u001b[39;49;00m)\r\n",
      "        \u001b[36mself\u001b[39;49;00m.sig = nn.Sigmoid()\r\n",
      "        \r\n",
      "        \u001b[36mself\u001b[39;49;00m.word_dict = \u001b[36mNone\u001b[39;49;00m\r\n",
      "\r\n",
      "    \u001b[34mdef\u001b[39;49;00m \u001b[32mforward\u001b[39;49;00m(\u001b[36mself\u001b[39;49;00m, x):\r\n",
      "        \u001b[33m\"\"\"\u001b[39;49;00m\r\n",
      "\u001b[33m        Perform a forward pass of our model on some input.\u001b[39;49;00m\r\n",
      "\u001b[33m        \"\"\"\u001b[39;49;00m\r\n",
      "        x = x.t()\r\n",
      "        lengths = x[\u001b[34m0\u001b[39;49;00m,:]\r\n",
      "        reviews = x[\u001b[34m1\u001b[39;49;00m:,:]\r\n",
      "        embeds = \u001b[36mself\u001b[39;49;00m.embedding(reviews)\r\n",
      "        lstm_out, _ = \u001b[36mself\u001b[39;49;00m.lstm(embeds)\r\n",
      "        out = \u001b[36mself\u001b[39;49;00m.dense(lstm_out)\r\n",
      "        out = out[lengths - \u001b[34m1\u001b[39;49;00m, \u001b[36mrange\u001b[39;49;00m(\u001b[36mlen\u001b[39;49;00m(lengths))]\r\n",
      "        \u001b[34mreturn\u001b[39;49;00m \u001b[36mself\u001b[39;49;00m.sig(out.squeeze())\r\n"
     ]
    }
   ],
   "source": [
    "!pygmentize train/model.py"
   ]
  },
  {
   "cell_type": "markdown",
   "metadata": {},
   "source": [
    "The important takeaway from the implementation provided is that there are three parameters that we may wish to tweak to improve the performance of our model. These are the embedding dimension, the hidden dimension and the size of the vocabulary. We will likely want to make these parameters configurable in the training script so that if we wish to modify them we do not need to modify the script itself. We will see how to do this later on. To start we will write some of the training code in the notebook so that we can more easily diagnose any issues that arise.\n",
    "\n",
    "First we will load a small portion of the training data set to use as a sample. It would be very time consuming to try and train the model completely in the notebook as we do not have access to a gpu and the compute instance that we are using is not particularly powerful. However, we can work on a small bit of the data to get a feel for how our training script is behaving."
   ]
  },
  {
   "cell_type": "code",
   "execution_count": 32,
   "metadata": {},
   "outputs": [],
   "source": [
    "import torch\n",
    "import torch.utils.data\n",
    "import torch.nn as nn\n",
    "\n",
    "from time import gmtime, strftime\n",
    "\n",
    "# Read in only the first 250 rows\n",
    "train_sample = pd.read_csv(os.path.join(data_dir, 'train.csv'), header=None, names=None, nrows=250)\n",
    "\n",
    "# Turn the input pandas dataframe into tensors\n",
    "train_sample_y = torch.from_numpy(train_sample[[0]].values).float().squeeze()\n",
    "train_sample_X = torch.from_numpy(train_sample.drop([0], axis=1).values).long()\n",
    "\n",
    "# Build the dataset\n",
    "train_sample_ds = torch.utils.data.TensorDataset(train_sample_X, train_sample_y)\n",
    "# Build the dataloader\n",
    "train_sample_dl = torch.utils.data.DataLoader(train_sample_ds, batch_size=50)"
   ]
  },
  {
   "cell_type": "markdown",
   "metadata": {},
   "source": [
    "### (TODO) Writing the training method\n",
    "\n",
    "Next we need to write the training code itself. This should be very similar to training methods that you have written before to train PyTorch models. We will leave any difficult aspects such as model saving / loading and parameter loading until a little later."
   ]
  },
  {
   "cell_type": "code",
   "execution_count": 33,
   "metadata": {},
   "outputs": [],
   "source": [
    "def train(model, train_loader, epochs, optimizer, loss_fn, device):\n",
    "    for epoch in range(1, epochs + 1):\n",
    "        model.train()\n",
    "        total_loss = 0\n",
    "        for batch in train_loader:         \n",
    "            batch_X, batch_y = batch\n",
    "            \n",
    "            batch_X = batch_X.to(device)\n",
    "            batch_y = batch_y.to(device)\n",
    "            \n",
    "            # TODO: Complete this train method to train the model provided.\n",
    "            \n",
    "            #initialize the model gradients to zero\n",
    "            model.zero_grad()\n",
    "            \n",
    "            # Forward pass\n",
    "            output = model.forward(batch_X)\n",
    "            \n",
    "            # Calculate loss\n",
    "            loss = loss_fn(output, batch_y) #which loss criterion???\n",
    "            \n",
    "            # Calculate gradients (backpropogation)\n",
    "            loss.backward()\n",
    "            \n",
    "            # `clip_grad_norm` helps prevent the exploding gradient problem in RNNs / LSTMs.\n",
    "            nn.utils.clip_grad_norm_(model.parameters(), 5) #clip = 5\n",
    "            \n",
    "            # Adjust parameters based on gradients\n",
    "            optimizer.step()\n",
    "            \n",
    "            total_loss += loss.data.item()\n",
    "        print(\"Epoch: {}, BCELoss: {}\".format(epoch, total_loss / len(train_loader)))"
   ]
  },
  {
   "cell_type": "markdown",
   "metadata": {},
   "source": [
    "Supposing we have the training method above, we will test that it is working by writing a bit of code in the notebook that executes our training method on the small sample training set that we loaded earlier. The reason for doing this in the notebook is so that we have an opportunity to fix any errors that arise early when they are easier to diagnose."
   ]
  },
  {
   "cell_type": "code",
   "execution_count": 34,
   "metadata": {},
   "outputs": [
    {
     "name": "stdout",
     "output_type": "stream",
     "text": [
      "Epoch: 1, BCELoss: 0.6949962258338929\n",
      "Epoch: 2, BCELoss: 0.6836003541946412\n",
      "Epoch: 3, BCELoss: 0.6732567191123963\n",
      "Epoch: 4, BCELoss: 0.6615289211273193\n",
      "Epoch: 5, BCELoss: 0.6468405961990357\n"
     ]
    }
   ],
   "source": [
    "import torch.optim as optim\n",
    "from train.model import LSTMClassifier\n",
    "\n",
    "device = torch.device(\"cuda\" if torch.cuda.is_available() else \"cpu\")\n",
    "model = LSTMClassifier(32, 100, 5000).to(device)\n",
    "optimizer = optim.Adam(model.parameters())\n",
    "loss_fn = torch.nn.BCELoss()\n",
    "\n",
    "train(model, train_sample_dl, 5, optimizer, loss_fn, device)"
   ]
  },
  {
   "cell_type": "markdown",
   "metadata": {},
   "source": [
    "In order to construct a PyTorch model using SageMaker we must provide SageMaker with a training script. We may optionally include a directory which will be copied to the container and from which our training code will be run. When the training container is executed it will check the uploaded directory (if there is one) for a `requirements.txt` file and install any required Python libraries, after which the training script will be run."
   ]
  },
  {
   "cell_type": "markdown",
   "metadata": {},
   "source": [
    "### (TODO) Training the model\n",
    "\n",
    "When a PyTorch model is constructed in SageMaker, an entry point must be specified. This is the Python file which will be executed when the model is trained. Inside of the `train` directory is a file called `train.py` which has been provided and which contains most of the necessary code to train our model. The only thing that is missing is the implementation of the `train()` method which you wrote earlier in this notebook.\n",
    "\n",
    "**TODO**: Copy the `train()` method written above and paste it into the `train/train.py` file where required.\n",
    "\n",
    "The way that SageMaker passes hyperparameters to the training script is by way of arguments. These arguments can then be parsed and used in the training script. To see how this is done take a look at the provided `train/train.py` file."
   ]
  },
  {
   "cell_type": "code",
   "execution_count": 35,
   "metadata": {},
   "outputs": [],
   "source": [
    "from sagemaker.pytorch import PyTorch\n",
    "\n",
    "#note: train_instance_type='ml.c4.xlarge', #cpu instance also works well, and comes as default in AWS SageMaker.\n",
    "\n",
    "estimator = PyTorch(entry_point=\"train.py\",\n",
    "                    source_dir=\"train\",\n",
    "                    role=role,\n",
    "                    framework_version='0.4.0',\n",
    "                    train_instance_count=1,\n",
    "                    train_instance_type='ml.p2.xlarge',\n",
    "                    hyperparameters={\n",
    "                        'epochs': 10,\n",
    "                        'hidden_dim': 200,\n",
    "                    })"
   ]
  },
  {
   "cell_type": "code",
   "execution_count": 36,
   "metadata": {},
   "outputs": [
    {
     "name": "stdout",
     "output_type": "stream",
     "text": [
      "2020-02-23 13:31:47 Starting - Starting the training job...\n",
      "2020-02-23 13:31:49 Starting - Launching requested ML instances...\n",
      "2020-02-23 13:32:44 Starting - Preparing the instances for training.........\n",
      "2020-02-23 13:34:07 Downloading - Downloading input data...\n",
      "2020-02-23 13:34:43 Training - Downloading the training image...\n",
      "2020-02-23 13:35:13 Training - Training image download completed. Training in progress..\u001b[34mbash: cannot set terminal process group (-1): Inappropriate ioctl for device\u001b[0m\n",
      "\u001b[34mbash: no job control in this shell\u001b[0m\n",
      "\u001b[34m2020-02-23 13:35:14,756 sagemaker-containers INFO     Imported framework sagemaker_pytorch_container.training\u001b[0m\n",
      "\u001b[34m2020-02-23 13:35:14,788 sagemaker_pytorch_container.training INFO     Block until all host DNS lookups succeed.\u001b[0m\n",
      "\u001b[34m2020-02-23 13:35:21,010 sagemaker_pytorch_container.training INFO     Invoking user training script.\u001b[0m\n",
      "\u001b[34m2020-02-23 13:35:21,207 sagemaker-containers INFO     Module train does not provide a setup.py. \u001b[0m\n",
      "\u001b[34mGenerating setup.py\u001b[0m\n",
      "\u001b[34m2020-02-23 13:35:21,208 sagemaker-containers INFO     Generating setup.cfg\u001b[0m\n",
      "\u001b[34m2020-02-23 13:35:21,208 sagemaker-containers INFO     Generating MANIFEST.in\u001b[0m\n",
      "\u001b[34m2020-02-23 13:35:21,208 sagemaker-containers INFO     Installing module with the following command:\u001b[0m\n",
      "\u001b[34m/usr/bin/python -m pip install -U . -r requirements.txt\u001b[0m\n",
      "\u001b[34mProcessing /opt/ml/code\u001b[0m\n",
      "\u001b[34mCollecting pandas (from -r requirements.txt (line 1))\u001b[0m\n",
      "\u001b[34m  Downloading https://files.pythonhosted.org/packages/74/24/0cdbf8907e1e3bc5a8da03345c23cbed7044330bb8f73bb12e711a640a00/pandas-0.24.2-cp35-cp35m-manylinux1_x86_64.whl (10.0MB)\u001b[0m\n",
      "\u001b[34mCollecting numpy (from -r requirements.txt (line 2))\u001b[0m\n",
      "\u001b[34m  Downloading https://files.pythonhosted.org/packages/52/e6/1715e592ef47f28f3f50065322423bb75619ed2f7c24be86380ecc93503c/numpy-1.18.1-cp35-cp35m-manylinux1_x86_64.whl (19.9MB)\u001b[0m\n",
      "\u001b[34mCollecting nltk (from -r requirements.txt (line 3))\n",
      "  Downloading https://files.pythonhosted.org/packages/f6/1d/d925cfb4f324ede997f6d47bea4d9babba51b49e87a767c170b77005889d/nltk-3.4.5.zip (1.5MB)\u001b[0m\n",
      "\u001b[34mCollecting beautifulsoup4 (from -r requirements.txt (line 4))\n",
      "  Downloading https://files.pythonhosted.org/packages/cb/a1/c698cf319e9cfed6b17376281bd0efc6bfc8465698f54170ef60a485ab5d/beautifulsoup4-4.8.2-py3-none-any.whl (106kB)\u001b[0m\n",
      "\u001b[34mCollecting html5lib (from -r requirements.txt (line 5))\n",
      "  Downloading https://files.pythonhosted.org/packages/a5/62/bbd2be0e7943ec8504b517e62bab011b4946e1258842bc159e5dfde15b96/html5lib-1.0.1-py2.py3-none-any.whl (117kB)\u001b[0m\n",
      "\u001b[34mCollecting pytz>=2011k (from pandas->-r requirements.txt (line 1))\n",
      "  Downloading https://files.pythonhosted.org/packages/e7/f9/f0b53f88060247251bf481fa6ea62cd0d25bf1b11a87888e53ce5b7c8ad2/pytz-2019.3-py2.py3-none-any.whl (509kB)\u001b[0m\n",
      "\u001b[34mRequirement already satisfied, skipping upgrade: python-dateutil>=2.5.0 in /usr/local/lib/python3.5/dist-packages (from pandas->-r requirements.txt (line 1)) (2.7.5)\u001b[0m\n",
      "\u001b[34mRequirement already satisfied, skipping upgrade: six in /usr/local/lib/python3.5/dist-packages (from nltk->-r requirements.txt (line 3)) (1.11.0)\u001b[0m\n",
      "\u001b[34mCollecting soupsieve>=1.2 (from beautifulsoup4->-r requirements.txt (line 4))\n",
      "  Downloading https://files.pythonhosted.org/packages/05/cf/ea245e52f55823f19992447b008bcbb7f78efc5960d77f6c34b5b45b36dd/soupsieve-2.0-py2.py3-none-any.whl\u001b[0m\n",
      "\u001b[34mCollecting webencodings (from html5lib->-r requirements.txt (line 5))\n",
      "  Downloading https://files.pythonhosted.org/packages/f4/24/2a3e3df732393fed8b3ebf2ec078f05546de641fe1b667ee316ec1dcf3b7/webencodings-0.5.1-py2.py3-none-any.whl\u001b[0m\n",
      "\u001b[34mBuilding wheels for collected packages: nltk, train\n",
      "  Running setup.py bdist_wheel for nltk: started\n",
      "  Running setup.py bdist_wheel for nltk: finished with status 'done'\n",
      "  Stored in directory: /root/.cache/pip/wheels/96/86/f6/68ab24c23f207c0077381a5e3904b2815136b879538a24b483\n",
      "  Running setup.py bdist_wheel for train: started\u001b[0m\n",
      "\u001b[34m  Running setup.py bdist_wheel for train: finished with status 'done'\n",
      "  Stored in directory: /tmp/pip-ephem-wheel-cache-8pqns3yn/wheels/35/24/16/37574d11bf9bde50616c67372a334f94fa8356bc7164af8ca3\u001b[0m\n",
      "\u001b[34mSuccessfully built nltk train\u001b[0m\n",
      "\u001b[34mInstalling collected packages: pytz, numpy, pandas, nltk, soupsieve, beautifulsoup4, webencodings, html5lib, train\n",
      "  Found existing installation: numpy 1.15.4\n",
      "    Uninstalling numpy-1.15.4:\u001b[0m\n",
      "\u001b[34m      Successfully uninstalled numpy-1.15.4\u001b[0m\n",
      "\u001b[34mSuccessfully installed beautifulsoup4-4.8.2 html5lib-1.0.1 nltk-3.4.5 numpy-1.18.1 pandas-0.24.2 pytz-2019.3 soupsieve-2.0 train-1.0.0 webencodings-0.5.1\u001b[0m\n",
      "\u001b[34mYou are using pip version 18.1, however version 20.0.2 is available.\u001b[0m\n",
      "\u001b[34mYou should consider upgrading via the 'pip install --upgrade pip' command.\u001b[0m\n",
      "\u001b[34m2020-02-23 13:35:32,826 sagemaker-containers INFO     Invoking user script\n",
      "\u001b[0m\n",
      "\u001b[34mTraining Env:\n",
      "\u001b[0m\n",
      "\u001b[34m{\n",
      "    \"current_host\": \"algo-1\",\n",
      "    \"hyperparameters\": {\n",
      "        \"epochs\": 10,\n",
      "        \"hidden_dim\": 200\n",
      "    },\n",
      "    \"output_dir\": \"/opt/ml/output\",\n",
      "    \"input_config_dir\": \"/opt/ml/input/config\",\n",
      "    \"input_data_config\": {\n",
      "        \"training\": {\n",
      "            \"S3DistributionType\": \"FullyReplicated\",\n",
      "            \"RecordWrapperType\": \"None\",\n",
      "            \"TrainingInputMode\": \"File\"\n",
      "        }\n",
      "    },\n",
      "    \"resource_config\": {\n",
      "        \"hosts\": [\n",
      "            \"algo-1\"\n",
      "        ],\n",
      "        \"current_host\": \"algo-1\",\n",
      "        \"network_interface_name\": \"eth0\"\n",
      "    },\n",
      "    \"model_dir\": \"/opt/ml/model\",\n",
      "    \"module_dir\": \"s3://sagemaker-eu-central-1-616678683030/sagemaker-pytorch-2020-02-23-13-31-47-209/source/sourcedir.tar.gz\",\n",
      "    \"hosts\": [\n",
      "        \"algo-1\"\n",
      "    ],\n",
      "    \"user_entry_point\": \"train.py\",\n",
      "    \"network_interface_name\": \"eth0\",\n",
      "    \"num_cpus\": 4,\n",
      "    \"input_dir\": \"/opt/ml/input\",\n",
      "    \"channel_input_dirs\": {\n",
      "        \"training\": \"/opt/ml/input/data/training\"\n",
      "    },\n",
      "    \"log_level\": 20,\n",
      "    \"additional_framework_parameters\": {},\n",
      "    \"module_name\": \"train\",\n",
      "    \"job_name\": \"sagemaker-pytorch-2020-02-23-13-31-47-209\",\n",
      "    \"output_data_dir\": \"/opt/ml/output/data\",\n",
      "    \"framework_module\": \"sagemaker_pytorch_container.training:main\",\n",
      "    \"output_intermediate_dir\": \"/opt/ml/output/intermediate\",\n",
      "    \"num_gpus\": 1\u001b[0m\n",
      "\u001b[34m}\n",
      "\u001b[0m\n",
      "\u001b[34mEnvironment variables:\n",
      "\u001b[0m\n",
      "\u001b[34mSM_INPUT_DIR=/opt/ml/input\u001b[0m\n",
      "\u001b[34mSM_TRAINING_ENV={\"additional_framework_parameters\":{},\"channel_input_dirs\":{\"training\":\"/opt/ml/input/data/training\"},\"current_host\":\"algo-1\",\"framework_module\":\"sagemaker_pytorch_container.training:main\",\"hosts\":[\"algo-1\"],\"hyperparameters\":{\"epochs\":10,\"hidden_dim\":200},\"input_config_dir\":\"/opt/ml/input/config\",\"input_data_config\":{\"training\":{\"RecordWrapperType\":\"None\",\"S3DistributionType\":\"FullyReplicated\",\"TrainingInputMode\":\"File\"}},\"input_dir\":\"/opt/ml/input\",\"job_name\":\"sagemaker-pytorch-2020-02-23-13-31-47-209\",\"log_level\":20,\"model_dir\":\"/opt/ml/model\",\"module_dir\":\"s3://sagemaker-eu-central-1-616678683030/sagemaker-pytorch-2020-02-23-13-31-47-209/source/sourcedir.tar.gz\",\"module_name\":\"train\",\"network_interface_name\":\"eth0\",\"num_cpus\":4,\"num_gpus\":1,\"output_data_dir\":\"/opt/ml/output/data\",\"output_dir\":\"/opt/ml/output\",\"output_intermediate_dir\":\"/opt/ml/output/intermediate\",\"resource_config\":{\"current_host\":\"algo-1\",\"hosts\":[\"algo-1\"],\"network_interface_name\":\"eth0\"},\"user_entry_point\":\"train.py\"}\u001b[0m\n",
      "\u001b[34mSM_NUM_CPUS=4\u001b[0m\n",
      "\u001b[34mSM_INPUT_CONFIG_DIR=/opt/ml/input/config\u001b[0m\n",
      "\u001b[34mSM_HOSTS=[\"algo-1\"]\u001b[0m\n",
      "\u001b[34mSM_FRAMEWORK_PARAMS={}\u001b[0m\n",
      "\u001b[34mSM_OUTPUT_INTERMEDIATE_DIR=/opt/ml/output/intermediate\u001b[0m\n",
      "\u001b[34mSM_INPUT_DATA_CONFIG={\"training\":{\"RecordWrapperType\":\"None\",\"S3DistributionType\":\"FullyReplicated\",\"TrainingInputMode\":\"File\"}}\u001b[0m\n",
      "\u001b[34mSM_NETWORK_INTERFACE_NAME=eth0\u001b[0m\n",
      "\u001b[34mPYTHONPATH=/usr/local/bin:/usr/lib/python35.zip:/usr/lib/python3.5:/usr/lib/python3.5/plat-x86_64-linux-gnu:/usr/lib/python3.5/lib-dynload:/usr/local/lib/python3.5/dist-packages:/usr/lib/python3/dist-packages\u001b[0m\n",
      "\u001b[34mSM_HP_HIDDEN_DIM=200\u001b[0m\n",
      "\u001b[34mSM_CHANNEL_TRAINING=/opt/ml/input/data/training\u001b[0m\n",
      "\u001b[34mSM_LOG_LEVEL=20\u001b[0m\n",
      "\u001b[34mSM_OUTPUT_DIR=/opt/ml/output\u001b[0m\n",
      "\u001b[34mSM_MODULE_NAME=train\u001b[0m\n",
      "\u001b[34mSM_USER_ENTRY_POINT=train.py\u001b[0m\n",
      "\u001b[34mSM_HP_EPOCHS=10\u001b[0m\n",
      "\u001b[34mSM_CHANNELS=[\"training\"]\u001b[0m\n",
      "\u001b[34mSM_HPS={\"epochs\":10,\"hidden_dim\":200}\u001b[0m\n",
      "\u001b[34mSM_FRAMEWORK_MODULE=sagemaker_pytorch_container.training:main\u001b[0m\n",
      "\u001b[34mSM_NUM_GPUS=1\u001b[0m\n",
      "\u001b[34mSM_USER_ARGS=[\"--epochs\",\"10\",\"--hidden_dim\",\"200\"]\u001b[0m\n",
      "\u001b[34mSM_MODEL_DIR=/opt/ml/model\u001b[0m\n",
      "\u001b[34mSM_OUTPUT_DATA_DIR=/opt/ml/output/data\u001b[0m\n",
      "\u001b[34mSM_RESOURCE_CONFIG={\"current_host\":\"algo-1\",\"hosts\":[\"algo-1\"],\"network_interface_name\":\"eth0\"}\u001b[0m\n",
      "\u001b[34mSM_MODULE_DIR=s3://sagemaker-eu-central-1-616678683030/sagemaker-pytorch-2020-02-23-13-31-47-209/source/sourcedir.tar.gz\u001b[0m\n",
      "\u001b[34mSM_CURRENT_HOST=algo-1\n",
      "\u001b[0m\n",
      "\u001b[34mInvoking script with the following command:\n",
      "\u001b[0m\n",
      "\u001b[34m/usr/bin/python -m train --epochs 10 --hidden_dim 200\n",
      "\n",
      "\u001b[0m\n",
      "\u001b[34mUsing device cuda.\u001b[0m\n",
      "\u001b[34mGet train data loader.\u001b[0m\n",
      "\n",
      "2020-02-23 13:35:44 Uploading - Uploading generated training model\u001b[34mModel loaded with embedding_dim 32, hidden_dim 200, vocab_size 5000.\u001b[0m\n",
      "\u001b[34m2020-02-23 13:35:39,754 sagemaker-containers INFO     Reporting training SUCCESS\u001b[0m\n",
      "\n",
      "2020-02-23 13:35:51 Completed - Training job completed\n",
      "Training seconds: 104\n",
      "Billable seconds: 104\n"
     ]
    }
   ],
   "source": [
    "estimator.fit({'training': input_data})"
   ]
  },
  {
   "cell_type": "markdown",
   "metadata": {},
   "source": [
    "## Step 5: Testing the model\n",
    "\n",
    "As mentioned at the top of this notebook, we will be testing this model by first deploying it and then sending the testing data to the deployed endpoint. We will do this so that we can make sure that the deployed model is working correctly.\n",
    "\n",
    "## Step 6: Deploy the model for testing\n",
    "\n",
    "Now that we have trained our model, we would like to test it to see how it performs. Currently our model takes input of the form `review_length, review[500]` where `review[500]` is a sequence of `500` integers which describe the words present in the review, encoded using `word_dict`. Fortunately for us, SageMaker provides built-in inference code for models with simple inputs such as this.\n",
    "\n",
    "There is one thing that we need to provide, however, and that is a function which loads the saved model. This function must be called `model_fn()` and takes as its only parameter a path to the directory where the model artifacts are stored. This function must also be present in the python file which we specified as the entry point. In our case the model loading function has been provided and so no changes need to be made.\n",
    "\n",
    "**NOTE**: When the built-in inference code is run it must import the `model_fn()` method from the `train.py` file. This is why the training code is wrapped in a main guard ( ie, `if __name__ == '__main__':` )\n",
    "\n",
    "Since we don't need to change anything in the code that was uploaded during training, we can simply deploy the current model as-is.\n",
    "\n",
    "**NOTE:** When deploying a model you are asking SageMaker to launch an compute instance that will wait for data to be sent to it. As a result, this compute instance will continue to run until *you* shut it down. This is important to know since the cost of a deployed endpoint depends on how long it has been running for.\n",
    "\n",
    "In other words **If you are no longer using a deployed endpoint, shut it down!**\n",
    "\n",
    "**TODO:** Deploy the trained model."
   ]
  },
  {
   "cell_type": "code",
   "execution_count": 37,
   "metadata": {},
   "outputs": [
    {
     "name": "stdout",
     "output_type": "stream",
     "text": [
      "-------------!"
     ]
    }
   ],
   "source": [
    "predictor = estimator.deploy(initial_instance_count=1, instance_type='ml.m4.xlarge')"
   ]
  },
  {
   "cell_type": "code",
   "execution_count": 38,
   "metadata": {},
   "outputs": [
    {
     "data": {
      "text/plain": [
       "'sagemaker-pytorch-2020-02-23-13-31-47-209'"
      ]
     },
     "execution_count": 38,
     "metadata": {},
     "output_type": "execute_result"
    }
   ],
   "source": [
    "predictor.endpoint"
   ]
  },
  {
   "cell_type": "markdown",
   "metadata": {},
   "source": [
    "## Step 7 - Use the model for testing\n",
    "\n",
    "Once deployed, we can read in the test data and send it off to our deployed model to get some results. Once we collect all of the results we can determine how accurate our model is."
   ]
  },
  {
   "cell_type": "code",
   "execution_count": 39,
   "metadata": {},
   "outputs": [],
   "source": [
    "test_X = pd.concat([pd.DataFrame(test_X_len), pd.DataFrame(test_X)], axis=1)"
   ]
  },
  {
   "cell_type": "code",
   "execution_count": 40,
   "metadata": {},
   "outputs": [],
   "source": [
    "# We split the data into chunks and send each chunk seperately, accumulating the results.\n",
    "\n",
    "def predict(data, rows=512):\n",
    "    split_array = np.array_split(data, int(data.shape[0] / float(rows) + 1))\n",
    "    predictions = np.array([])\n",
    "    for array in split_array:\n",
    "        predictions = np.append(predictions, predictor.predict(array))\n",
    "    \n",
    "    return predictions"
   ]
  },
  {
   "cell_type": "code",
   "execution_count": 41,
   "metadata": {},
   "outputs": [],
   "source": [
    "predictions = predict(test_X.values)\n",
    "predictions = [round(num) for num in predictions]"
   ]
  },
  {
   "cell_type": "code",
   "execution_count": 42,
   "metadata": {},
   "outputs": [
    {
     "data": {
      "text/plain": [
       "0.50244"
      ]
     },
     "execution_count": 42,
     "metadata": {},
     "output_type": "execute_result"
    }
   ],
   "source": [
    "from sklearn.metrics import accuracy_score\n",
    "accuracy_score(test_y, predictions)"
   ]
  },
  {
   "cell_type": "code",
   "execution_count": 51,
   "metadata": {},
   "outputs": [],
   "source": [
    "data=test_X.values"
   ]
  },
  {
   "cell_type": "code",
   "execution_count": 54,
   "metadata": {},
   "outputs": [
    {
     "data": {
      "text/plain": [
       "25000"
      ]
     },
     "execution_count": 54,
     "metadata": {},
     "output_type": "execute_result"
    }
   ],
   "source": [
    "data.shape[0]"
   ]
  },
  {
   "cell_type": "code",
   "execution_count": 52,
   "metadata": {},
   "outputs": [],
   "source": [
    "split_array = np.array_split(data, int(data.shape[0] / float(512) + 1))"
   ]
  },
  {
   "cell_type": "code",
   "execution_count": 68,
   "metadata": {},
   "outputs": [
    {
     "data": {
      "text/plain": [
       "49"
      ]
     },
     "execution_count": 68,
     "metadata": {},
     "output_type": "execute_result"
    }
   ],
   "source": [
    "len(split_array)"
   ]
  },
  {
   "cell_type": "code",
   "execution_count": 70,
   "metadata": {},
   "outputs": [
    {
     "data": {
      "text/plain": [
       "(510, 501)"
      ]
     },
     "execution_count": 70,
     "metadata": {},
     "output_type": "execute_result"
    }
   ],
   "source": [
    "split_array[48].shape"
   ]
  },
  {
   "cell_type": "markdown",
   "metadata": {},
   "source": [
    "**Question:** How does this model compare to the XGBoost model you created earlier? Why might these two models perform differently on this dataset? Which do *you* think is better for sentiment analysis?"
   ]
  },
  {
   "cell_type": "markdown",
   "metadata": {},
   "source": [
    "**Answer:**\n",
    "\n",
    "reference: https://towardsdatascience.com/power-of-xgboost-lstm-in-forecasting-natural-gas-price-f426fada80f0\n",
    "\n",
    "*- eXtreme Gradient Boosting (XGBoost) which is a scalable and accurate implementation of gradient boosting machines and it has proven to push the limits of computing power for boosted trees algorithms. The algorithm was developed to efficiently reduce computing time and allocate an optimal usage of memory resources.*\n",
    "\n",
    "*- Long short-term memory (LSTM) which is a Recurrent Neural Network and a state of the art algorithm for sequential data. It is the first algorithm that remembers its input, due to an internal memory, which makes it perfectly suited for Machine Learning problems that involve sequential data. It is one of the algorithms behind the scenes of the amazing achievements of Deep Learning in the past few years.* \n",
    "\n",
    "To determine whether the sentiment of a text review is 'positive' or 'negative', the order and sequence of words does not add a lot of value. Hence, the LSTM ability to predict outcome from sequential data is of limited use in this problem.\n",
    "\n",
    "XGBoost may be a better option for this problem.\n",
    "\n",
    "\n"
   ]
  },
  {
   "cell_type": "markdown",
   "metadata": {},
   "source": [
    "### (TODO) More testing\n",
    "\n",
    "We now have a trained model which has been deployed and which we can send processed reviews to and which returns the predicted sentiment. However, ultimately we would like to be able to send our model an unprocessed review. That is, we would like to send the review itself as a string. For example, suppose we wish to send the following review to our model."
   ]
  },
  {
   "cell_type": "code",
   "execution_count": 71,
   "metadata": {},
   "outputs": [],
   "source": [
    "test_review = 'The simplest pleasures in life are the best, and this film is one of them. Combining a rather basic storyline of love and adventure this movie transcends the usual weekend fair with wit and unmitigated charm.'"
   ]
  },
  {
   "cell_type": "markdown",
   "metadata": {},
   "source": [
    "The question we now need to answer is, how do we send this review to our model?\n",
    "\n",
    "Recall in the first section of this notebook we did a bunch of data processing to the IMDb dataset. In particular, we did two specific things to the provided reviews.\n",
    " - Removed any html tags and stemmed the input\n",
    " - Encoded the review as a sequence of integers using `word_dict`\n",
    " \n",
    "In order process the review we will need to repeat these two steps.\n",
    "\n",
    "**TODO**: Using the `review_to_words` and `convert_and_pad` methods from section one, convert `test_review` into a numpy array `test_data` suitable to send to our model. Remember that our model expects input of the form `review_length, review[500]`."
   ]
  },
  {
   "cell_type": "code",
   "execution_count": 72,
   "metadata": {},
   "outputs": [
    {
     "data": {
      "text/plain": [
       "'The simplest pleasures in life are the best, and this film is one of them. Combining a rather basic storyline of love and adventure this movie transcends the usual weekend fair with wit and unmitigated charm.'"
      ]
     },
     "execution_count": 72,
     "metadata": {},
     "output_type": "execute_result"
    }
   ],
   "source": [
    "test_review"
   ]
  },
  {
   "cell_type": "code",
   "execution_count": 83,
   "metadata": {},
   "outputs": [],
   "source": [
    "test_review_tokens = review_to_words(test_review)\n",
    "test_sentence, test_data_length = convert_and_pad(word_dict,test_review_tokens)\n",
    "\n",
    "data_pack = np.hstack((test_data_length, test_sentence))\n",
    "test_data = data_pack.reshape(1, -1)"
   ]
  },
  {
   "cell_type": "code",
   "execution_count": 80,
   "metadata": {},
   "outputs": [
    {
     "data": {
      "text/plain": [
       "20"
      ]
     },
     "execution_count": 80,
     "metadata": {},
     "output_type": "execute_result"
    }
   ],
   "source": [
    "test_data_length"
   ]
  },
  {
   "cell_type": "code",
   "execution_count": 81,
   "metadata": {},
   "outputs": [
    {
     "data": {
      "text/plain": [
       "(501,)"
      ]
     },
     "execution_count": 81,
     "metadata": {},
     "output_type": "execute_result"
    }
   ],
   "source": [
    "data_pack.shape"
   ]
  },
  {
   "cell_type": "code",
   "execution_count": 85,
   "metadata": {},
   "outputs": [
    {
     "data": {
      "text/plain": [
       "(1, 501)"
      ]
     },
     "execution_count": 85,
     "metadata": {},
     "output_type": "execute_result"
    }
   ],
   "source": [
    "test_data.shape"
   ]
  },
  {
   "cell_type": "markdown",
   "metadata": {},
   "source": [
    "Now that we have processed the review, we can send the resulting array to our model to predict the sentiment of the review."
   ]
  },
  {
   "cell_type": "code",
   "execution_count": 86,
   "metadata": {},
   "outputs": [
    {
     "data": {
      "text/plain": [
       "array(0.4968773, dtype=float32)"
      ]
     },
     "execution_count": 86,
     "metadata": {},
     "output_type": "execute_result"
    }
   ],
   "source": [
    "predictor.predict(test_data2)"
   ]
  },
  {
   "cell_type": "markdown",
   "metadata": {},
   "source": [
    "Since the return value of our model is close to `1`, we can be certain that the review we submitted is positive."
   ]
  },
  {
   "cell_type": "markdown",
   "metadata": {},
   "source": [
    "### Delete the endpoint\n",
    "\n",
    "Of course, just like in the XGBoost notebook, once we've deployed an endpoint it continues to run until we tell it to shut down. Since we are done using our endpoint for now, we can delete it."
   ]
  },
  {
   "cell_type": "code",
   "execution_count": 87,
   "metadata": {},
   "outputs": [
    {
     "data": {
      "text/plain": [
       "'sagemaker-pytorch-2020-02-23-13-31-47-209'"
      ]
     },
     "execution_count": 87,
     "metadata": {},
     "output_type": "execute_result"
    }
   ],
   "source": [
    "predictor.endpoint"
   ]
  },
  {
   "cell_type": "code",
   "execution_count": 88,
   "metadata": {},
   "outputs": [],
   "source": [
    "predictor.delete_endpoint()"
   ]
  },
  {
   "cell_type": "code",
   "execution_count": 89,
   "metadata": {},
   "outputs": [
    {
     "data": {
      "text/plain": [
       "'sagemaker-pytorch-2020-02-23-13-31-47-209'"
      ]
     },
     "execution_count": 89,
     "metadata": {},
     "output_type": "execute_result"
    }
   ],
   "source": [
    "predictor.endpoint"
   ]
  },
  {
   "cell_type": "markdown",
   "metadata": {},
   "source": [
    "## Step 6 (again) - Deploy the model for the web app\n",
    "\n",
    "Now that we know that our model is working, it's time to create some custom inference code so that we can send the model a review which has not been processed and have it determine the sentiment of the review.\n",
    "\n",
    "As we saw above, by default the estimator which we created, when deployed, will use the entry script and directory which we provided when creating the model. However, since we now wish to accept a string as input and our model expects a processed review, we need to write some custom inference code.\n",
    "\n",
    "We will store the code that we write in the `serve` directory. Provided in this directory is the `model.py` file that we used to construct our model, a `utils.py` file which contains the `review_to_words` and `convert_and_pad` pre-processing functions which we used during the initial data processing, and `predict.py`, the file which will contain our custom inference code. Note also that `requirements.txt` is present which will tell SageMaker what Python libraries are required by our custom inference code.\n",
    "\n",
    "When deploying a PyTorch model in SageMaker, you are expected to provide four functions which the SageMaker inference container will use.\n",
    " - `model_fn`: This function is the same function that we used in the training script and it tells SageMaker how to load our model.\n",
    " - `input_fn`: This function receives the raw serialized input that has been sent to the model's endpoint and its job is to de-serialize and make the input available for the inference code.\n",
    " - `output_fn`: This function takes the output of the inference code and its job is to serialize this output and return it to the caller of the model's endpoint.\n",
    " - `predict_fn`: The heart of the inference script, this is where the actual prediction is done and is the function which you will need to complete.\n",
    "\n",
    "For the simple website that we are constructing during this project, the `input_fn` and `output_fn` methods are relatively straightforward. We only require being able to accept a string as input and we expect to return a single value as output. You might imagine though that in a more complex application the input or output may be image data or some other binary data which would require some effort to serialize.\n",
    "\n",
    "### (TODO) Writing inference code\n",
    "\n",
    "Before writing our custom inference code, we will begin by taking a look at the code which has been provided."
   ]
  },
  {
   "cell_type": "code",
   "execution_count": 90,
   "metadata": {},
   "outputs": [
    {
     "name": "stdout",
     "output_type": "stream",
     "text": [
      "\u001b[34mimport\u001b[39;49;00m \u001b[04m\u001b[36margparse\u001b[39;49;00m\r\n",
      "\u001b[34mimport\u001b[39;49;00m \u001b[04m\u001b[36mjson\u001b[39;49;00m\r\n",
      "\u001b[34mimport\u001b[39;49;00m \u001b[04m\u001b[36mos\u001b[39;49;00m\r\n",
      "\u001b[34mimport\u001b[39;49;00m \u001b[04m\u001b[36mpickle\u001b[39;49;00m\r\n",
      "\u001b[34mimport\u001b[39;49;00m \u001b[04m\u001b[36msys\u001b[39;49;00m\r\n",
      "\u001b[34mimport\u001b[39;49;00m \u001b[04m\u001b[36msagemaker_containers\u001b[39;49;00m\r\n",
      "\u001b[34mimport\u001b[39;49;00m \u001b[04m\u001b[36mpandas\u001b[39;49;00m \u001b[34mas\u001b[39;49;00m \u001b[04m\u001b[36mpd\u001b[39;49;00m\r\n",
      "\u001b[34mimport\u001b[39;49;00m \u001b[04m\u001b[36mnumpy\u001b[39;49;00m \u001b[34mas\u001b[39;49;00m \u001b[04m\u001b[36mnp\u001b[39;49;00m\r\n",
      "\u001b[34mimport\u001b[39;49;00m \u001b[04m\u001b[36mtorch\u001b[39;49;00m\r\n",
      "\u001b[34mimport\u001b[39;49;00m \u001b[04m\u001b[36mtorch.nn\u001b[39;49;00m \u001b[34mas\u001b[39;49;00m \u001b[04m\u001b[36mnn\u001b[39;49;00m\r\n",
      "\u001b[34mimport\u001b[39;49;00m \u001b[04m\u001b[36mtorch.optim\u001b[39;49;00m \u001b[34mas\u001b[39;49;00m \u001b[04m\u001b[36moptim\u001b[39;49;00m\r\n",
      "\u001b[34mimport\u001b[39;49;00m \u001b[04m\u001b[36mtorch.utils.data\u001b[39;49;00m\r\n",
      "\r\n",
      "\u001b[34mfrom\u001b[39;49;00m \u001b[04m\u001b[36mmodel\u001b[39;49;00m \u001b[34mimport\u001b[39;49;00m LSTMClassifier\r\n",
      "\r\n",
      "\u001b[34mfrom\u001b[39;49;00m \u001b[04m\u001b[36mutils\u001b[39;49;00m \u001b[34mimport\u001b[39;49;00m review_to_words, convert_and_pad\r\n",
      "\r\n",
      "\u001b[34mdef\u001b[39;49;00m \u001b[32mmodel_fn\u001b[39;49;00m(model_dir):\r\n",
      "    \u001b[33m\"\"\"Load the PyTorch model from the `model_dir` directory.\"\"\"\u001b[39;49;00m\r\n",
      "    \u001b[34mprint\u001b[39;49;00m(\u001b[33m\"\u001b[39;49;00m\u001b[33mLoading model.\u001b[39;49;00m\u001b[33m\"\u001b[39;49;00m)\r\n",
      "\r\n",
      "    \u001b[37m# First, load the parameters used to create the model.\u001b[39;49;00m\r\n",
      "    model_info = {}\r\n",
      "    model_info_path = os.path.join(model_dir, \u001b[33m'\u001b[39;49;00m\u001b[33mmodel_info.pth\u001b[39;49;00m\u001b[33m'\u001b[39;49;00m)\r\n",
      "    \u001b[34mwith\u001b[39;49;00m \u001b[36mopen\u001b[39;49;00m(model_info_path, \u001b[33m'\u001b[39;49;00m\u001b[33mrb\u001b[39;49;00m\u001b[33m'\u001b[39;49;00m) \u001b[34mas\u001b[39;49;00m f:\r\n",
      "        model_info = torch.load(f)\r\n",
      "\r\n",
      "    \u001b[34mprint\u001b[39;49;00m(\u001b[33m\"\u001b[39;49;00m\u001b[33mmodel_info: {}\u001b[39;49;00m\u001b[33m\"\u001b[39;49;00m.format(model_info))\r\n",
      "\r\n",
      "    \u001b[37m# Determine the device and construct the model.\u001b[39;49;00m\r\n",
      "    device = torch.device(\u001b[33m\"\u001b[39;49;00m\u001b[33mcuda\u001b[39;49;00m\u001b[33m\"\u001b[39;49;00m \u001b[34mif\u001b[39;49;00m torch.cuda.is_available() \u001b[34melse\u001b[39;49;00m \u001b[33m\"\u001b[39;49;00m\u001b[33mcpu\u001b[39;49;00m\u001b[33m\"\u001b[39;49;00m)\r\n",
      "    model = LSTMClassifier(model_info[\u001b[33m'\u001b[39;49;00m\u001b[33membedding_dim\u001b[39;49;00m\u001b[33m'\u001b[39;49;00m], model_info[\u001b[33m'\u001b[39;49;00m\u001b[33mhidden_dim\u001b[39;49;00m\u001b[33m'\u001b[39;49;00m], model_info[\u001b[33m'\u001b[39;49;00m\u001b[33mvocab_size\u001b[39;49;00m\u001b[33m'\u001b[39;49;00m])\r\n",
      "\r\n",
      "    \u001b[37m# Load the store model parameters.\u001b[39;49;00m\r\n",
      "    model_path = os.path.join(model_dir, \u001b[33m'\u001b[39;49;00m\u001b[33mmodel.pth\u001b[39;49;00m\u001b[33m'\u001b[39;49;00m)\r\n",
      "    \u001b[34mwith\u001b[39;49;00m \u001b[36mopen\u001b[39;49;00m(model_path, \u001b[33m'\u001b[39;49;00m\u001b[33mrb\u001b[39;49;00m\u001b[33m'\u001b[39;49;00m) \u001b[34mas\u001b[39;49;00m f:\r\n",
      "        model.load_state_dict(torch.load(f))\r\n",
      "\r\n",
      "    \u001b[37m# Load the saved word_dict.\u001b[39;49;00m\r\n",
      "    word_dict_path = os.path.join(model_dir, \u001b[33m'\u001b[39;49;00m\u001b[33mword_dict.pkl\u001b[39;49;00m\u001b[33m'\u001b[39;49;00m)\r\n",
      "    \u001b[34mwith\u001b[39;49;00m \u001b[36mopen\u001b[39;49;00m(word_dict_path, \u001b[33m'\u001b[39;49;00m\u001b[33mrb\u001b[39;49;00m\u001b[33m'\u001b[39;49;00m) \u001b[34mas\u001b[39;49;00m f:\r\n",
      "        model.word_dict = pickle.load(f)\r\n",
      "\r\n",
      "    model.to(device).eval()\r\n",
      "\r\n",
      "    \u001b[34mprint\u001b[39;49;00m(\u001b[33m\"\u001b[39;49;00m\u001b[33mDone loading model.\u001b[39;49;00m\u001b[33m\"\u001b[39;49;00m)\r\n",
      "    \u001b[34mreturn\u001b[39;49;00m model\r\n",
      "\r\n",
      "\u001b[34mdef\u001b[39;49;00m \u001b[32minput_fn\u001b[39;49;00m(serialized_input_data, content_type):\r\n",
      "    \u001b[34mprint\u001b[39;49;00m(\u001b[33m'\u001b[39;49;00m\u001b[33mDeserializing the input data.\u001b[39;49;00m\u001b[33m'\u001b[39;49;00m)\r\n",
      "    \u001b[34mif\u001b[39;49;00m content_type == \u001b[33m'\u001b[39;49;00m\u001b[33mtext/plain\u001b[39;49;00m\u001b[33m'\u001b[39;49;00m:\r\n",
      "        data = serialized_input_data.decode(\u001b[33m'\u001b[39;49;00m\u001b[33mutf-8\u001b[39;49;00m\u001b[33m'\u001b[39;49;00m)\r\n",
      "        \u001b[34mreturn\u001b[39;49;00m data\r\n",
      "    \u001b[34mraise\u001b[39;49;00m \u001b[36mException\u001b[39;49;00m(\u001b[33m'\u001b[39;49;00m\u001b[33mRequested unsupported ContentType in content_type: \u001b[39;49;00m\u001b[33m'\u001b[39;49;00m + content_type)\r\n",
      "\r\n",
      "\u001b[34mdef\u001b[39;49;00m \u001b[32moutput_fn\u001b[39;49;00m(prediction_output, accept):\r\n",
      "    \u001b[34mprint\u001b[39;49;00m(\u001b[33m'\u001b[39;49;00m\u001b[33mSerializing the generated output.\u001b[39;49;00m\u001b[33m'\u001b[39;49;00m)\r\n",
      "    \u001b[34mreturn\u001b[39;49;00m \u001b[36mstr\u001b[39;49;00m(prediction_output)\r\n",
      "\r\n",
      "\u001b[34mdef\u001b[39;49;00m \u001b[32mpredict_fn\u001b[39;49;00m(input_data, model):\r\n",
      "    \u001b[34mprint\u001b[39;49;00m(\u001b[33m'\u001b[39;49;00m\u001b[33mInferring sentiment of input data.\u001b[39;49;00m\u001b[33m'\u001b[39;49;00m)\r\n",
      "\r\n",
      "    device = torch.device(\u001b[33m\"\u001b[39;49;00m\u001b[33mcuda\u001b[39;49;00m\u001b[33m\"\u001b[39;49;00m \u001b[34mif\u001b[39;49;00m torch.cuda.is_available() \u001b[34melse\u001b[39;49;00m \u001b[33m\"\u001b[39;49;00m\u001b[33mcpu\u001b[39;49;00m\u001b[33m\"\u001b[39;49;00m)\r\n",
      "    \r\n",
      "    \u001b[34mif\u001b[39;49;00m model.word_dict \u001b[35mis\u001b[39;49;00m \u001b[36mNone\u001b[39;49;00m:\r\n",
      "        \u001b[34mraise\u001b[39;49;00m \u001b[36mException\u001b[39;49;00m(\u001b[33m'\u001b[39;49;00m\u001b[33mModel has not been loaded properly, no word_dict.\u001b[39;49;00m\u001b[33m'\u001b[39;49;00m)\r\n",
      "    \r\n",
      "    \u001b[37m# TODO: Process input_data so that it is ready to be sent to our model.\u001b[39;49;00m\r\n",
      "    \u001b[37m#       You should produce two variables:\u001b[39;49;00m\r\n",
      "    \u001b[37m#         data_X   - A sequence of length 500 which represents the converted review\u001b[39;49;00m\r\n",
      "    \u001b[37m#         data_len - The length of the review\u001b[39;49;00m\r\n",
      "\r\n",
      "    data_X = \u001b[36mNone\u001b[39;49;00m\r\n",
      "    data_len = \u001b[36mNone\u001b[39;49;00m\r\n",
      "\r\n",
      "    \u001b[37m# Using data_X and data_len we construct an appropriate input tensor. Remember\u001b[39;49;00m\r\n",
      "    \u001b[37m# that our model expects input data of the form 'len, review[500]'.\u001b[39;49;00m\r\n",
      "    data_pack = np.hstack((data_len, data_X))\r\n",
      "    data_pack = data_pack.reshape(\u001b[34m1\u001b[39;49;00m, -\u001b[34m1\u001b[39;49;00m)\r\n",
      "    \r\n",
      "    data = torch.from_numpy(data_pack)\r\n",
      "    data = data.to(device)\r\n",
      "\r\n",
      "    \u001b[37m# Make sure to put the model into evaluation mode\u001b[39;49;00m\r\n",
      "    model.eval()\r\n",
      "\r\n",
      "    \u001b[37m# TODO: Compute the result of applying the model to the input data. The variable `result` should\u001b[39;49;00m\r\n",
      "    \u001b[37m#       be a numpy array which contains a single integer which is either 1 or 0\u001b[39;49;00m\r\n",
      "\r\n",
      "    result = \u001b[36mNone\u001b[39;49;00m\r\n",
      "\r\n",
      "    \u001b[34mreturn\u001b[39;49;00m result\r\n"
     ]
    }
   ],
   "source": [
    "!pygmentize serve/predict.py"
   ]
  },
  {
   "cell_type": "markdown",
   "metadata": {},
   "source": [
    "As mentioned earlier, the `model_fn` method is the same as the one provided in the training code and the `input_fn` and `output_fn` methods are very simple and your task will be to complete the `predict_fn` method. Make sure that you save the completed file as `predict.py` in the `serve` directory.\n",
    "\n",
    "**TODO**: Complete the `predict_fn()` method in the `serve/predict.py` file."
   ]
  },
  {
   "cell_type": "markdown",
   "metadata": {},
   "source": [
    "### Deploying the model\n",
    "\n",
    "Now that the custom inference code has been written, we will create and deploy our model. To begin with, we need to construct a new PyTorchModel object which points to the model artifacts created during training and also points to the inference code that we wish to use. Then we can call the deploy method to launch the deployment container.\n",
    "\n",
    "**NOTE**: The default behaviour for a deployed PyTorch model is to assume that any input passed to the predictor is a `numpy` array. In our case we want to send a string so we need to construct a simple wrapper around the `RealTimePredictor` class to accomodate simple strings. In a more complicated situation you may want to provide a serialization object, for example if you wanted to sent image data."
   ]
  },
  {
   "cell_type": "code",
   "execution_count": 91,
   "metadata": {},
   "outputs": [
    {
     "name": "stdout",
     "output_type": "stream",
     "text": [
      "-----------!"
     ]
    }
   ],
   "source": [
    "from sagemaker.predictor import RealTimePredictor\n",
    "from sagemaker.pytorch import PyTorchModel\n",
    "\n",
    "class StringPredictor(RealTimePredictor):\n",
    "    def __init__(self, endpoint_name, sagemaker_session):\n",
    "        super(StringPredictor, self).__init__(endpoint_name, sagemaker_session, content_type='text/plain')\n",
    "\n",
    "model = PyTorchModel(model_data=estimator.model_data,\n",
    "                     role = role,\n",
    "                     framework_version='0.4.0',\n",
    "                     entry_point='predict.py',\n",
    "                     source_dir='serve',\n",
    "                     predictor_cls=StringPredictor)\n",
    "predictor = model.deploy(initial_instance_count=1, instance_type='ml.m4.xlarge')"
   ]
  },
  {
   "cell_type": "markdown",
   "metadata": {},
   "source": [
    "### Testing the model\n",
    "\n",
    "Now that we have deployed our model with the custom inference code, we should test to see if everything is working. Here we test our model by loading the first `250` positive and negative reviews and send them to the endpoint, then collect the results. The reason for only sending some of the data is that the amount of time it takes for our model to process the input and then perform inference is quite long and so testing the entire data set would be prohibitive."
   ]
  },
  {
   "cell_type": "code",
   "execution_count": 92,
   "metadata": {},
   "outputs": [],
   "source": [
    "import glob\n",
    "\n",
    "def test_reviews(data_dir='../data/aclImdb', stop=250):\n",
    "    \n",
    "    results = []\n",
    "    ground = []\n",
    "    \n",
    "    # We make sure to test both positive and negative reviews    \n",
    "    for sentiment in ['pos', 'neg']:\n",
    "        \n",
    "        path = os.path.join(data_dir, 'test', sentiment, '*.txt')\n",
    "        files = glob.glob(path)\n",
    "        \n",
    "        files_read = 0\n",
    "        \n",
    "        print('Starting ', sentiment, ' files')\n",
    "        \n",
    "        # Iterate through the files and send them to the predictor\n",
    "        for f in files:\n",
    "            with open(f) as review:\n",
    "                # First, we store the ground truth (was the review positive or negative)\n",
    "                if sentiment == 'pos':\n",
    "                    ground.append(1)\n",
    "                else:\n",
    "                    ground.append(0)\n",
    "                # Read in the review and convert to 'utf-8' for transmission via HTTP\n",
    "                review_input = review.read().encode('utf-8')\n",
    "                # Send the review to the predictor and store the results\n",
    "                results.append(int(predictor.predict(review_input)))\n",
    "                \n",
    "            # Sending reviews to our endpoint one at a time takes a while so we\n",
    "            # only send a small number of reviews\n",
    "            files_read += 1\n",
    "            if files_read == stop:\n",
    "                break\n",
    "            \n",
    "    return ground, results"
   ]
  },
  {
   "cell_type": "code",
   "execution_count": 93,
   "metadata": {},
   "outputs": [
    {
     "name": "stdout",
     "output_type": "stream",
     "text": [
      "Starting  pos  files\n"
     ]
    },
    {
     "ename": "ModelError",
     "evalue": "An error occurred (ModelError) when calling the InvokeEndpoint operation: Received server error (500) from model with message \"<!DOCTYPE HTML PUBLIC \"-//W3C//DTD HTML 3.2 Final//EN\">\n<title>500 Internal Server Error</title>\n<h1>Internal Server Error</h1>\n<p>The server encountered an internal error and was unable to complete your request.  Either the server is overloaded or there is an error in the application.</p>\n\". See https://eu-central-1.console.aws.amazon.com/cloudwatch/home?region=eu-central-1#logEventViewer:group=/aws/sagemaker/Endpoints/sagemaker-pytorch-2020-02-23-14-03-10-914 in account 616678683030 for more information.",
     "output_type": "error",
     "traceback": [
      "\u001b[0;31m---------------------------------------------------------------------------\u001b[0m",
      "\u001b[0;31mModelError\u001b[0m                                Traceback (most recent call last)",
      "\u001b[0;32m<ipython-input-93-27d1fd4b7c7b>\u001b[0m in \u001b[0;36m<module>\u001b[0;34m()\u001b[0m\n\u001b[0;32m----> 1\u001b[0;31m \u001b[0mground\u001b[0m\u001b[0;34m,\u001b[0m \u001b[0mresults\u001b[0m \u001b[0;34m=\u001b[0m \u001b[0mtest_reviews\u001b[0m\u001b[0;34m(\u001b[0m\u001b[0;34m)\u001b[0m\u001b[0;34m\u001b[0m\u001b[0m\n\u001b[0m",
      "\u001b[0;32m<ipython-input-92-4c56d4ff716b>\u001b[0m in \u001b[0;36mtest_reviews\u001b[0;34m(data_dir, stop)\u001b[0m\n\u001b[1;32m     27\u001b[0m                 \u001b[0mreview_input\u001b[0m \u001b[0;34m=\u001b[0m \u001b[0mreview\u001b[0m\u001b[0;34m.\u001b[0m\u001b[0mread\u001b[0m\u001b[0;34m(\u001b[0m\u001b[0;34m)\u001b[0m\u001b[0;34m.\u001b[0m\u001b[0mencode\u001b[0m\u001b[0;34m(\u001b[0m\u001b[0;34m'utf-8'\u001b[0m\u001b[0;34m)\u001b[0m\u001b[0;34m\u001b[0m\u001b[0m\n\u001b[1;32m     28\u001b[0m                 \u001b[0;31m# Send the review to the predictor and store the results\u001b[0m\u001b[0;34m\u001b[0m\u001b[0;34m\u001b[0m\u001b[0m\n\u001b[0;32m---> 29\u001b[0;31m                 \u001b[0mresults\u001b[0m\u001b[0;34m.\u001b[0m\u001b[0mappend\u001b[0m\u001b[0;34m(\u001b[0m\u001b[0mint\u001b[0m\u001b[0;34m(\u001b[0m\u001b[0mpredictor\u001b[0m\u001b[0;34m.\u001b[0m\u001b[0mpredict\u001b[0m\u001b[0;34m(\u001b[0m\u001b[0mreview_input\u001b[0m\u001b[0;34m)\u001b[0m\u001b[0;34m)\u001b[0m\u001b[0;34m)\u001b[0m\u001b[0;34m\u001b[0m\u001b[0m\n\u001b[0m\u001b[1;32m     30\u001b[0m \u001b[0;34m\u001b[0m\u001b[0m\n\u001b[1;32m     31\u001b[0m             \u001b[0;31m# Sending reviews to our endpoint one at a time takes a while so we\u001b[0m\u001b[0;34m\u001b[0m\u001b[0;34m\u001b[0m\u001b[0m\n",
      "\u001b[0;32m~/anaconda3/envs/pytorch_p36/lib/python3.6/site-packages/sagemaker/predictor.py\u001b[0m in \u001b[0;36mpredict\u001b[0;34m(self, data, initial_args, target_model)\u001b[0m\n\u001b[1;32m    108\u001b[0m \u001b[0;34m\u001b[0m\u001b[0m\n\u001b[1;32m    109\u001b[0m         \u001b[0mrequest_args\u001b[0m \u001b[0;34m=\u001b[0m \u001b[0mself\u001b[0m\u001b[0;34m.\u001b[0m\u001b[0m_create_request_args\u001b[0m\u001b[0;34m(\u001b[0m\u001b[0mdata\u001b[0m\u001b[0;34m,\u001b[0m \u001b[0minitial_args\u001b[0m\u001b[0;34m,\u001b[0m \u001b[0mtarget_model\u001b[0m\u001b[0;34m)\u001b[0m\u001b[0;34m\u001b[0m\u001b[0m\n\u001b[0;32m--> 110\u001b[0;31m         \u001b[0mresponse\u001b[0m \u001b[0;34m=\u001b[0m \u001b[0mself\u001b[0m\u001b[0;34m.\u001b[0m\u001b[0msagemaker_session\u001b[0m\u001b[0;34m.\u001b[0m\u001b[0msagemaker_runtime_client\u001b[0m\u001b[0;34m.\u001b[0m\u001b[0minvoke_endpoint\u001b[0m\u001b[0;34m(\u001b[0m\u001b[0;34m**\u001b[0m\u001b[0mrequest_args\u001b[0m\u001b[0;34m)\u001b[0m\u001b[0;34m\u001b[0m\u001b[0m\n\u001b[0m\u001b[1;32m    111\u001b[0m         \u001b[0;32mreturn\u001b[0m \u001b[0mself\u001b[0m\u001b[0;34m.\u001b[0m\u001b[0m_handle_response\u001b[0m\u001b[0;34m(\u001b[0m\u001b[0mresponse\u001b[0m\u001b[0;34m)\u001b[0m\u001b[0;34m\u001b[0m\u001b[0m\n\u001b[1;32m    112\u001b[0m \u001b[0;34m\u001b[0m\u001b[0m\n",
      "\u001b[0;32m~/anaconda3/envs/pytorch_p36/lib/python3.6/site-packages/botocore/client.py\u001b[0m in \u001b[0;36m_api_call\u001b[0;34m(self, *args, **kwargs)\u001b[0m\n\u001b[1;32m    274\u001b[0m                     \"%s() only accepts keyword arguments.\" % py_operation_name)\n\u001b[1;32m    275\u001b[0m             \u001b[0;31m# The \"self\" in this scope is referring to the BaseClient.\u001b[0m\u001b[0;34m\u001b[0m\u001b[0;34m\u001b[0m\u001b[0m\n\u001b[0;32m--> 276\u001b[0;31m             \u001b[0;32mreturn\u001b[0m \u001b[0mself\u001b[0m\u001b[0;34m.\u001b[0m\u001b[0m_make_api_call\u001b[0m\u001b[0;34m(\u001b[0m\u001b[0moperation_name\u001b[0m\u001b[0;34m,\u001b[0m \u001b[0mkwargs\u001b[0m\u001b[0;34m)\u001b[0m\u001b[0;34m\u001b[0m\u001b[0m\n\u001b[0m\u001b[1;32m    277\u001b[0m \u001b[0;34m\u001b[0m\u001b[0m\n\u001b[1;32m    278\u001b[0m         \u001b[0m_api_call\u001b[0m\u001b[0;34m.\u001b[0m\u001b[0m__name__\u001b[0m \u001b[0;34m=\u001b[0m \u001b[0mstr\u001b[0m\u001b[0;34m(\u001b[0m\u001b[0mpy_operation_name\u001b[0m\u001b[0;34m)\u001b[0m\u001b[0;34m\u001b[0m\u001b[0m\n",
      "\u001b[0;32m~/anaconda3/envs/pytorch_p36/lib/python3.6/site-packages/botocore/client.py\u001b[0m in \u001b[0;36m_make_api_call\u001b[0;34m(self, operation_name, api_params)\u001b[0m\n\u001b[1;32m    584\u001b[0m             \u001b[0merror_code\u001b[0m \u001b[0;34m=\u001b[0m \u001b[0mparsed_response\u001b[0m\u001b[0;34m.\u001b[0m\u001b[0mget\u001b[0m\u001b[0;34m(\u001b[0m\u001b[0;34m\"Error\"\u001b[0m\u001b[0;34m,\u001b[0m \u001b[0;34m{\u001b[0m\u001b[0;34m}\u001b[0m\u001b[0;34m)\u001b[0m\u001b[0;34m.\u001b[0m\u001b[0mget\u001b[0m\u001b[0;34m(\u001b[0m\u001b[0;34m\"Code\"\u001b[0m\u001b[0;34m)\u001b[0m\u001b[0;34m\u001b[0m\u001b[0m\n\u001b[1;32m    585\u001b[0m             \u001b[0merror_class\u001b[0m \u001b[0;34m=\u001b[0m \u001b[0mself\u001b[0m\u001b[0;34m.\u001b[0m\u001b[0mexceptions\u001b[0m\u001b[0;34m.\u001b[0m\u001b[0mfrom_code\u001b[0m\u001b[0;34m(\u001b[0m\u001b[0merror_code\u001b[0m\u001b[0;34m)\u001b[0m\u001b[0;34m\u001b[0m\u001b[0m\n\u001b[0;32m--> 586\u001b[0;31m             \u001b[0;32mraise\u001b[0m \u001b[0merror_class\u001b[0m\u001b[0;34m(\u001b[0m\u001b[0mparsed_response\u001b[0m\u001b[0;34m,\u001b[0m \u001b[0moperation_name\u001b[0m\u001b[0;34m)\u001b[0m\u001b[0;34m\u001b[0m\u001b[0m\n\u001b[0m\u001b[1;32m    587\u001b[0m         \u001b[0;32melse\u001b[0m\u001b[0;34m:\u001b[0m\u001b[0;34m\u001b[0m\u001b[0m\n\u001b[1;32m    588\u001b[0m             \u001b[0;32mreturn\u001b[0m \u001b[0mparsed_response\u001b[0m\u001b[0;34m\u001b[0m\u001b[0m\n",
      "\u001b[0;31mModelError\u001b[0m: An error occurred (ModelError) when calling the InvokeEndpoint operation: Received server error (500) from model with message \"<!DOCTYPE HTML PUBLIC \"-//W3C//DTD HTML 3.2 Final//EN\">\n<title>500 Internal Server Error</title>\n<h1>Internal Server Error</h1>\n<p>The server encountered an internal error and was unable to complete your request.  Either the server is overloaded or there is an error in the application.</p>\n\". See https://eu-central-1.console.aws.amazon.com/cloudwatch/home?region=eu-central-1#logEventViewer:group=/aws/sagemaker/Endpoints/sagemaker-pytorch-2020-02-23-14-03-10-914 in account 616678683030 for more information."
     ]
    }
   ],
   "source": [
    "ground, results = test_reviews()"
   ]
  },
  {
   "cell_type": "code",
   "execution_count": null,
   "metadata": {},
   "outputs": [],
   "source": [
    "from sklearn.metrics import accuracy_score\n",
    "accuracy_score(ground, results)"
   ]
  },
  {
   "cell_type": "markdown",
   "metadata": {},
   "source": [
    "As an additional test, we can try sending the `test_review` that we looked at earlier."
   ]
  },
  {
   "cell_type": "code",
   "execution_count": null,
   "metadata": {},
   "outputs": [],
   "source": [
    "predictor.predict(test_review)"
   ]
  },
  {
   "cell_type": "markdown",
   "metadata": {},
   "source": [
    "Now that we know our endpoint is working as expected, we can set up the web page that will interact with it. If you don't have time to finish the project now, make sure to skip down to the end of this notebook and shut down your endpoint. You can deploy it again when you come back."
   ]
  },
  {
   "cell_type": "markdown",
   "metadata": {},
   "source": [
    "## Step 7 (again): Use the model for the web app\n",
    "\n",
    "> **TODO:** This entire section and the next contain tasks for you to complete, mostly using the AWS console.\n",
    "\n",
    "So far we have been accessing our model endpoint by constructing a predictor object which uses the endpoint and then just using the predictor object to perform inference. What if we wanted to create a web app which accessed our model? The way things are set up currently makes that not possible since in order to access a SageMaker endpoint the app would first have to authenticate with AWS using an IAM role which included access to SageMaker endpoints. However, there is an easier way! We just need to use some additional AWS services.\n",
    "\n",
    "<img src=\"Web App Diagram.svg\">\n",
    "\n",
    "The diagram above gives an overview of how the various services will work together. On the far right is the model which we trained above and which is deployed using SageMaker. On the far left is our web app that collects a user's movie review, sends it off and expects a positive or negative sentiment in return.\n",
    "\n",
    "In the middle is where some of the magic happens. We will construct a Lambda function, which you can think of as a straightforward Python function that can be executed whenever a specified event occurs. We will give this function permission to send and recieve data from a SageMaker endpoint.\n",
    "\n",
    "Lastly, the method we will use to execute the Lambda function is a new endpoint that we will create using API Gateway. This endpoint will be a url that listens for data to be sent to it. Once it gets some data it will pass that data on to the Lambda function and then return whatever the Lambda function returns. Essentially it will act as an interface that lets our web app communicate with the Lambda function.\n",
    "\n",
    "### Setting up a Lambda function\n",
    "\n",
    "The first thing we are going to do is set up a Lambda function. This Lambda function will be executed whenever our public API has data sent to it. When it is executed it will receive the data, perform any sort of processing that is required, send the data (the review) to the SageMaker endpoint we've created and then return the result.\n",
    "\n",
    "#### Part A: Create an IAM Role for the Lambda function\n",
    "\n",
    "Since we want the Lambda function to call a SageMaker endpoint, we need to make sure that it has permission to do so. To do this, we will construct a role that we can later give the Lambda function.\n",
    "\n",
    "Using the AWS Console, navigate to the **IAM** page and click on **Roles**. Then, click on **Create role**. Make sure that the **AWS service** is the type of trusted entity selected and choose **Lambda** as the service that will use this role, then click **Next: Permissions**.\n",
    "\n",
    "In the search box type `sagemaker` and select the check box next to the **AmazonSageMakerFullAccess** policy. Then, click on **Next: Review**.\n",
    "\n",
    "Lastly, give this role a name. Make sure you use a name that you will remember later on, for example `LambdaSageMakerRole`. Then, click on **Create role**.\n",
    "\n",
    "#### Part B: Create a Lambda function\n",
    "\n",
    "Now it is time to actually create the Lambda function.\n",
    "\n",
    "Using the AWS Console, navigate to the AWS Lambda page and click on **Create a function**. When you get to the next page, make sure that **Author from scratch** is selected. Now, name your Lambda function, using a name that you will remember later on, for example `sentiment_analysis_func`. Make sure that the **Python 3.6** runtime is selected and then choose the role that you created in the previous part. Then, click on **Create Function**.\n",
    "\n",
    "On the next page you will see some information about the Lambda function you've just created. If you scroll down you should see an editor in which you can write the code that will be executed when your Lambda function is triggered. In our example, we will use the code below. \n",
    "\n",
    "```python\n",
    "# We need to use the low-level library to interact with SageMaker since the SageMaker API\n",
    "# is not available natively through Lambda.\n",
    "import boto3\n",
    "\n",
    "def lambda_handler(event, context):\n",
    "\n",
    "    # The SageMaker runtime is what allows us to invoke the endpoint that we've created.\n",
    "    runtime = boto3.Session().client('sagemaker-runtime')\n",
    "\n",
    "    # Now we use the SageMaker runtime to invoke our endpoint, sending the review we were given\n",
    "    response = runtime.invoke_endpoint(EndpointName = '**ENDPOINT NAME HERE**',    # The name of the endpoint we created\n",
    "                                       ContentType = 'text/plain',                 # The data format that is expected\n",
    "                                       Body = event['body'])                       # The actual review\n",
    "\n",
    "    # The response is an HTTP response whose body contains the result of our inference\n",
    "    result = response['Body'].read().decode('utf-8')\n",
    "\n",
    "    return {\n",
    "        'statusCode' : 200,\n",
    "        'headers' : { 'Content-Type' : 'text/plain', 'Access-Control-Allow-Origin' : '*' },\n",
    "        'body' : result\n",
    "    }\n",
    "```\n",
    "\n",
    "Once you have copy and pasted the code above into the Lambda code editor, replace the `**ENDPOINT NAME HERE**` portion with the name of the endpoint that we deployed earlier. You can determine the name of the endpoint using the code cell below."
   ]
  },
  {
   "cell_type": "code",
   "execution_count": null,
   "metadata": {},
   "outputs": [],
   "source": [
    "predictor.endpoint"
   ]
  },
  {
   "cell_type": "markdown",
   "metadata": {},
   "source": [
    "Once you have added the endpoint name to the Lambda function, click on **Save**. Your Lambda function is now up and running. Next we need to create a way for our web app to execute the Lambda function.\n",
    "\n",
    "### Setting up API Gateway\n",
    "\n",
    "Now that our Lambda function is set up, it is time to create a new API using API Gateway that will trigger the Lambda function we have just created.\n",
    "\n",
    "Using AWS Console, navigate to **Amazon API Gateway** and then click on **Get started**.\n",
    "\n",
    "On the next page, make sure that **New API** is selected and give the new api a name, for example, `sentiment_analysis_api`. Then, click on **Create API**.\n",
    "\n",
    "Now we have created an API, however it doesn't currently do anything. What we want it to do is to trigger the Lambda function that we created earlier.\n",
    "\n",
    "Select the **Actions** dropdown menu and click **Create Method**. A new blank method will be created, select its dropdown menu and select **POST**, then click on the check mark beside it.\n",
    "\n",
    "For the integration point, make sure that **Lambda Function** is selected and click on the **Use Lambda Proxy integration**. This option makes sure that the data that is sent to the API is then sent directly to the Lambda function with no processing. It also means that the return value must be a proper response object as it will also not be processed by API Gateway.\n",
    "\n",
    "Type the name of the Lambda function you created earlier into the **Lambda Function** text entry box and then click on **Save**. Click on **OK** in the pop-up box that then appears, giving permission to API Gateway to invoke the Lambda function you created.\n",
    "\n",
    "The last step in creating the API Gateway is to select the **Actions** dropdown and click on **Deploy API**. You will need to create a new Deployment stage and name it anything you like, for example `prod`.\n",
    "\n",
    "You have now successfully set up a public API to access your SageMaker model. Make sure to copy or write down the URL provided to invoke your newly created public API as this will be needed in the next step. This URL can be found at the top of the page, highlighted in blue next to the text **Invoke URL**."
   ]
  },
  {
   "cell_type": "markdown",
   "metadata": {},
   "source": [
    "## Step 4: Deploying our web app\n",
    "\n",
    "Now that we have a publicly available API, we can start using it in a web app. For our purposes, we have provided a simple static html file which can make use of the public api you created earlier.\n",
    "\n",
    "In the `website` folder there should be a file called `index.html`. Download the file to your computer and open that file up in a text editor of your choice. There should be a line which contains **\\*\\*REPLACE WITH PUBLIC API URL\\*\\***. Replace this string with the url that you wrote down in the last step and then save the file.\n",
    "\n",
    "Now, if you open `index.html` on your local computer, your browser will behave as a local web server and you can use the provided site to interact with your SageMaker model.\n",
    "\n",
    "If you'd like to go further, you can host this html file anywhere you'd like, for example using github or hosting a static site on Amazon's S3. Once you have done this you can share the link with anyone you'd like and have them play with it too!\n",
    "\n",
    "> **Important Note** In order for the web app to communicate with the SageMaker endpoint, the endpoint has to actually be deployed and running. This means that you are paying for it. Make sure that the endpoint is running when you want to use the web app but that you shut it down when you don't need it, otherwise you will end up with a surprisingly large AWS bill.\n",
    "\n",
    "**TODO:** Make sure that you include the edited `index.html` file in your project submission."
   ]
  },
  {
   "cell_type": "markdown",
   "metadata": {},
   "source": [
    "Now that your web app is working, trying playing around with it and see how well it works.\n",
    "\n",
    "**Question**: Give an example of a review that you entered into your web app. What was the predicted sentiment of your example review?"
   ]
  },
  {
   "cell_type": "markdown",
   "metadata": {},
   "source": [
    "**Answer:**"
   ]
  },
  {
   "cell_type": "markdown",
   "metadata": {},
   "source": [
    "### Delete the endpoint\n",
    "\n",
    "Remember to always shut down your endpoint if you are no longer using it. You are charged for the length of time that the endpoint is running so if you forget and leave it on you could end up with an unexpectedly large bill."
   ]
  },
  {
   "cell_type": "code",
   "execution_count": null,
   "metadata": {},
   "outputs": [],
   "source": [
    "predictor.delete_endpoint()"
   ]
  },
  {
   "cell_type": "code",
   "execution_count": null,
   "metadata": {},
   "outputs": [],
   "source": []
  }
 ],
 "metadata": {
  "kernelspec": {
   "display_name": "conda_pytorch_p36",
   "language": "python",
   "name": "conda_pytorch_p36"
  },
  "language_info": {
   "codemirror_mode": {
    "name": "ipython",
    "version": 3
   },
   "file_extension": ".py",
   "mimetype": "text/x-python",
   "name": "python",
   "nbconvert_exporter": "python",
   "pygments_lexer": "ipython3",
   "version": "3.6.5"
  }
 },
 "nbformat": 4,
 "nbformat_minor": 2
}
